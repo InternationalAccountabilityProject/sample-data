{
 "metadata": {
  "name": "",
  "signature": "sha256:28869aae75a88c7e6e6419502a5e747506308b748d4a239e5849de6fd55a59d4"
 },
 "nbformat": 3,
 "nbformat_minor": 0,
 "worksheets": [
  {
   "cells": [
    {
     "cell_type": "heading",
     "level": 1,
     "metadata": {},
     "source": [
      "Preparation"
     ]
    },
    {
     "cell_type": "markdown",
     "metadata": {},
     "source": [
      "1) mapping:\n",
      "\n",
      "* use json-schema-merge to make empty format for map\n",
      "* map the open contracting format to the canadian fields\n",
      "* (see the mappings in the mappings folder under buyandsell in this repo)\n",
      "\n",
      "2) prepare the data:\n",
      "\n",
      "* some custom preprocessing for the canadian data to get reference on contract history data\n",
      "* use mapper - mapper.py to get three sets of release data\n",
      "* (see the releases data in the ocds_data folder under buyandsell in this repo)\n",
      "\n",
      "\n",
      "3) turn releases into raw records (just the releases array with the releases grouped by ocid):\n",
      "\n",
      "* use compiler - compile.py to get compiled record - with just the releases\n",
      "* (see the compiled record in the ocds_data folder under buyandsell in this repo)"
     ]
    },
    {
     "cell_type": "code",
     "collapsed": false,
     "input": [
      "import jsonmerge\n",
      "import json\n",
      "from jsonschema import validate\n",
      "from collections import defaultdict\n",
      "from operator import itemgetter\n",
      "from copy import deepcopy"
     ],
     "language": "python",
     "metadata": {},
     "outputs": [],
     "prompt_number": 3
    },
    {
     "cell_type": "code",
     "collapsed": false,
     "input": [
      "with open('nulling_a_release/demo_record_empty.json', 'rb') as f:\n",
      "    demo_record = json.loads(f.read())"
     ],
     "language": "python",
     "metadata": {},
     "outputs": [],
     "prompt_number": 4
    },
    {
     "cell_type": "code",
     "collapsed": false,
     "input": [
      "len(demo_record['releases'])"
     ],
     "language": "python",
     "metadata": {},
     "outputs": [
      {
       "metadata": {},
       "output_type": "pyout",
       "prompt_number": 5,
       "text": [
        "22"
       ]
      }
     ],
     "prompt_number": 5
    },
    {
     "cell_type": "heading",
     "level": 2,
     "metadata": {},
     "source": [
      "Make a compiledRelease"
     ]
    },
    {
     "cell_type": "code",
     "collapsed": false,
     "input": [
      "# Compile the record with the releases from file\n",
      "\n",
      "with open('../../../standard/standard/schema/release-schema.json', 'rb') as f:\n",
      "    release_schema = json.loads(f.read())\n",
      "\n",
      "base = None\n",
      "for i in xrange(len(demo_record['releases'])):\n",
      "    file_name = 'nulling_a_release/full_release_%s.json' %(i)\n",
      "    with open(file_name, 'rb') as f:\n",
      "        full_release = json.loads(f.read())\n",
      "    base = jsonmerge.merge(base, full_release, release_schema)\n",
      "\n",
      "demo_record.update({\n",
      "    \"compiledRelease\": base\n",
      "})\n",
      "     "
     ],
     "language": "python",
     "metadata": {},
     "outputs": [],
     "prompt_number": 6
    },
    {
     "cell_type": "code",
     "collapsed": false,
     "input": [
      "print len(demo_record['compiledRelease']['awards'])\n",
      "print len(demo_record['compiledRelease']['contracts'])"
     ],
     "language": "python",
     "metadata": {},
     "outputs": [
      {
       "output_type": "stream",
       "stream": "stdout",
       "text": [
        "7\n",
        "7\n"
       ]
      }
     ],
     "prompt_number": 7
    },
    {
     "cell_type": "heading",
     "level": 2,
     "metadata": {},
     "source": [
      "Make a versionedRelease"
     ]
    },
    {
     "cell_type": "code",
     "collapsed": false,
     "input": [
      "with open('../../../standard/standard/schema/versioned-release-schema.json', 'rb') as f:\n",
      "    versioned_release_schema = json.loads(f.read())\n",
      "\n",
      "base = None\n",
      "for i in xrange(len(demo_record['releases'])):\n",
      "    file_name = 'nulling_a_release/full_release_%s.json' %(i)\n",
      "    with open(file_name, 'rb') as f:\n",
      "        full_release = json.loads(f.read())\n",
      "    base = jsonmerge.merge(base, full_release, versioned_release_schema)\n",
      "    \n",
      "demo_record.update({\n",
      "    \"versionedRelease\": base\n",
      "})"
     ],
     "language": "python",
     "metadata": {},
     "outputs": [],
     "prompt_number": 8
    },
    {
     "cell_type": "code",
     "collapsed": false,
     "input": [
      "print len(demo_record['versionedRelease']['awards'])\n",
      "print len(demo_record['versionedRelease']['contracts'])"
     ],
     "language": "python",
     "metadata": {},
     "outputs": [
      {
       "output_type": "stream",
       "stream": "stdout",
       "text": [
        "7\n",
        "7\n"
       ]
      }
     ],
     "prompt_number": 9
    },
    {
     "cell_type": "heading",
     "level": 2,
     "metadata": {},
     "source": [
      "Compare sample values from compiledRelease and versionedRelease"
     ]
    },
    {
     "cell_type": "markdown",
     "metadata": {},
     "source": [
      "Note that the releaseDate is the same in both as it wasn't available in the data, so we set it to a constant."
     ]
    },
    {
     "cell_type": "code",
     "collapsed": false,
     "input": [
      "print 'compiled: ' + str(demo_record['compiledRelease']['awards'][2]['awardID'])\n",
      "print 'compiled: ' + str(demo_record['compiledRelease']['awards'][2]['awardDate'])\n",
      "print 'versioned: ' + json.dumps(demo_record['versionedRelease']['awards'][2]['awardDate'], indent=1)\n",
      "\n",
      "print 'The value is now empty'"
     ],
     "language": "python",
     "metadata": {},
     "outputs": [
      {
       "output_type": "stream",
       "stream": "stdout",
       "text": [
        "compiled: W8486-137717/005/BL\n",
        "compiled: \n",
        "versioned: [\n",
        " {\n",
        "  \"releaseDate\": \"2014-07-26\", \n",
        "  \"releaseID\": \"Buyandsell.gc.ca-20140918-303d545d-e07c-433a-bc59-6cb93dbff53f\", \n",
        "  \"releaseTag\": \"awardNotice\", \n",
        "  \"value\": \"2013-05-15\"\n",
        " }, \n",
        " {\n",
        "  \"releaseDate\": \"2014-07-26\", \n",
        "  \"releaseID\": \"Buyandsell.gc.ca-2014-07-26-3181a8bf-4d6c-4836-8456-b369509db12f\", \n",
        "  \"releaseTag\": \"contractAmendment\", \n",
        "  \"value\": \"2013-06-10\"\n",
        " }, \n",
        " {\n",
        "  \"releaseDate\": \"2014-07-26\", \n",
        "  \"releaseID\": \"Buyandsell.gc.ca-2014-07-26-11b38b08-131b-4d85-bc17-ee240fd03d1b\", \n",
        "  \"releaseTag\": \"contractAmendment\", \n",
        "  \"value\": \"\"\n",
        " }\n",
        "]\n",
        "The value is now empty\n"
       ]
      }
     ],
     "prompt_number": 10
    }
   ],
   "metadata": {}
  }
 ]
}