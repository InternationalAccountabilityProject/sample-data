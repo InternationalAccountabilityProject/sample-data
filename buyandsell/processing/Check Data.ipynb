{
 "metadata": {
  "name": "",
  "signature": "sha256:525d32ce308dd513e9d9edd21646e33f6c638333b755d22f5b7d1d2dc6014510"
 },
 "nbformat": 3,
 "nbformat_minor": 0,
 "worksheets": [
  {
   "cells": [
    {
     "cell_type": "code",
     "collapsed": false,
     "input": [
      "from ocds_compiler import compile\n",
      "import json\n",
      "import pandas as pd"
     ],
     "language": "python",
     "metadata": {},
     "outputs": [],
     "prompt_number": 2
    },
    {
     "cell_type": "heading",
     "level": 3,
     "metadata": {},
     "source": [
      "Tenders Data"
     ]
    },
    {
     "cell_type": "code",
     "collapsed": false,
     "input": [
      "with open('../ocds_data/tender_releases.json', 'rb') as f:\n",
      "    tenders = json.loads(f.read())"
     ],
     "language": "python",
     "metadata": {},
     "outputs": [],
     "prompt_number": 3
    },
    {
     "cell_type": "code",
     "collapsed": false,
     "input": [
      "num_releases = len(tenders['releases'])\n",
      "num_releases"
     ],
     "language": "python",
     "metadata": {},
     "outputs": [
      {
       "metadata": {},
       "output_type": "pyout",
       "prompt_number": 4,
       "text": [
        "5513"
       ]
      }
     ],
     "prompt_number": 4
    },
    {
     "cell_type": "code",
     "collapsed": false,
     "input": [
      "tenders_releases = tenders['releases']\n",
      "tenders_df = pd.io.json.json_normalize(tenders_releases)\n",
      "tenders_df.ocid.value_counts()"
     ],
     "language": "python",
     "metadata": {},
     "outputs": [
      {
       "metadata": {},
       "output_type": "pyout",
       "prompt_number": 5,
       "text": [
        "PW-$$XL-112-25006    1\n",
        "PW-13-00508970       1\n",
        "PW-14-00635480       1\n",
        "PW-14-00642681       1\n",
        "PW-14-00644956       1\n",
        "PW-13-00507705       1\n",
        "PW-$TOR-003-5894     1\n",
        "PW-14-00613855       1\n",
        "PW-14-00635486       1\n",
        "PW-$$HN-354-63076    1\n",
        "PW-$HAL-321-8883     1\n",
        "PW-13-00539591       1\n",
        "PW-14-00625476       1\n",
        "PW-$KIN-508-5966     1\n",
        "PW-13-00357886       1\n",
        "...\n",
        "PW-13-00363222       1\n",
        "PW-$HAL-403-9065     1\n",
        "PW-14-00611484       1\n",
        "PW-13-00354285       1\n",
        "PW-13-00548963       1\n",
        "PW-$$ZH-113-27647    1\n",
        "PW-13-00540171       1\n",
        "PW-$MTC-775-12041    1\n",
        "PW-$TOR-302-6494     1\n",
        "PW-$$HP-923-60596    1\n",
        "PW-14-00644088       1\n",
        "PW-14-00639793       1\n",
        "PW-14-00614454       1\n",
        "PW-14-00614455       1\n",
        "PW-13-00536287       1\n",
        "Length: 5513, dtype: int64"
       ]
      }
     ],
     "prompt_number": 5
    },
    {
     "cell_type": "heading",
     "level": 3,
     "metadata": {},
     "source": [
      "Awards Data"
     ]
    },
    {
     "cell_type": "code",
     "collapsed": false,
     "input": [
      "with open('../ocds_data/awards_releases.json', 'rb') as f:\n",
      "    awards = json.loads(f.read())\n",
      "len(awards['releases'])"
     ],
     "language": "python",
     "metadata": {},
     "outputs": [
      {
       "metadata": {},
       "output_type": "pyout",
       "prompt_number": 6,
       "text": [
        "28945"
       ]
      }
     ],
     "prompt_number": 6
    },
    {
     "cell_type": "code",
     "collapsed": false,
     "input": [
      "awards_releases = awards['releases']\n",
      "awards_df = pd.io.json.json_normalize(awards_releases)\n",
      "awards_df.ocid.value_counts()"
     ],
     "language": "python",
     "metadata": {},
     "outputs": [
      {
       "metadata": {},
       "output_type": "pyout",
       "prompt_number": 8,
       "text": [
        "PW-$$LP-011-63102    551\n",
        "PW-$$LP-011-63100    550\n",
        "PW-$$LP-011-63101    501\n",
        "PW-$$LP-011-60843    463\n",
        "PW-$$LP-011-60840    453\n",
        "PW-$$LP-011-60841    453\n",
        "PW-$$ZN-003-25969    215\n",
        "PW-$$ZN-001-22890    178\n",
        "PW-$$LP-011-60839    154\n",
        "PW-$$ZN-002-24060    116\n",
        "PW-$$EE-015-22221    108\n",
        "PW-$$LP-011-63099    104\n",
        "PW-$$ZN-016-22886     99\n",
        "PW-$$ZN-017-25970     80\n",
        "PW-$TOR-302-6586      68\n",
        "...\n",
        "PW-$QCN-016-15692    1\n",
        "PW-$$HN-333-60626    1\n",
        "PW-$WPG-108-8148     1\n",
        "PW-$WPG-108-8149     1\n",
        "PW-$PWU-014-9655     1\n",
        "PW-$TOR-015-6202     1\n",
        "PW-$TOR-015-6201     1\n",
        "PW-$$FK-274-64950    1\n",
        "PW-$$XL-122-25871    1\n",
        "PW-$WPG-108-8493     1\n",
        "PW-$STN-197-4448     1\n",
        "PW-$PWL-023-1730     1\n",
        "PW-$$PV-915-64325    1\n",
        "PW-$$CX-027-61004    1\n",
        "PW-$$EE-037-27634    1\n",
        "Length: 20965, dtype: int64"
       ]
      }
     ],
     "prompt_number": 8
    },
    {
     "cell_type": "code",
     "collapsed": false,
     "input": [
      "award_orig_df = pd.read_csv(\"../original/tpsgc-pwgsc_aa-a - awarded_english.csv\")"
     ],
     "language": "python",
     "metadata": {},
     "outputs": [],
     "prompt_number": 9
    },
    {
     "cell_type": "code",
     "collapsed": false,
     "input": [
      "award_orig_df.columns"
     ],
     "language": "python",
     "metadata": {},
     "outputs": [
      {
       "metadata": {},
       "output_type": "pyout",
       "prompt_number": 10,
       "text": [
        "Index([u'language', u'procurement_entity_name', u'title', u'reference_number', u'solicitation_number', u'contract_sequence_number', u'contract_number', u'publishing_status', u'award_date', u'publication_date', u'amendment_date', u'gsin', u'contract_award_procedure', u'tendering_procedure', u'procurement_entity', u'end_user_entity', u'customer_info', u'description', u'access_terms_of_use', u'supplier_info', u'currency', u'contract_value'], dtype='object')"
       ]
      }
     ],
     "prompt_number": 10
    },
    {
     "cell_type": "code",
     "collapsed": false,
     "input": [
      "awards_551 = award_orig_df[award_orig_df.reference_number == 'PW-$$LP-011-63102']"
     ],
     "language": "python",
     "metadata": {},
     "outputs": [],
     "prompt_number": 22
    },
    {
     "cell_type": "code",
     "collapsed": false,
     "input": [
      "awards_551.contract_number.value_counts()"
     ],
     "language": "python",
     "metadata": {},
     "outputs": [
      {
       "metadata": {},
       "output_type": "pyout",
       "prompt_number": 23,
       "text": [
        "E60LP-130004/598/LP    1\n",
        "E60LP-130004/341/LP    1\n",
        "E60LP-130004/336/LP    1\n",
        "E60LP-130004/120/LP    1\n",
        "E60LP-130004/663/LP    1\n",
        "E60LP-130004/122/LP    1\n",
        "E60LP-130004/519/LP    1\n",
        "E60LP-130004/008/LP    1\n",
        "E60LP-130004/629/LP    1\n",
        "E60LP-130004/527/LP    1\n",
        "E60LP-130004/625/LP    1\n",
        "E60LP-130004/530/LP    1\n",
        "E60LP-130004/133/LP    1\n",
        "E60LP-130004/138/LP    1\n",
        "E60LP-130004/090/LP    1\n",
        "...\n",
        "E60LP-130004/177/LP    1\n",
        "E60LP-130004/038/LP    1\n",
        "E60LP-130004/584/LP    1\n",
        "E60LP-130004/370/LP    1\n",
        "E60LP-130004/435/LP    1\n",
        "E60LP-130004/041/LP    1\n",
        "E60LP-130004/537/LP    1\n",
        "E60LP-130004/044/LP    1\n",
        "E60LP-130004/346/LP    1\n",
        "E60LP-130004/617/LP    1\n",
        "E60LP-130004/173/LP    1\n",
        "E60LP-130004/615/LP    1\n",
        "E60LP-130004/580/LP    1\n",
        "E60LP-130004/420/LP    1\n",
        "E60LP-130004/662/LP    1\n",
        "Length: 551, dtype: int64"
       ]
      }
     ],
     "prompt_number": 23
    },
    {
     "cell_type": "code",
     "collapsed": false,
     "input": [
      "multiple_contract_numers = award_orig_df.contract_number.value_counts() > 1"
     ],
     "language": "python",
     "metadata": {},
     "outputs": [],
     "prompt_number": 14
    },
    {
     "cell_type": "code",
     "collapsed": false,
     "input": [
      "for cn in multiple_contract_numers.index:\n",
      "    if multiple_contract_numers[cn]:\n",
      "        rep_contract_sample = award_orig_df[award_orig_df.contract_number == cn]\n",
      "        print_title = True\n",
      "        for column in rep_contract_sample.columns:\n",
      "            if len(rep_contract_sample[column].value_counts()) > 1:\n",
      "                if print_title:\n",
      "                    print '*****'\n",
      "                    print cn\n",
      "                    print '------'\n",
      "                print column\n",
      "                print_title = False"
     ],
     "language": "python",
     "metadata": {},
     "outputs": [
      {
       "output_type": "stream",
       "stream": "stdout",
       "text": [
        "*****\n",
        "Cancelled\n",
        "------\n",
        "title\n",
        "reference_number\n",
        "solicitation_number\n",
        "award_date\n",
        "gsin\n",
        "description\n",
        "supplier_info\n",
        "*****\n",
        "53000-130001/001/QCM\n",
        "------\n",
        "title\n",
        "award_date\n",
        "publication_date\n",
        "customer_info\n",
        "description\n",
        "supplier_info\n",
        "contract_value\n",
        "*****\n",
        "05005-13-0359\n",
        "------\n",
        "reference_number\n",
        "contract_sequence_number\n",
        "supplier_info\n",
        "*****\n",
        "50100-14-2004417\n",
        "------\n",
        "title\n",
        "reference_number\n",
        "description"
       ]
      },
      {
       "output_type": "stream",
       "stream": "stdout",
       "text": [
        "\n",
        "supplier_info\n",
        "*****\n",
        "51000-13-1956884\n",
        "------\n",
        "reference_number\n",
        "supplier_info\n",
        "*****\n",
        "W8482-134941/01-GRK33\n",
        "------\n",
        "reference_number\n",
        "publication_date\n",
        "supplier_info\n",
        "*****\n",
        "7188344\n",
        "------\n",
        "title\n",
        "reference_number\n",
        "publishing_status\n",
        "*****\n",
        "CANCELLED/ANNUL\u00c9\n",
        "------\n",
        "title\n",
        "reference_number\n",
        "solicitation_number\n",
        "award_date"
       ]
      },
      {
       "output_type": "stream",
       "stream": "stdout",
       "text": [
        "\n",
        "publication_date\n",
        "gsin\n",
        "customer_info\n",
        "description\n",
        "*****\n",
        "52/7011791\n",
        "------\n",
        "title\n",
        "reference_number\n",
        "solicitation_number\n",
        "publishing_status\n",
        "publication_date\n",
        "gsin\n",
        "supplier_info\n",
        "*****\n",
        "No Bids Received\n",
        "------\n",
        "title\n",
        "reference_number\n",
        "solicitation_number\n",
        "contract_sequence_number\n",
        "award_date\n",
        "publication_date\n",
        "gsin\n",
        "customer_info\n",
        "description\n",
        "*****"
       ]
      },
      {
       "output_type": "stream",
       "stream": "stdout",
       "text": [
        "\n",
        "7188891\n",
        "------\n",
        "title\n",
        "reference_number\n",
        "award_date\n",
        "publication_date\n",
        "customer_info\n",
        "description\n",
        "supplier_info\n",
        "contract_value\n",
        "*****\n",
        "W8482-134993/01-GRK33\n",
        "------\n",
        "reference_number\n",
        "publication_date\n",
        "*****\n",
        "50100-14-1984360\n",
        "------\n",
        "tendering_procedure\n",
        "*****\n",
        "52/7011790\n",
        "------\n",
        "amendment_date\n",
        "*****"
       ]
      },
      {
       "output_type": "stream",
       "stream": "stdout",
       "text": [
        "\n",
        "7195372\n",
        "------\n",
        "publication_date\n",
        "contract_value\n",
        "*****\n",
        "DND-13/0026212\n",
        "------\n",
        "title\n",
        "reference_number\n",
        "solicitation_number\n",
        "gsin\n",
        "description\n",
        "supplier_info\n",
        "*****\n",
        "50400-14-2017257\n",
        "------\n",
        "title\n",
        "publishing_status\n",
        "award_date\n",
        "publication_date\n",
        "description\n",
        "contract_value\n",
        "*****\n",
        "52039-14-2008486\n",
        "------\n",
        "title\n",
        "reference_number\n",
        "description\n",
        "*****\n",
        "53800-14-1994379\n",
        "------\n",
        "reference_number\n",
        "supplier_info"
       ]
      },
      {
       "output_type": "stream",
       "stream": "stdout",
       "text": [
        "\n",
        "*****\n",
        "7189449\n",
        "------\n",
        "title\n",
        "reference_number\n",
        "publication_date\n",
        "gsin\n",
        "description\n",
        "supplier_info\n",
        "contract_value\n"
       ]
      }
     ],
     "prompt_number": 15
    },
    {
     "cell_type": "code",
     "collapsed": false,
     "input": [
      "same_contract_and_reference_number = ['53000-130001/001/QCM',\n",
      "'50100-14-1984360',\n",
      "'50100-14-1984360',\n",
      "'52/7011790',\n",
      "'7195372',\n",
      "'50400-14-2017257']\n"
     ],
     "language": "python",
     "metadata": {},
     "outputs": [],
     "prompt_number": 16
    },
    {
     "cell_type": "code",
     "collapsed": false,
     "input": [
      "award_orig_df[award_orig_df.contract_number == '53000-130001/001/QCM'].loc[:,['title', 'award_date', 'publication_date', 'customer_info', 'description', 'supplier_info', 'contract_value']]"
     ],
     "language": "python",
     "metadata": {},
     "outputs": [
      {
       "html": [
        "<div style=\"max-height:1000px;max-width:1500px;overflow:auto;\">\n",
        "<table border=\"1\" class=\"dataframe\">\n",
        "  <thead>\n",
        "    <tr style=\"text-align: right;\">\n",
        "      <th></th>\n",
        "      <th>title</th>\n",
        "      <th>award_date</th>\n",
        "      <th>publication_date</th>\n",
        "      <th>customer_info</th>\n",
        "      <th>description</th>\n",
        "      <th>supplier_info</th>\n",
        "      <th>contract_value</th>\n",
        "    </tr>\n",
        "  </thead>\n",
        "  <tbody>\n",
        "    <tr>\n",
        "      <th>22288</th>\n",
        "      <td> Construction of temporary causeway bridge betw...</td>\n",
        "      <td> 2013-08-21</td>\n",
        "      <td> 2013-09-30</td>\n",
        "      <td> THE JACQUES CARTIER AND CHAMPLAIN BRIDGES INCO...</td>\n",
        "      <td> Trade Agreement: Agreement on Internal Trade (...</td>\n",
        "      <td> EBC-Pomerleau, PJCC 62000 s.e.n.c.\\n1095, rue ...</td>\n",
        "      <td>  58004887.5</td>\n",
        "    </tr>\n",
        "    <tr>\n",
        "      <th>26171</th>\n",
        "      <td> Construction of temporary causeway bridge betw...</td>\n",
        "      <td> 2013-08-20</td>\n",
        "      <td> 2013-08-20</td>\n",
        "      <td> The Jacques Cartier and Champlain Bridges Inco...</td>\n",
        "      <td> Tender Notice Reference Number: PW-$QCM-003-15...</td>\n",
        "      <td> EBC-Pomerleau PJCC 62000 s.e.n.c.\\n3900 rue Is...</td>\n",
        "      <td> 58004887.57</td>\n",
        "    </tr>\n",
        "  </tbody>\n",
        "</table>\n",
        "</div>"
       ],
       "metadata": {},
       "output_type": "pyout",
       "prompt_number": 17,
       "text": [
        "                                                   title  award_date  \\\n",
        "22288  Construction of temporary causeway bridge betw...  2013-08-21   \n",
        "26171  Construction of temporary causeway bridge betw...  2013-08-20   \n",
        "\n",
        "      publication_date                                      customer_info  \\\n",
        "22288       2013-09-30  THE JACQUES CARTIER AND CHAMPLAIN BRIDGES INCO...   \n",
        "26171       2013-08-20  The Jacques Cartier and Champlain Bridges Inco...   \n",
        "\n",
        "                                             description  \\\n",
        "22288  Trade Agreement: Agreement on Internal Trade (...   \n",
        "26171  Tender Notice Reference Number: PW-$QCM-003-15...   \n",
        "\n",
        "                                           supplier_info contract_value  \n",
        "22288  EBC-Pomerleau, PJCC 62000 s.e.n.c.\\n1095, rue ...     58004887.5  \n",
        "26171  EBC-Pomerleau PJCC 62000 s.e.n.c.\\n3900 rue Is...    58004887.57  "
       ]
      }
     ],
     "prompt_number": 17
    },
    {
     "cell_type": "code",
     "collapsed": false,
     "input": [
      "award_orig_df[award_orig_df.contract_number == '50100-14-1984360'].loc[:,['tendering_procedure', 'publication_date']]"
     ],
     "language": "python",
     "metadata": {},
     "outputs": [
      {
       "html": [
        "<div style=\"max-height:1000px;max-width:1500px;overflow:auto;\">\n",
        "<table border=\"1\" class=\"dataframe\">\n",
        "  <thead>\n",
        "    <tr style=\"text-align: right;\">\n",
        "      <th></th>\n",
        "      <th>tendering_procedure</th>\n",
        "      <th>publication_date</th>\n",
        "    </tr>\n",
        "  </thead>\n",
        "  <tbody>\n",
        "    <tr>\n",
        "      <th>26993</th>\n",
        "      <td> Selective</td>\n",
        "      <td> 2014-05-13</td>\n",
        "    </tr>\n",
        "    <tr>\n",
        "      <th>26994</th>\n",
        "      <td>      Open</td>\n",
        "      <td> 2014-05-13</td>\n",
        "    </tr>\n",
        "  </tbody>\n",
        "</table>\n",
        "</div>"
       ],
       "metadata": {},
       "output_type": "pyout",
       "prompt_number": 18,
       "text": [
        "      tendering_procedure publication_date\n",
        "26993           Selective       2014-05-13\n",
        "26994                Open       2014-05-13"
       ]
      }
     ],
     "prompt_number": 18
    },
    {
     "cell_type": "heading",
     "level": 3,
     "metadata": {},
     "source": [
      "Award data - summary"
     ]
    },
    {
     "cell_type": "markdown",
     "metadata": {},
     "source": [
      "There are a bunch of awards with the same ocid (originally reference_number), many of these are standing offers, or framework contracts, so this will be a good test for sticking that all together. These are identified by having a distinct contract_number. \n",
      "\n",
      "There are another small set where the contract number is the same, but the ocid/reference_number is different. Some of these have the contract number \"Cancelled\" or something like that, but some are linke \"05005-13-0359\" - not sure what's going on there, but it won't cause Open Contracting a problem because the ocid is different so they'll end up in different records (would be interesting to talk to buyandsell about why this happens).\n",
      "\n",
      "Finally there are items with the same contract number and the same reference number. These appear to be minor updates and so are a good test of record creation. These are the ones in the list \"same_contract_and_reference_number.\"\n",
      "\n",
      "Need to make sure the awards are correctly merged between releases."
     ]
    },
    {
     "cell_type": "heading",
     "level": 3,
     "metadata": {},
     "source": [
      "Contracts Data"
     ]
    },
    {
     "cell_type": "code",
     "collapsed": false,
     "input": [
      "with open('../ocds_data/contracts_releases_compact.json', 'rb') as f:\n",
      "    contracts = json.loads(f.read())\n",
      "len(contracts['releases'])"
     ],
     "language": "python",
     "metadata": {},
     "outputs": [
      {
       "metadata": {},
       "output_type": "pyout",
       "prompt_number": 20,
       "text": [
        "43086"
       ]
      }
     ],
     "prompt_number": 20
    },
    {
     "cell_type": "code",
     "collapsed": false,
     "input": [
      "contracts_releases = contracts['releases']\n",
      "contracts_df = pd.io.json.json_normalize(contracts_releases)\n",
      "contracts_df.ocid.value_counts()"
     ],
     "language": "python",
     "metadata": {},
     "outputs": [
      {
       "metadata": {},
       "output_type": "pyout",
       "prompt_number": 21,
       "text": [
        "PW-$$LP-011-63100    577\n",
        "PW-$$LP-011-63102    553\n",
        "PW-$$ZN-001-22890    536\n",
        "PW-$$LP-011-63101    511\n",
        "PW-$$LP-011-60843    465\n",
        "PW-$$LP-011-60840    461\n",
        "PW-$$LP-011-60841    455\n",
        "PW-$$ZN-002-24060    362\n",
        "PW-$$ZN-016-22886    196\n",
        "PW-$$LP-011-60839    157\n",
        "PW-$$EE-015-22221    140\n",
        "PW-$TOR-011-5908     118\n",
        "PW-$$ZG-415-23504    115\n",
        "PW-$$LP-011-63099    108\n",
        "PW-$$ZN-004-24061    107\n",
        "...\n",
        "PW-$MTA-560-12205    1\n",
        "PW-$PWU-011-9532     1\n",
        "PW-$$LP-004-59607    1\n",
        "PW-$$LP-004-59606    1\n",
        "PW-$QCR-105-14463    1\n",
        "PW-$EDM-183-9966     1\n",
        "PW-$$LP-004-59601    1\n",
        "PW-$$LP-004-59600    1\n",
        "PW-$EDM-023-9884     1\n",
        "PW-$$ML-035-22592    1\n",
        "PW-$$FG-207-64295    1\n",
        "PW-$EDM-023-9885     1\n",
        "PW-$VIC-211-6310     1\n",
        "PW-$$HN-324-63137    1\n",
        "PW-$$EE-037-27634    1\n",
        "Length: 19173, dtype: int64"
       ]
      }
     ],
     "prompt_number": 21
    },
    {
     "cell_type": "code",
     "collapsed": false,
     "input": [
      "contract_orig_df = pd.read_csv(\"contract_history_that_has_reference_number.csv\")"
     ],
     "language": "python",
     "metadata": {},
     "outputs": [
      {
       "output_type": "stream",
       "stream": "stderr",
       "text": [
        "/home/bird/Dev/.virtualenvs/opencontracting_sampledata/local/lib/python2.7/site-packages/pandas/io/parsers.py:1139: DtypeWarning: Columns (37,38) have mixed types. Specify dtype option on import or set low_memory=False.\n",
        "  data = self._reader.read(nrows)\n"
       ]
      }
     ],
     "prompt_number": 24
    },
    {
     "cell_type": "code",
     "collapsed": false,
     "input": [
      "contracts_551 = contract_orig_df[contract_orig_df.reference_number == 'PW-$$LP-011-63102']"
     ],
     "language": "python",
     "metadata": {},
     "outputs": [],
     "prompt_number": 25
    },
    {
     "cell_type": "code",
     "collapsed": false,
     "input": [
      "contracts_551.contract_number.value_counts()"
     ],
     "language": "python",
     "metadata": {},
     "outputs": [
      {
       "metadata": {},
       "output_type": "pyout",
       "prompt_number": 27,
       "text": [
        "E60LP-130004/019/LP    2\n",
        "E60LP-130004/265/LP    2\n",
        "E60LP-130004/120/LP    1\n",
        "E60LP-130004/290/LP    1\n",
        "E60LP-130004/592/LP    1\n",
        "E60LP-130004/426/LP    1\n",
        "E60LP-130004/562/LP    1\n",
        "E60LP-130004/300/LP    1\n",
        "E60LP-130004/336/LP    1\n",
        "E60LP-130004/598/LP    1\n",
        "E60LP-130004/097/LP    1\n",
        "E60LP-130004/663/LP    1\n",
        "E60LP-130004/122/LP    1\n",
        "E60LP-130004/519/LP    1\n",
        "E60LP-130004/341/LP    1\n",
        "...\n",
        "E60LP-130004/537/LP    1\n",
        "E60LP-130004/346/LP    1\n",
        "E60LP-130004/617/LP    1\n",
        "E60LP-130004/173/LP    1\n",
        "E60LP-130004/615/LP    1\n",
        "E60LP-130004/580/LP    1\n",
        "E60LP-130004/420/LP    1\n",
        "E60LP-130004/627/LP    1\n",
        "E60LP-130004/026/LP    1\n",
        "E60LP-130004/454/LP    1\n",
        "E60LP-130004/569/LP    1\n",
        "E60LP-130004/233/LP    1\n",
        "E60LP-130004/241/LP    1\n",
        "E60LP-130004/319/LP    1\n",
        "E60LP-130004/662/LP    1\n",
        "Length: 551, dtype: int64"
       ]
      }
     ],
     "prompt_number": 27
    },
    {
     "cell_type": "code",
     "collapsed": false,
     "input": [],
     "language": "python",
     "metadata": {},
     "outputs": []
    }
   ],
   "metadata": {}
  }
 ]
}