{
 "metadata": {
  "name": "",
  "signature": "sha256:11bf87a58539b8179bb7f5b202ba87ce62bbfb8b40f6fabcdbdc327f5f7c8c89"
 },
 "nbformat": 3,
 "nbformat_minor": 0,
 "worksheets": [
  {
   "cells": [
    {
     "cell_type": "code",
     "collapsed": false,
     "input": [
      "from ocds_compiler import compile\n",
      "import json\n",
      "import pandas as pd"
     ],
     "language": "python",
     "metadata": {},
     "outputs": [],
     "prompt_number": 40
    },
    {
     "cell_type": "heading",
     "level": 3,
     "metadata": {},
     "source": [
      "Tenders Data"
     ]
    },
    {
     "cell_type": "code",
     "collapsed": false,
     "input": [
      "with open('../ocds_data/tender_releases.json', 'rb') as f:\n",
      "    tenders = json.loads(f.read())"
     ],
     "language": "python",
     "metadata": {},
     "outputs": [],
     "prompt_number": 41
    },
    {
     "cell_type": "code",
     "collapsed": false,
     "input": [
      "num_releases = len(tenders['releases'])\n",
      "num_releases"
     ],
     "language": "python",
     "metadata": {},
     "outputs": [
      {
       "metadata": {},
       "output_type": "pyout",
       "prompt_number": 42,
       "text": [
        "5513"
       ]
      }
     ],
     "prompt_number": 42
    },
    {
     "cell_type": "code",
     "collapsed": false,
     "input": [
      "tenders_releases = tenders['releases']"
     ],
     "language": "python",
     "metadata": {},
     "outputs": [],
     "prompt_number": 43
    },
    {
     "cell_type": "code",
     "collapsed": false,
     "input": [
      "df = pd.io.json.json_normalize(tenders_releases)"
     ],
     "language": "python",
     "metadata": {},
     "outputs": [],
     "prompt_number": 44
    },
    {
     "cell_type": "code",
     "collapsed": false,
     "input": [
      "df.ocid.value_counts()"
     ],
     "language": "python",
     "metadata": {},
     "outputs": [
      {
       "metadata": {},
       "output_type": "pyout",
       "prompt_number": 47,
       "text": [
        "PW-$$XL-112-25006    1\n",
        "PW-13-00508970       1\n",
        "PW-14-00635480       1\n",
        "PW-14-00642681       1\n",
        "PW-14-00644956       1\n",
        "PW-13-00507705       1\n",
        "PW-$TOR-003-5894     1\n",
        "PW-14-00613855       1\n",
        "PW-14-00635486       1\n",
        "PW-$$HN-354-63076    1\n",
        "PW-$HAL-321-8883     1\n",
        "PW-13-00539591       1\n",
        "PW-14-00625476       1\n",
        "PW-$KIN-508-5966     1\n",
        "PW-13-00357886       1\n",
        "...\n",
        "PW-13-00363222       1\n",
        "PW-$HAL-403-9065     1\n",
        "PW-14-00611484       1\n",
        "PW-13-00354285       1\n",
        "PW-13-00548963       1\n",
        "PW-$$ZH-113-27647    1\n",
        "PW-13-00540171       1\n",
        "PW-$MTC-775-12041    1\n",
        "PW-$TOR-302-6494     1\n",
        "PW-$$HP-923-60596    1\n",
        "PW-14-00644088       1\n",
        "PW-14-00639793       1\n",
        "PW-14-00614454       1\n",
        "PW-14-00614455       1\n",
        "PW-13-00536287       1\n",
        "Length: 5513, dtype: int64"
       ]
      }
     ],
     "prompt_number": 47
    },
    {
     "cell_type": "heading",
     "level": 3,
     "metadata": {},
     "source": [
      "Awards Data"
     ]
    },
    {
     "cell_type": "code",
     "collapsed": false,
     "input": [],
     "language": "python",
     "metadata": {},
     "outputs": []
    }
   ],
   "metadata": {}
  }
 ]
}