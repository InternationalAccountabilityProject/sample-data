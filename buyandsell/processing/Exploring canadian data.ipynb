{
 "metadata": {
  "name": "",
  "signature": "sha256:89be7bca0a3b616e009bdbcfeef5c833cae1248434ba7a54c614abe5d203e6ac"
 },
 "nbformat": 3,
 "nbformat_minor": 0,
 "worksheets": [
  {
   "cells": [
    {
     "cell_type": "code",
     "collapsed": false,
     "input": [
      "import json"
     ],
     "language": "python",
     "metadata": {},
     "outputs": [],
     "prompt_number": 1
    },
    {
     "cell_type": "code",
     "collapsed": false,
     "input": [
      "with open('../ocds_data/canada_records_linked_20140901.json', 'rb') as f:\n",
      "    records = json.loads(f.read())"
     ],
     "language": "python",
     "metadata": {},
     "outputs": [],
     "prompt_number": 2
    },
    {
     "cell_type": "code",
     "collapsed": false,
     "input": [
      "records_only = records['records']\n",
      "len(records_only)"
     ],
     "language": "python",
     "metadata": {},
     "outputs": [
      {
       "metadata": {},
       "output_type": "pyout",
       "prompt_number": 3,
       "text": [
        "26448"
       ]
      }
     ],
     "prompt_number": 3
    },
    {
     "cell_type": "code",
     "collapsed": false,
     "input": [
      "records_with_tender_release = []\n",
      "\n",
      "for record in records_only:\n",
      "    append = False\n",
      "    for release in record['releases']:\n",
      "        if release['uri'] == 'file:///home/bird/Dev/opencontracting/sample-data/buyandsell/ocds_data/tender_releases_20140901.json':\n",
      "            append = True\n",
      "    if append:\n",
      "        records_with_tender_release.append(record)\n"
     ],
     "language": "python",
     "metadata": {},
     "outputs": [],
     "prompt_number": 4
    },
    {
     "cell_type": "code",
     "collapsed": false,
     "input": [
      "len(records_with_tender_release)"
     ],
     "language": "python",
     "metadata": {},
     "outputs": [
      {
       "metadata": {},
       "output_type": "pyout",
       "prompt_number": 5,
       "text": [
        "5513"
       ]
      }
     ],
     "prompt_number": 5
    },
    {
     "cell_type": "code",
     "collapsed": false,
     "input": [
      "records_with_tender_linked = []\n",
      "for record in records_with_tender_release:\n",
      "    if len(record['releases']) > 1:\n",
      "        records_with_tender_linked.append(record)"
     ],
     "language": "python",
     "metadata": {},
     "outputs": [],
     "prompt_number": 6
    },
    {
     "cell_type": "code",
     "collapsed": false,
     "input": [
      "len(records_with_tender_linked)"
     ],
     "language": "python",
     "metadata": {},
     "outputs": [
      {
       "metadata": {},
       "output_type": "pyout",
       "prompt_number": 7,
       "text": [
        "30"
       ]
      }
     ],
     "prompt_number": 7
    },
    {
     "cell_type": "code",
     "collapsed": false,
     "input": [
      "lots_of_releases = []\n",
      "for record in records_only:\n",
      "    if len(record['releases']) > 50:\n",
      "        lots_of_releases.append(record)\n",
      "len(lots_of_releases)"
     ],
     "language": "python",
     "metadata": {},
     "outputs": [
      {
       "metadata": {},
       "output_type": "pyout",
       "prompt_number": 8,
       "text": [
        "34"
       ]
      }
     ],
     "prompt_number": 8
    },
    {
     "cell_type": "code",
     "collapsed": false,
     "input": [
      "for record in lots_of_releases:\n",
      "    print record['ocid'] + \" ---- \" + str(len(record['releases']))"
     ],
     "language": "python",
     "metadata": {},
     "outputs": [
      {
       "output_type": "stream",
       "stream": "stdout",
       "text": [
        "PW-$$CX-011-63447 ---- 60\n",
        "PW-$$EE-015-22221 ---- 248\n",
        "PW-$$HN-307-63796 ---- 59\n",
        "PW-$$LM-001-62052 ---- 114\n",
        "PW-$$LP-011-56458 ---- 74\n",
        "PW-$$LP-011-60839 ---- 311\n",
        "PW-$$LP-011-60840 ---- 914\n",
        "PW-$$LP-011-60841 ---- 908\n",
        "PW-$$LP-011-60843 ---- 928\n",
        "PW-$$LP-011-63099 ---- 212\n",
        "PW-$$LP-011-63100 ---- 1127\n",
        "PW-$$LP-011-63101 ---- 1012\n",
        "PW-$$LP-011-63102 ---- 1104\n",
        "PW-$$LP-011-63115 ---- 51\n",
        "PW-$$XL-112-23338 ---- 70\n",
        "PW-$$ZG-404-23294 ---- 77\n",
        "PW-$$ZG-415-23504 ---- 137\n",
        "PW-$$ZN-001-22890 ---- 714\n",
        "PW-$$ZN-002-24060 ---- 478\n",
        "PW-$$ZN-002-24694 ---- 80\n",
        "PW-$$ZN-003-25969 ---- 232\n",
        "PW-$$ZN-004-24061 ---- 158\n",
        "PW-$$ZN-004-24693 ---- 55\n",
        "PW-$$ZN-015-21833 ---- 52\n",
        "PW-$$ZN-016-22886 ---- 295\n",
        "PW-$$ZN-017-25970 ---- 83\n",
        "PW-$$ZQ-006-23546 ---- 77\n",
        "PW-$EDM-066-9250 ---- 127\n",
        "PW-$MCT-006-4524 ---- 63\n",
        "PW-$STN-190-4458 ---- 52\n",
        "PW-$TOR-011-5908 ---- 175\n",
        "PW-$TOR-302-6586 ---- 136\n",
        "PW-$VAN-579-6937 ---- 56\n",
        "PW-$VAN-584-6683 ---- 105\n"
       ]
      }
     ],
     "prompt_number": 9
    },
    {
     "cell_type": "code",
     "collapsed": false,
     "input": [
      "for record in records_with_tender_linked:\n",
      "    print record['ocid']"
     ],
     "language": "python",
     "metadata": {},
     "outputs": [
      {
       "output_type": "stream",
       "stream": "stdout",
       "text": [
        "PW-$$EL-602-26517\n",
        "PW-$$HN-458-65199\n",
        "PW-$$HS-620-64999\n",
        "PW-$$HS-623-65029\n",
        "PW-$$PR-758-65364\n",
        "PW-$$PV-938-65370\n",
        "PW-$$PV-941-65041\n",
        "PW-$$SS-066-26845\n",
        "PW-$$XN-105-27550\n",
        "PW-$CAL-097-6241\n",
        "PW-$HAL-403-9301\n",
        "PW-$KIN-615-6345\n",
        "PW-$MCT-018-4792\n",
        "PW-$MTA-295-12817\n",
        "PW-$MTC-025-12755\n",
        "PW-$PWA-104-5076\n",
        "PW-$QCL-026-16006\n",
        "PW-$STN-201-4693\n",
        "PW-$VAN-584-7240\n",
        "PW-$VIC-210-6352\n",
        "PW-$VIC-239-6488\n",
        "PW-$VIC-239-6512\n",
        "PW-$WPG-005-9085\n",
        "PW-$XAQ-026-6119\n",
        "PW-$XAQ-026-6120\n",
        "PW-$XSB-005-7280\n",
        "PW-14-00611500\n",
        "PW-14-00637520\n",
        "PW-14-00639606\n",
        "PW-14-00644643\n"
       ]
      }
     ],
     "prompt_number": 10
    },
    {
     "cell_type": "code",
     "collapsed": false,
     "input": [
      "record = records['records'][0]\n",
      "releases = record['releases']"
     ],
     "language": "python",
     "metadata": {},
     "outputs": [],
     "prompt_number": 11
    },
    {
     "cell_type": "code",
     "collapsed": false,
     "input": [
      "file_list = []\n",
      "for release in releases:\n",
      "    uri = release['uri']\n",
      "    if uri not in file_list:\n",
      "        file_list.append(uri)"
     ],
     "language": "python",
     "metadata": {},
     "outputs": [],
     "prompt_number": 12
    },
    {
     "cell_type": "code",
     "collapsed": false,
     "input": [
      "file_list"
     ],
     "language": "python",
     "metadata": {},
     "outputs": [
      {
       "metadata": {},
       "output_type": "pyout",
       "prompt_number": 13,
       "text": [
        "[u'file:///home/bird/Dev/opencontracting/sample-data/buyandsell/ocds_data/awards_releases_20140901.json',\n",
        " u'file:///home/bird/Dev/opencontracting/sample-data/buyandsell/ocds_data/contracts_releases_compact_20140901.json']"
       ]
      }
     ],
     "prompt_number": 13
    },
    {
     "cell_type": "code",
     "collapsed": false,
     "input": [
      "with open('/home/bird/Dev/opencontracting/sample-data/buyandsell/ocds_data/tender_releases_20140901.json', 'rb') as f:\n",
      "    tenders = json.loads(f.read())"
     ],
     "language": "python",
     "metadata": {},
     "outputs": [],
     "prompt_number": 25
    },
    {
     "cell_type": "code",
     "collapsed": false,
     "input": [
      "with open(file_list[0].split('file://')[1], 'rb') as f:\n",
      "    awards = json.loads(f.read())\n",
      "\n",
      "with open(file_list[1].split('file://')[1], 'rb') as f:\n",
      "    contracts = json.loads(f.read())"
     ],
     "language": "python",
     "metadata": {},
     "outputs": [],
     "prompt_number": 14
    },
    {
     "cell_type": "code",
     "collapsed": false,
     "input": [
      "file_map = {\n",
      "    u'file:///home/bird/Dev/opencontracting/sample-data/buyandsell/ocds_data/tender_releases_20140901.json': tenders,\n",
      "    u'file:///home/bird/Dev/opencontracting/sample-data/buyandsell/ocds_data/awards_releases_20140901.json': awards,\n",
      "    u'file:///home/bird/Dev/opencontracting/sample-data/buyandsell/ocds_data/contracts_releases_compact_20140901.json': contracts\n",
      "}"
     ],
     "language": "python",
     "metadata": {},
     "outputs": [],
     "prompt_number": 26
    },
    {
     "cell_type": "code",
     "collapsed": false,
     "input": [
      "release_list = []\n",
      "for release in releases:\n",
      "    to_find = release['uid']\n",
      "    print to_find\n",
      "    data_package = file_map[release['uri']]\n",
      "    for dpr in data_package['releases']:\n",
      "        if dpr['releaseID'] == to_find:\n",
      "            release_list.append(dpr)"
     ],
     "language": "python",
     "metadata": {},
     "outputs": [
      {
       "output_type": "stream",
       "stream": "stdout",
       "text": [
        "None-20140901-ddcc03aa-9624-4cb9-899e-e20de7b7717a\n",
        "None-20140901-a77a7623-d1da-4001-942d-1620723be99c\n",
        "None-20140901-42d5f7c1-2cd6-4622-ad37-c85503bbeec1"
       ]
      },
      {
       "output_type": "stream",
       "stream": "stdout",
       "text": [
        "\n",
        "None-20140901-ae91b1cb-0bb4-4ff5-8165-ab7ff8d97679\n",
        "None-20140901-f05ee390-1e05-4ec8-b8ca-6fd4aefcd5cf"
       ]
      },
      {
       "output_type": "stream",
       "stream": "stdout",
       "text": [
        "\n"
       ]
      }
     ],
     "prompt_number": 16
    },
    {
     "cell_type": "code",
     "collapsed": false,
     "input": [
      "for release in release_list:\n",
      "    print release['awards'][0]['awardDate']"
     ],
     "language": "python",
     "metadata": {},
     "outputs": [
      {
       "output_type": "stream",
       "stream": "stdout",
       "text": [
        "2013-03-05\n",
        "2013-03-05\n",
        "2013-08-02\n",
        "2013-12-19\n",
        "2014-01-08\n"
       ]
      }
     ],
     "prompt_number": 17
    },
    {
     "cell_type": "heading",
     "level": 1,
     "metadata": {},
     "source": [
      "Find ocid where field changes"
     ]
    },
    {
     "cell_type": "code",
     "collapsed": false,
     "input": [
      "import jsonmerge\n",
      "len(records_only)"
     ],
     "language": "python",
     "metadata": {},
     "outputs": [
      {
       "metadata": {},
       "output_type": "pyout",
       "prompt_number": 18,
       "text": [
        "26448"
       ]
      }
     ],
     "prompt_number": 18
    },
    {
     "cell_type": "code",
     "collapsed": false,
     "input": [
      "def get_release(uid_to_find, data_package):\n",
      "    for dpr in data_package['releases']:\n",
      "        if dpr['releaseID'] == uid_to_find:\n",
      "            return dpr\n",
      "        \n",
      "for record in records_only[:25]:\n",
      "    print '******* OCID: ' + record['ocid']\n",
      "    base = None\n",
      "    for release in record['releases']:\n",
      "        full_release = get_release(release['uid'], file_map[release['uri']])\n",
      "        base = jsonmerge.merge(base, full_release)"
     ],
     "language": "python",
     "metadata": {},
     "outputs": [
      {
       "output_type": "stream",
       "stream": "stdout",
       "text": [
        "******* OCID: PW-$$AO-002-23619\n",
        "base = awardNotice | head = contractAmendment\n",
        "releaseID: None-20140901-ddcc03aa-9624-4cb9-899e-e20de7b7717a\n",
        "base = DEPARTMENT OF NATIONAL DEFENCE\n",
        "101 COLONEL BY DR.\n",
        "OTTAWA\n",
        "ON\n",
        "K1A0K2\n",
        "CAN | head = Department of National Defence\n",
        "releaseID: None-20140901-ddcc03aa-9624-4cb9-899e-e20de7b7717a\n",
        "******* OCID: PW-$$AO-006-23261"
       ]
      },
      {
       "output_type": "stream",
       "stream": "stdout",
       "text": [
        "\n",
        "******* OCID: PW-$$AO-008-24195\n",
        "base = awardNotice | head = contractAmendment\n",
        "releaseID: None-20140901-4ce48d76-6a6f-4aeb-91cf-7a1b998e8364\n",
        "base = DEPARTMENT OF NATIONAL DEFENCE\n",
        "101 COLONEL BY DR.\n",
        "OTTAWA\n",
        "ON\n",
        "K1A0K2\n",
        "CAN | head = Department of National Defence\n",
        "releaseID: None-20140901-4ce48d76-6a6f-4aeb-91cf-7a1b998e8364\n",
        "******* OCID: PW-$$BB-203-8903\n",
        "******* OCID: PW-$$BB-218-16904"
       ]
      },
      {
       "output_type": "stream",
       "stream": "stdout",
       "text": [
        "\n",
        "base = awardNotice | head = contractAmendment\n",
        "releaseID: None-20140901-c29f5c4a-7c7c-4995-9cb8-2858bc8a7ed5\n",
        "base = ROYAL CANADIAN MOUNTED POLICE\n",
        "250 TREMBLAY RD\n",
        "OTTAWA\n",
        "ON\n",
        "K1A0R2\n",
        "CAN | head = Royal Canadian Mounted Police\n",
        "releaseID: None-20140901-c29f5c4a-7c7c-4995-9cb8-2858bc8a7ed5\n",
        "******* OCID: PW-$$BB-229-22078\n",
        "base = awardNotice | head = contractAmendment\n",
        "releaseID: None-20140901-a76db4fb-c932-44f7-b8d1-7398d05bbfe0\n",
        "base = DEPARTMENT OF NATIONAL DEFENCE\n",
        "DGAEPM\n",
        "101 COLONEL BY DR.\n",
        "OTTAWA\n",
        "ON\n",
        "K1A0K2\n",
        "CAN | head = Department of National Defence\n",
        "releaseID: None-20140901-a76db4fb-c932-44f7-b8d1-7398d05bbfe0\n",
        "******* OCID: PW-$$BB-229-22756\n",
        "******* OCID: PW-$$BB-233-23266\n",
        "base = awardNotice | head = contractAmendment"
       ]
      },
      {
       "output_type": "stream",
       "stream": "stdout",
       "text": [
        "\n",
        "releaseID: None-20140901-d8f92c78-a85b-4d63-a2a9-c72c509af7a6\n",
        "base = DEPARTMENT OF NATIONAL DEFENCE\n",
        "DGAEPM\n",
        "101 COLONEL BY DR.\n",
        "OTTAWA\n",
        "ON\n",
        "K1A0K2\n",
        "CAN | head = Department of National Defence\n",
        "releaseID: None-20140901-d8f92c78-a85b-4d63-a2a9-c72c509af7a6\n",
        "******* OCID: PW-$$BB-233-23866\n",
        "base = awardNotice | head = contractAmendment\n",
        "releaseID: None-20140901-5f712bc6-5d30-4ec5-8f6c-8acf789a5716\n",
        "base = DEPARTMENT OF NATIONAL DEFENCE\n",
        "DGAEPM\n",
        "101 COLONEL BY DR.\n",
        "OTTAWA\n",
        "ON\n",
        "K1A0K2\n",
        "CAN | head = Department of National Defence\n",
        "releaseID: None-20140901-5f712bc6-5d30-4ec5-8f6c-8acf789a5716\n",
        "******* OCID: PW-$$BB-233-23909\n",
        "******* OCID: PW-$$BB-233-24373\n",
        "base = awardNotice | head = contractAmendment"
       ]
      },
      {
       "output_type": "stream",
       "stream": "stdout",
       "text": [
        "\n",
        "releaseID: None-20140901-6ca9922e-07aa-443c-9f6e-66893b7ea751\n",
        "base = DEPARTMENT OF NATIONAL DEFENCE\n",
        "DGAEPM\n",
        "101 COLONEL BY DR.\n",
        "OTTAWA\n",
        "ON\n",
        "K1A0K2\n",
        "CAN | head = Department of National Defence\n",
        "releaseID: None-20140901-6ca9922e-07aa-443c-9f6e-66893b7ea751\n",
        "******* OCID: PW-$$BB-237-22518\n",
        "base = awardNotice | head = contractAmendment\n",
        "releaseID: None-20140901-7c5abe45-e738-493d-94a9-e33f3b9e65f9\n",
        "base = DEPARTMENT OF NATIONAL DEFENCE\n",
        "DGAEPM\n",
        "101 COLONEL BY DR.\n",
        "OTTAWA\n",
        "ON\n",
        "K1A0K2\n",
        "CAN | head = Department of National Defence\n",
        "releaseID: None-20140901-7c5abe45-e738-493d-94a9-e33f3b9e65f9\n",
        "******* OCID: PW-$$BB-237-22596\n",
        "base = awardNotice | head = contractAmendment\n",
        "releaseID: None-20140901-94b95942-fb32-4299-8943-a6e70fbbb039\n",
        "base = DEPARTMENT OF NATIONAL DEFENCE\n",
        "DGAEPM\n",
        "101 COLONEL BY DR.\n",
        "OTTAWA\n",
        "ON\n",
        "K1A0K2\n",
        "CAN | head = Department of National Defence\n",
        "releaseID: None-20140901-94b95942-fb32-4299-8943-a6e70fbbb039\n",
        "******* OCID: PW-$$BB-237-23974\n",
        "base = awardNotice | head = contractAmendment"
       ]
      },
      {
       "output_type": "stream",
       "stream": "stdout",
       "text": [
        "\n",
        "releaseID: None-20140901-7109207c-2422-4a5f-a13b-1da7b320d6d6\n",
        "base = DEPARTMENT OF NATIONAL DEFENCE\n",
        "DGAEPM\n",
        "101 COLONEL BY DR.\n",
        "OTTAWA\n",
        "ON\n",
        "K1A0K2\n",
        "CAN | head = Department of National Defence\n",
        "releaseID: None-20140901-7109207c-2422-4a5f-a13b-1da7b320d6d6\n",
        "******* OCID: PW-$$BB-237-23990\n",
        "******* OCID: PW-$$BB-237-24196\n",
        "******* OCID: PW-$$BB-237-24291\n",
        "******* OCID: PW-$$BB-237-24394\n",
        "base = awardNotice | head = contractAmendment\n",
        "releaseID: None-20140901-e691045f-7d19-4f97-b453-37a5a2c3b6de\n",
        "base = DEPARTMENT OF NATIONAL DEFENCE\n",
        "DGAEPM\n",
        "101 COLONEL BY DR.\n",
        "OTTAWA\n",
        "ON\n",
        "K1A0K2\n",
        "CAN | head = Department of National Defence\n",
        "releaseID: None-20140901-e691045f-7d19-4f97-b453-37a5a2c3b6de\n",
        "******* OCID: PW-$$BB-238-23241\n",
        "base = awardNotice | head = contractAmendment\n",
        "releaseID: None-20140901-e1bfeeb5-d855-4c31-a13b-d145520bad2d\n",
        "base = DEPARTMENT OF NATIONAL DEFENCE\n",
        "DGAEPM\n",
        "101 COLONEL BY DR.\n",
        "OTTAWA\n",
        "ON\n",
        "K1A0K2\n",
        "CAN | head = Department of National Defence\n",
        "releaseID: None-20140901-e1bfeeb5-d855-4c31-a13b-d145520bad2d\n",
        "******* OCID: PW-$$BB-240-23973"
       ]
      },
      {
       "output_type": "stream",
       "stream": "stdout",
       "text": [
        "\n",
        "******* OCID: PW-$$BB-241-23059\n",
        "base = awardNotice | head = contractAmendment\n",
        "releaseID: None-20140901-8a6b9886-d3e9-40fb-aa83-0c57523ea988\n",
        "base = DEPARTMENT OF NATIONAL DEFENCE\n",
        "DGAEPM\n",
        "101 COLONEL BY DR.\n",
        "OTTAWA\n",
        "ON\n",
        "K1A0K2\n",
        "CAN | head = Department of National Defence\n",
        "releaseID: None-20140901-8a6b9886-d3e9-40fb-aa83-0c57523ea988\n",
        "******* OCID: PW-$$BB-241-23477\n",
        "base = awardNotice | head = contractAmendment\n",
        "releaseID: None-20140901-58621a1f-9d43-4610-8530-e74ba4d5a5bd\n",
        "base = DEPARTMENT OF NATIONAL DEFENCE\n",
        "DGAEPM\n",
        "101 COLONEL BY DR.\n",
        "OTTAWA\n",
        "ON\n",
        "K1A0K2\n",
        "CAN | head = Department of National Defence\n",
        "releaseID: None-20140901-58621a1f-9d43-4610-8530-e74ba4d5a5bd\n",
        "******* OCID: PW-$$BB-241-24069\n",
        "base = awardNotice | head = contractAmendment"
       ]
      },
      {
       "output_type": "stream",
       "stream": "stdout",
       "text": [
        "\n",
        "releaseID: None-20140901-5904cadf-4eac-4713-bb22-058143301c52\n",
        "base = DEPARTMENT OF NATIONAL DEFENCE\n",
        "DGAEPM\n",
        "101 COLONEL BY DR.\n",
        "OTTAWA\n",
        "ON\n",
        "K1A0K2\n",
        "CAN | head = Department of National Defence\n",
        "releaseID: None-20140901-5904cadf-4eac-4713-bb22-058143301c52\n",
        "******* OCID: PW-$$BB-241-24070\n",
        "base = awardNotice | head = contractAmendment\n",
        "releaseID: None-20140901-bc57fb38-4c52-4cbe-8a03-214caa5cd9e0\n",
        "base = DEPARTMENT OF NATIONAL DEFENCE\n",
        "DGAEPM\n",
        "101 COLONEL BY DR.\n",
        "OTTAWA\n",
        "ON\n",
        "K1A0K2\n",
        "CAN | head = Department of National Defence\n",
        "releaseID: None-20140901-bc57fb38-4c52-4cbe-8a03-214caa5cd9e0\n",
        "base = MONTREAL | head = EDMONTON\n",
        "releaseID: None-20140901-77acfc6c-7a33-439c-a052-314d014949fc\n",
        "base = Quebec | head = Alberta\n",
        "releaseID: None-20140901-77acfc6c-7a33-439c-a052-314d014949fc\n",
        "base = CFSD MONTREAL | head = BLDG 236 EAST END\n",
        "releaseID: None-20140901-77acfc6c-7a33-439c-a052-314d014949fc\n",
        "base = CFSD MONTREAL | head = BLDG 236 EAST END\n",
        "releaseID: None-20140901-77acfc6c-7a33-439c-a052-314d014949fc\n",
        "base = H1N2E9 | head = T5J4J5\n",
        "releaseID: None-20140901-77acfc6c-7a33-439c-a052-314d014949fc\n",
        "******* OCID: PW-$$BB-241-24101\n",
        "base = awardNotice | head = contractAmendment"
       ]
      },
      {
       "output_type": "stream",
       "stream": "stdout",
       "text": [
        "\n",
        "releaseID: None-20140901-5d674f46-dcf4-4078-880b-5718c54304bf\n",
        "base = DEPARTMENT OF NATIONAL DEFENCE\n",
        "DGAEPM\n",
        "101 COLONEL BY DR.\n",
        "OTTAWA\n",
        "ON\n",
        "K1A0K2\n",
        "CAN | head = Department of National Defence\n",
        "releaseID: None-20140901-5d674f46-dcf4-4078-880b-5718c54304bf\n",
        "base = EDMONTON | head = OTTAWA\n",
        "releaseID: None-20140901-9574058c-bd29-4c6f-85c5-4de552c3dc5e\n",
        "base = Alberta | head = Ontario\n",
        "releaseID: None-20140901-9574058c-bd29-4c6f-85c5-4de552c3dc5e\n",
        "base = BLDG 236 EAST END | head = DGAEPM\n",
        "releaseID: None-20140901-9574058c-bd29-4c6f-85c5-4de552c3dc5e\n",
        "base = BLDG 236 EAST END | head = DGAEPM\n",
        "releaseID: None-20140901-9574058c-bd29-4c6f-85c5-4de552c3dc5e\n",
        "base = T5J4J5 | head = K1A0K2\n",
        "releaseID: None-20140901-9574058c-bd29-4c6f-85c5-4de552c3dc5e\n"
       ]
      }
     ],
     "prompt_number": 30
    },
    {
     "cell_type": "code",
     "collapsed": false,
     "input": [
      "records_only[0]"
     ],
     "language": "python",
     "metadata": {},
     "outputs": [
      {
       "metadata": {},
       "output_type": "pyout",
       "prompt_number": 23,
       "text": [
        "{u'ocid': u'PW-$$AO-002-23619',\n",
        " u'releases': [{u'name': u'',\n",
        "   u'scheme': u'',\n",
        "   u'uid': u'None-20140901-ddcc03aa-9624-4cb9-899e-e20de7b7717a',\n",
        "   u'uri': u'file:///home/bird/Dev/opencontracting/sample-data/buyandsell/ocds_data/awards_releases_20140901.json'},\n",
        "  {u'name': u'',\n",
        "   u'scheme': u'',\n",
        "   u'uid': u'None-20140901-a77a7623-d1da-4001-942d-1620723be99c',\n",
        "   u'uri': u'file:///home/bird/Dev/opencontracting/sample-data/buyandsell/ocds_data/contracts_releases_compact_20140901.json'},\n",
        "  {u'name': u'',\n",
        "   u'scheme': u'',\n",
        "   u'uid': u'None-20140901-42d5f7c1-2cd6-4622-ad37-c85503bbeec1',\n",
        "   u'uri': u'file:///home/bird/Dev/opencontracting/sample-data/buyandsell/ocds_data/contracts_releases_compact_20140901.json'},\n",
        "  {u'name': u'',\n",
        "   u'scheme': u'',\n",
        "   u'uid': u'None-20140901-ae91b1cb-0bb4-4ff5-8165-ab7ff8d97679',\n",
        "   u'uri': u'file:///home/bird/Dev/opencontracting/sample-data/buyandsell/ocds_data/contracts_releases_compact_20140901.json'},\n",
        "  {u'name': u'',\n",
        "   u'scheme': u'',\n",
        "   u'uid': u'None-20140901-f05ee390-1e05-4ec8-b8ca-6fd4aefcd5cf',\n",
        "   u'uri': u'file:///home/bird/Dev/opencontracting/sample-data/buyandsell/ocds_data/contracts_releases_compact_20140901.json'}]}"
       ]
      }
     ],
     "prompt_number": 23
    },
    {
     "cell_type": "code",
     "collapsed": false,
     "input": [],
     "language": "python",
     "metadata": {},
     "outputs": [],
     "prompt_number": 20
    },
    {
     "cell_type": "code",
     "collapsed": false,
     "input": [
      "base = None\n",
      "for release in test_releases:\n",
      "    base = jsonmerge.merge(base, release)"
     ],
     "language": "python",
     "metadata": {},
     "outputs": [
      {
       "output_type": "stream",
       "stream": "stdout",
       "text": [
        "base = A | head = B\n"
       ]
      },
      {
       "ename": "TypeError",
       "evalue": "cannot concatenate 'str' and 'NoneType' objects",
       "output_type": "pyerr",
       "traceback": [
        "\u001b[1;31m---------------------------------------------------------------------------\u001b[0m\n\u001b[1;31mTypeError\u001b[0m                                 Traceback (most recent call last)",
        "\u001b[1;32m<ipython-input-21-9bea83ca74e3>\u001b[0m in \u001b[0;36m<module>\u001b[1;34m()\u001b[0m\n\u001b[0;32m      1\u001b[0m \u001b[0mbase\u001b[0m \u001b[1;33m=\u001b[0m \u001b[0mNone\u001b[0m\u001b[1;33m\u001b[0m\u001b[0m\n\u001b[0;32m      2\u001b[0m \u001b[1;32mfor\u001b[0m \u001b[0mrelease\u001b[0m \u001b[1;32min\u001b[0m \u001b[0mtest_releases\u001b[0m\u001b[1;33m:\u001b[0m\u001b[1;33m\u001b[0m\u001b[0m\n\u001b[1;32m----> 3\u001b[1;33m     \u001b[0mbase\u001b[0m \u001b[1;33m=\u001b[0m \u001b[0mjsonmerge\u001b[0m\u001b[1;33m.\u001b[0m\u001b[0mmerge\u001b[0m\u001b[1;33m(\u001b[0m\u001b[0mbase\u001b[0m\u001b[1;33m,\u001b[0m \u001b[0mrelease\u001b[0m\u001b[1;33m)\u001b[0m\u001b[1;33m\u001b[0m\u001b[0m\n\u001b[0m",
        "\u001b[1;32m/home/bird/Dev/.virtualenvs/opencontracting_sampledata/local/lib/python2.7/site-packages/jsonmerge-1.0.0-py2.7.egg/jsonmerge/__init__.pyc\u001b[0m in \u001b[0;36mmerge\u001b[1;34m(base, head, schema)\u001b[0m\n\u001b[0;32m    215\u001b[0m \u001b[1;33m\u001b[0m\u001b[0m\n\u001b[0;32m    216\u001b[0m     \u001b[0mmerger\u001b[0m \u001b[1;33m=\u001b[0m \u001b[0mMerger\u001b[0m\u001b[1;33m(\u001b[0m\u001b[0mschema\u001b[0m\u001b[1;33m)\u001b[0m\u001b[1;33m\u001b[0m\u001b[0m\n\u001b[1;32m--> 217\u001b[1;33m     \u001b[1;32mreturn\u001b[0m \u001b[0mmerger\u001b[0m\u001b[1;33m.\u001b[0m\u001b[0mmerge\u001b[0m\u001b[1;33m(\u001b[0m\u001b[0mbase\u001b[0m\u001b[1;33m,\u001b[0m \u001b[0mhead\u001b[0m\u001b[1;33m)\u001b[0m\u001b[1;33m\u001b[0m\u001b[0m\n\u001b[0m",
        "\u001b[1;32m/home/bird/Dev/.virtualenvs/opencontracting_sampledata/local/lib/python2.7/site-packages/jsonmerge-1.0.0-py2.7.egg/jsonmerge/__init__.pyc\u001b[0m in \u001b[0;36mmerge\u001b[1;34m(self, base, head, meta)\u001b[0m\n\u001b[0;32m    172\u001b[0m         \u001b[0mself\u001b[0m\u001b[1;33m.\u001b[0m\u001b[0mhead_root\u001b[0m \u001b[1;33m=\u001b[0m \u001b[0mhead\u001b[0m\u001b[1;33m\u001b[0m\u001b[0m\n\u001b[0;32m    173\u001b[0m         \u001b[0mwalk\u001b[0m \u001b[1;33m=\u001b[0m \u001b[0mWalkInstance\u001b[0m\u001b[1;33m(\u001b[0m\u001b[0mself\u001b[0m\u001b[1;33m)\u001b[0m\u001b[1;33m\u001b[0m\u001b[0m\n\u001b[1;32m--> 174\u001b[1;33m         \u001b[1;32mreturn\u001b[0m \u001b[0mwalk\u001b[0m\u001b[1;33m.\u001b[0m\u001b[0mdescend\u001b[0m\u001b[1;33m(\u001b[0m\u001b[0mself\u001b[0m\u001b[1;33m.\u001b[0m\u001b[0mschema\u001b[0m\u001b[1;33m,\u001b[0m \u001b[0mbase\u001b[0m\u001b[1;33m,\u001b[0m \u001b[0mhead\u001b[0m\u001b[1;33m,\u001b[0m \u001b[0mmeta\u001b[0m\u001b[1;33m)\u001b[0m\u001b[1;33m\u001b[0m\u001b[0m\n\u001b[0m\u001b[0;32m    175\u001b[0m \u001b[1;33m\u001b[0m\u001b[0m\n\u001b[0;32m    176\u001b[0m     \u001b[1;32mdef\u001b[0m \u001b[0mget_schema\u001b[0m\u001b[1;33m(\u001b[0m\u001b[0mself\u001b[0m\u001b[1;33m,\u001b[0m \u001b[0mmeta\u001b[0m\u001b[1;33m=\u001b[0m\u001b[0mNone\u001b[0m\u001b[1;33m)\u001b[0m\u001b[1;33m:\u001b[0m\u001b[1;33m\u001b[0m\u001b[0m\n",
        "\u001b[1;32m/home/bird/Dev/.virtualenvs/opencontracting_sampledata/local/lib/python2.7/site-packages/jsonmerge-1.0.0-py2.7.egg/jsonmerge/__init__.pyc\u001b[0m in \u001b[0;36mdescend\u001b[1;34m(self, schema, *args)\u001b[0m\n\u001b[0;32m     32\u001b[0m         \u001b[0mstrategy\u001b[0m \u001b[1;33m=\u001b[0m \u001b[0mself\u001b[0m\u001b[1;33m.\u001b[0m\u001b[0mmerger\u001b[0m\u001b[1;33m.\u001b[0m\u001b[0mstrategies\u001b[0m\u001b[1;33m[\u001b[0m\u001b[0mname\u001b[0m\u001b[1;33m]\u001b[0m\u001b[1;33m\u001b[0m\u001b[0m\n\u001b[0;32m     33\u001b[0m \u001b[1;33m\u001b[0m\u001b[0m\n\u001b[1;32m---> 34\u001b[1;33m         \u001b[1;32mreturn\u001b[0m \u001b[0mself\u001b[0m\u001b[1;33m.\u001b[0m\u001b[0mwork\u001b[0m\u001b[1;33m(\u001b[0m\u001b[0mstrategy\u001b[0m\u001b[1;33m,\u001b[0m \u001b[0mschema\u001b[0m\u001b[1;33m,\u001b[0m \u001b[1;33m*\u001b[0m\u001b[0margs\u001b[0m\u001b[1;33m,\u001b[0m \u001b[1;33m**\u001b[0m\u001b[0mopts\u001b[0m\u001b[1;33m)\u001b[0m\u001b[1;33m\u001b[0m\u001b[0m\n\u001b[0m\u001b[0;32m     35\u001b[0m \u001b[1;33m\u001b[0m\u001b[0m\n\u001b[0;32m     36\u001b[0m \u001b[1;32mclass\u001b[0m \u001b[0mWalkInstance\u001b[0m\u001b[1;33m(\u001b[0m\u001b[0mWalk\u001b[0m\u001b[1;33m)\u001b[0m\u001b[1;33m:\u001b[0m\u001b[1;33m\u001b[0m\u001b[0m\n",
        "\u001b[1;32m/home/bird/Dev/.virtualenvs/opencontracting_sampledata/local/lib/python2.7/site-packages/jsonmerge-1.0.0-py2.7.egg/jsonmerge/__init__.pyc\u001b[0m in \u001b[0;36mwork\u001b[1;34m(self, strategy, schema, base, head, meta, **kwargs)\u001b[0m\n\u001b[0;32m     52\u001b[0m \u001b[1;33m\u001b[0m\u001b[0m\n\u001b[0;32m     53\u001b[0m     \u001b[1;32mdef\u001b[0m \u001b[0mwork\u001b[0m\u001b[1;33m(\u001b[0m\u001b[0mself\u001b[0m\u001b[1;33m,\u001b[0m \u001b[0mstrategy\u001b[0m\u001b[1;33m,\u001b[0m \u001b[0mschema\u001b[0m\u001b[1;33m,\u001b[0m \u001b[0mbase\u001b[0m\u001b[1;33m,\u001b[0m \u001b[0mhead\u001b[0m\u001b[1;33m,\u001b[0m \u001b[0mmeta\u001b[0m\u001b[1;33m,\u001b[0m \u001b[1;33m**\u001b[0m\u001b[0mkwargs\u001b[0m\u001b[1;33m)\u001b[0m\u001b[1;33m:\u001b[0m\u001b[1;33m\u001b[0m\u001b[0m\n\u001b[1;32m---> 54\u001b[1;33m         \u001b[1;32mreturn\u001b[0m \u001b[0mstrategy\u001b[0m\u001b[1;33m.\u001b[0m\u001b[0mmerge\u001b[0m\u001b[1;33m(\u001b[0m\u001b[0mself\u001b[0m\u001b[1;33m,\u001b[0m \u001b[0mbase\u001b[0m\u001b[1;33m,\u001b[0m \u001b[0mhead\u001b[0m\u001b[1;33m,\u001b[0m \u001b[0mschema\u001b[0m\u001b[1;33m,\u001b[0m \u001b[0mmeta\u001b[0m\u001b[1;33m,\u001b[0m \u001b[1;33m**\u001b[0m\u001b[0mkwargs\u001b[0m\u001b[1;33m)\u001b[0m\u001b[1;33m\u001b[0m\u001b[0m\n\u001b[0m\u001b[0;32m     55\u001b[0m \u001b[1;33m\u001b[0m\u001b[0m\n\u001b[0;32m     56\u001b[0m \u001b[1;32mclass\u001b[0m \u001b[0mWalkSchema\u001b[0m\u001b[1;33m(\u001b[0m\u001b[0mWalk\u001b[0m\u001b[1;33m)\u001b[0m\u001b[1;33m:\u001b[0m\u001b[1;33m\u001b[0m\u001b[0m\n",
        "\u001b[1;32m/home/bird/Dev/.virtualenvs/opencontracting_sampledata/local/lib/python2.7/site-packages/jsonmerge-1.0.0-py2.7.egg/jsonmerge/strategies.pyc\u001b[0m in \u001b[0;36mmerge\u001b[1;34m(self, walk, base, head, schema, meta, **kwargs)\u001b[0m\n\u001b[0;32m    232\u001b[0m                         \u001b[0msubschema\u001b[0m \u001b[1;33m=\u001b[0m \u001b[0mp\u001b[0m\u001b[1;33m.\u001b[0m\u001b[0mget\u001b[0m\u001b[1;33m(\u001b[0m\u001b[0mk\u001b[0m\u001b[1;33m)\u001b[0m\u001b[1;33m\u001b[0m\u001b[0m\n\u001b[0;32m    233\u001b[0m \u001b[1;33m\u001b[0m\u001b[0m\n\u001b[1;32m--> 234\u001b[1;33m             \u001b[0mbase\u001b[0m\u001b[1;33m[\u001b[0m\u001b[0mk\u001b[0m\u001b[1;33m]\u001b[0m \u001b[1;33m=\u001b[0m \u001b[0mwalk\u001b[0m\u001b[1;33m.\u001b[0m\u001b[0mdescend\u001b[0m\u001b[1;33m(\u001b[0m\u001b[0msubschema\u001b[0m\u001b[1;33m,\u001b[0m \u001b[0mbase\u001b[0m\u001b[1;33m.\u001b[0m\u001b[0mget\u001b[0m\u001b[1;33m(\u001b[0m\u001b[0mk\u001b[0m\u001b[1;33m)\u001b[0m\u001b[1;33m,\u001b[0m \u001b[0mv\u001b[0m\u001b[1;33m,\u001b[0m \u001b[0mmeta\u001b[0m\u001b[1;33m)\u001b[0m\u001b[1;33m\u001b[0m\u001b[0m\n\u001b[0m\u001b[0;32m    235\u001b[0m \u001b[1;33m\u001b[0m\u001b[0m\n\u001b[0;32m    236\u001b[0m         \u001b[1;32mreturn\u001b[0m \u001b[0mbase\u001b[0m\u001b[1;33m\u001b[0m\u001b[0m\n",
        "\u001b[1;32m/home/bird/Dev/.virtualenvs/opencontracting_sampledata/local/lib/python2.7/site-packages/jsonmerge-1.0.0-py2.7.egg/jsonmerge/__init__.pyc\u001b[0m in \u001b[0;36mdescend\u001b[1;34m(self, schema, *args)\u001b[0m\n\u001b[0;32m     32\u001b[0m         \u001b[0mstrategy\u001b[0m \u001b[1;33m=\u001b[0m \u001b[0mself\u001b[0m\u001b[1;33m.\u001b[0m\u001b[0mmerger\u001b[0m\u001b[1;33m.\u001b[0m\u001b[0mstrategies\u001b[0m\u001b[1;33m[\u001b[0m\u001b[0mname\u001b[0m\u001b[1;33m]\u001b[0m\u001b[1;33m\u001b[0m\u001b[0m\n\u001b[0;32m     33\u001b[0m \u001b[1;33m\u001b[0m\u001b[0m\n\u001b[1;32m---> 34\u001b[1;33m         \u001b[1;32mreturn\u001b[0m \u001b[0mself\u001b[0m\u001b[1;33m.\u001b[0m\u001b[0mwork\u001b[0m\u001b[1;33m(\u001b[0m\u001b[0mstrategy\u001b[0m\u001b[1;33m,\u001b[0m \u001b[0mschema\u001b[0m\u001b[1;33m,\u001b[0m \u001b[1;33m*\u001b[0m\u001b[0margs\u001b[0m\u001b[1;33m,\u001b[0m \u001b[1;33m**\u001b[0m\u001b[0mopts\u001b[0m\u001b[1;33m)\u001b[0m\u001b[1;33m\u001b[0m\u001b[0m\n\u001b[0m\u001b[0;32m     35\u001b[0m \u001b[1;33m\u001b[0m\u001b[0m\n\u001b[0;32m     36\u001b[0m \u001b[1;32mclass\u001b[0m \u001b[0mWalkInstance\u001b[0m\u001b[1;33m(\u001b[0m\u001b[0mWalk\u001b[0m\u001b[1;33m)\u001b[0m\u001b[1;33m:\u001b[0m\u001b[1;33m\u001b[0m\u001b[0m\n",
        "\u001b[1;32m/home/bird/Dev/.virtualenvs/opencontracting_sampledata/local/lib/python2.7/site-packages/jsonmerge-1.0.0-py2.7.egg/jsonmerge/__init__.pyc\u001b[0m in \u001b[0;36mwork\u001b[1;34m(self, strategy, schema, base, head, meta, **kwargs)\u001b[0m\n\u001b[0;32m     52\u001b[0m \u001b[1;33m\u001b[0m\u001b[0m\n\u001b[0;32m     53\u001b[0m     \u001b[1;32mdef\u001b[0m \u001b[0mwork\u001b[0m\u001b[1;33m(\u001b[0m\u001b[0mself\u001b[0m\u001b[1;33m,\u001b[0m \u001b[0mstrategy\u001b[0m\u001b[1;33m,\u001b[0m \u001b[0mschema\u001b[0m\u001b[1;33m,\u001b[0m \u001b[0mbase\u001b[0m\u001b[1;33m,\u001b[0m \u001b[0mhead\u001b[0m\u001b[1;33m,\u001b[0m \u001b[0mmeta\u001b[0m\u001b[1;33m,\u001b[0m \u001b[1;33m**\u001b[0m\u001b[0mkwargs\u001b[0m\u001b[1;33m)\u001b[0m\u001b[1;33m:\u001b[0m\u001b[1;33m\u001b[0m\u001b[0m\n\u001b[1;32m---> 54\u001b[1;33m         \u001b[1;32mreturn\u001b[0m \u001b[0mstrategy\u001b[0m\u001b[1;33m.\u001b[0m\u001b[0mmerge\u001b[0m\u001b[1;33m(\u001b[0m\u001b[0mself\u001b[0m\u001b[1;33m,\u001b[0m \u001b[0mbase\u001b[0m\u001b[1;33m,\u001b[0m \u001b[0mhead\u001b[0m\u001b[1;33m,\u001b[0m \u001b[0mschema\u001b[0m\u001b[1;33m,\u001b[0m \u001b[0mmeta\u001b[0m\u001b[1;33m,\u001b[0m \u001b[1;33m**\u001b[0m\u001b[0mkwargs\u001b[0m\u001b[1;33m)\u001b[0m\u001b[1;33m\u001b[0m\u001b[0m\n\u001b[0m\u001b[0;32m     55\u001b[0m \u001b[1;33m\u001b[0m\u001b[0m\n\u001b[0;32m     56\u001b[0m \u001b[1;32mclass\u001b[0m \u001b[0mWalkSchema\u001b[0m\u001b[1;33m(\u001b[0m\u001b[0mWalk\u001b[0m\u001b[1;33m)\u001b[0m\u001b[1;33m:\u001b[0m\u001b[1;33m\u001b[0m\u001b[0m\n",
        "\u001b[1;32m/home/bird/Dev/.virtualenvs/opencontracting_sampledata/local/lib/python2.7/site-packages/jsonmerge-1.0.0-py2.7.egg/jsonmerge/strategies.pyc\u001b[0m in \u001b[0;36mmerge\u001b[1;34m(self, walk, base, head, schema, meta, **kwargs)\u001b[0m\n\u001b[0;32m     58\u001b[0m                 \u001b[1;32mif\u001b[0m \u001b[0mwalk\u001b[0m\u001b[1;33m.\u001b[0m\u001b[0mmerger\u001b[0m\u001b[1;33m.\u001b[0m\u001b[0mbase_root\u001b[0m\u001b[1;33m:\u001b[0m\u001b[1;33m\u001b[0m\u001b[0m\n\u001b[0;32m     59\u001b[0m                     \u001b[1;32mprint\u001b[0m \u001b[1;34m'base = '\u001b[0m \u001b[1;33m+\u001b[0m \u001b[0mstr\u001b[0m\u001b[1;33m(\u001b[0m\u001b[0mbase\u001b[0m\u001b[1;33m)\u001b[0m \u001b[1;33m+\u001b[0m \u001b[1;34m' | head = '\u001b[0m \u001b[1;33m+\u001b[0m \u001b[0mstr\u001b[0m\u001b[1;33m(\u001b[0m\u001b[0mhead\u001b[0m\u001b[1;33m)\u001b[0m\u001b[1;33m\u001b[0m\u001b[0m\n\u001b[1;32m---> 60\u001b[1;33m                     \u001b[1;32mprint\u001b[0m \u001b[1;34m'releaseID: '\u001b[0m \u001b[1;33m+\u001b[0m \u001b[0mwalk\u001b[0m\u001b[1;33m.\u001b[0m\u001b[0mmerger\u001b[0m\u001b[1;33m.\u001b[0m\u001b[0mbase_root\u001b[0m\u001b[1;33m.\u001b[0m\u001b[0mget\u001b[0m\u001b[1;33m(\u001b[0m\u001b[1;34m'releaseID'\u001b[0m\u001b[1;33m)\u001b[0m\u001b[1;33m\u001b[0m\u001b[0m\n\u001b[0m\u001b[0;32m     61\u001b[0m         \u001b[1;32mreturn\u001b[0m \u001b[0mhead\u001b[0m\u001b[1;33m\u001b[0m\u001b[0m\n\u001b[0;32m     62\u001b[0m \u001b[1;33m\u001b[0m\u001b[0m\n",
        "\u001b[1;31mTypeError\u001b[0m: cannot concatenate 'str' and 'NoneType' objects"
       ]
      }
     ],
     "prompt_number": 21
    },
    {
     "cell_type": "code",
     "collapsed": false,
     "input": [
      "base"
     ],
     "language": "python",
     "metadata": {},
     "outputs": []
    },
    {
     "cell_type": "code",
     "collapsed": false,
     "input": [
      "records_only[0]"
     ],
     "language": "python",
     "metadata": {},
     "outputs": []
    },
    {
     "cell_type": "code",
     "collapsed": false,
     "input": [],
     "language": "python",
     "metadata": {},
     "outputs": []
    }
   ],
   "metadata": {}
  }
 ]
}