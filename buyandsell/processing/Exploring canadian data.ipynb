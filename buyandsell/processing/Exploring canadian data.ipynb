{
 "metadata": {
  "name": "",
  "signature": "sha256:c5ebf1ef1968202c3a19353edfe1a54cf9a06674d47b6152dabfe2ad9b9e1f8d"
 },
 "nbformat": 3,
 "nbformat_minor": 0,
 "worksheets": [
  {
   "cells": [
    {
     "cell_type": "code",
     "collapsed": false,
     "input": [
      "import json"
     ],
     "language": "python",
     "metadata": {},
     "outputs": [],
     "prompt_number": 1
    },
    {
     "cell_type": "code",
     "collapsed": false,
     "input": [
      "with open('canada_records_linked.json', 'rb') as f:\n",
      "    records = json.loads(f.read())"
     ],
     "language": "python",
     "metadata": {},
     "outputs": [],
     "prompt_number": 2
    },
    {
     "cell_type": "code",
     "collapsed": false,
     "input": [
      "records_only = records['records']\n",
      "len(records_only)"
     ],
     "language": "python",
     "metadata": {},
     "outputs": [
      {
       "metadata": {},
       "output_type": "pyout",
       "prompt_number": 4,
       "text": [
        "26448"
       ]
      }
     ],
     "prompt_number": 4
    },
    {
     "cell_type": "code",
     "collapsed": false,
     "input": [
      "records_with_tender_release = []\n",
      "\n",
      "for record in records_only:\n",
      "    append = False\n",
      "    for release in record['releases']:\n",
      "        if release['uri'] == 'file:///home/bird/Dev/opencontracting/sample-data/buyandsell/ocds_data/tender_releases.json':\n",
      "            append = True\n",
      "    if append:\n",
      "        records_with_tender_release.append(record)\n"
     ],
     "language": "python",
     "metadata": {},
     "outputs": [],
     "prompt_number": 8
    },
    {
     "cell_type": "code",
     "collapsed": false,
     "input": [
      "len(records_with_tender_release)"
     ],
     "language": "python",
     "metadata": {},
     "outputs": [
      {
       "metadata": {},
       "output_type": "pyout",
       "prompt_number": 9,
       "text": [
        "5513"
       ]
      }
     ],
     "prompt_number": 9
    },
    {
     "cell_type": "code",
     "collapsed": false,
     "input": [
      "records_with_tender_linked = []\n",
      "for record in records_with_tender_release:\n",
      "    if len(record['releases']) > 1:\n",
      "        records_with_tender_linked.append(record)"
     ],
     "language": "python",
     "metadata": {},
     "outputs": [],
     "prompt_number": 10
    },
    {
     "cell_type": "code",
     "collapsed": false,
     "input": [
      "len(records_with_tender_linked)"
     ],
     "language": "python",
     "metadata": {},
     "outputs": [
      {
       "metadata": {},
       "output_type": "pyout",
       "prompt_number": 11,
       "text": [
        "30"
       ]
      }
     ],
     "prompt_number": 11
    },
    {
     "cell_type": "code",
     "collapsed": false,
     "input": [
      "lots_of_releases = []\n",
      "for record in records_only:\n",
      "    if len(record['releases']) > 50:\n",
      "        lots_of_releases.append(record)\n",
      "len(lots_of_releases)"
     ],
     "language": "python",
     "metadata": {},
     "outputs": [
      {
       "metadata": {},
       "output_type": "pyout",
       "prompt_number": 13,
       "text": [
        "34"
       ]
      }
     ],
     "prompt_number": 13
    },
    {
     "cell_type": "code",
     "collapsed": false,
     "input": [
      "for record in lots_of_releases:\n",
      "    print record['ocid'] + \" ---- \" + str(len(record['releases']))"
     ],
     "language": "python",
     "metadata": {},
     "outputs": [
      {
       "output_type": "stream",
       "stream": "stdout",
       "text": [
        "PW-$$CX-011-63447 ---- 60\n",
        "PW-$$EE-015-22221 ---- 248\n",
        "PW-$$HN-307-63796 ---- 59\n",
        "PW-$$LM-001-62052 ---- 114\n",
        "PW-$$LP-011-56458 ---- 74\n",
        "PW-$$LP-011-60839 ---- 311\n",
        "PW-$$LP-011-60840 ---- 914\n",
        "PW-$$LP-011-60841 ---- 908\n",
        "PW-$$LP-011-60843 ---- 928\n",
        "PW-$$LP-011-63099 ---- 212\n",
        "PW-$$LP-011-63100 ---- 1127\n",
        "PW-$$LP-011-63101 ---- 1012\n",
        "PW-$$LP-011-63102 ---- 1104\n",
        "PW-$$LP-011-63115 ---- 51\n",
        "PW-$$XL-112-23338 ---- 70\n",
        "PW-$$ZG-404-23294 ---- 77\n",
        "PW-$$ZG-415-23504 ---- 137\n",
        "PW-$$ZN-001-22890 ---- 714\n",
        "PW-$$ZN-002-24060 ---- 478\n",
        "PW-$$ZN-002-24694 ---- 80\n",
        "PW-$$ZN-003-25969 ---- 232\n",
        "PW-$$ZN-004-24061 ---- 158\n",
        "PW-$$ZN-004-24693 ---- 55\n",
        "PW-$$ZN-015-21833 ---- 52\n",
        "PW-$$ZN-016-22886 ---- 295\n",
        "PW-$$ZN-017-25970 ---- 83\n",
        "PW-$$ZQ-006-23546 ---- 77\n",
        "PW-$EDM-066-9250 ---- 127\n",
        "PW-$MCT-006-4524 ---- 63\n",
        "PW-$STN-190-4458 ---- 52\n",
        "PW-$TOR-011-5908 ---- 175\n",
        "PW-$TOR-302-6586 ---- 136\n",
        "PW-$VAN-579-6937 ---- 56\n",
        "PW-$VAN-584-6683 ---- 105\n"
       ]
      }
     ],
     "prompt_number": 15
    },
    {
     "cell_type": "code",
     "collapsed": false,
     "input": [
      "for record in records_with_tender_linked:\n",
      "    print record['ocid']"
     ],
     "language": "python",
     "metadata": {},
     "outputs": [
      {
       "output_type": "stream",
       "stream": "stdout",
       "text": [
        "PW-$$EL-602-26517\n",
        "PW-$$HN-458-65199\n",
        "PW-$$HS-620-64999\n",
        "PW-$$HS-623-65029\n",
        "PW-$$PR-758-65364\n",
        "PW-$$PV-938-65370\n",
        "PW-$$PV-941-65041\n",
        "PW-$$SS-066-26845\n",
        "PW-$$XN-105-27550\n",
        "PW-$CAL-097-6241\n",
        "PW-$HAL-403-9301\n",
        "PW-$KIN-615-6345\n",
        "PW-$MCT-018-4792\n",
        "PW-$MTA-295-12817\n",
        "PW-$MTC-025-12755\n",
        "PW-$PWA-104-5076\n",
        "PW-$QCL-026-16006\n",
        "PW-$STN-201-4693\n",
        "PW-$VAN-584-7240\n",
        "PW-$VIC-210-6352\n",
        "PW-$VIC-239-6488\n",
        "PW-$VIC-239-6512\n",
        "PW-$WPG-005-9085\n",
        "PW-$XAQ-026-6119\n",
        "PW-$XAQ-026-6120\n",
        "PW-$XSB-005-7280\n",
        "PW-14-00611500\n",
        "PW-14-00637520\n",
        "PW-14-00639606\n",
        "PW-14-00644643\n"
       ]
      }
     ],
     "prompt_number": 16
    },
    {
     "cell_type": "code",
     "collapsed": false,
     "input": [],
     "language": "python",
     "metadata": {},
     "outputs": []
    }
   ],
   "metadata": {}
  }
 ]
}