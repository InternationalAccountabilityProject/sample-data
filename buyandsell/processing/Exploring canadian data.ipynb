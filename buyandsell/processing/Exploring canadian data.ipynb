{
 "metadata": {
  "name": "",
  "signature": "sha256:6026c8ac4de3c5d039ae20b7b19e9c7c688a56aa058a020bf358317ae7ee8a9f"
 },
 "nbformat": 3,
 "nbformat_minor": 0,
 "worksheets": [
  {
   "cells": [
    {
     "cell_type": "code",
     "collapsed": false,
     "input": [
      "import json"
     ],
     "language": "python",
     "metadata": {},
     "outputs": [],
     "prompt_number": 1
    },
    {
     "cell_type": "code",
     "collapsed": false,
     "input": [
      "with open('../ocds_data/canada_records_linked_20140901.json', 'rb') as f:\n",
      "    records = json.loads(f.read())"
     ],
     "language": "python",
     "metadata": {},
     "outputs": [],
     "prompt_number": 2
    },
    {
     "cell_type": "code",
     "collapsed": false,
     "input": [
      "records_only = records['records']\n",
      "len(records_only)"
     ],
     "language": "python",
     "metadata": {},
     "outputs": [
      {
       "metadata": {},
       "output_type": "pyout",
       "prompt_number": 3,
       "text": [
        "26448"
       ]
      }
     ],
     "prompt_number": 3
    },
    {
     "cell_type": "code",
     "collapsed": false,
     "input": [
      "records_with_tender_release = []\n",
      "\n",
      "for record in records_only:\n",
      "    append = False\n",
      "    for release in record['releases']:\n",
      "        if release['uri'] == 'file:///home/bird/Dev/opencontracting/sample-data/buyandsell/ocds_data/tender_releases_20140901.json':\n",
      "            append = True\n",
      "    if append:\n",
      "        records_with_tender_release.append(record)\n"
     ],
     "language": "python",
     "metadata": {},
     "outputs": [],
     "prompt_number": 4
    },
    {
     "cell_type": "code",
     "collapsed": false,
     "input": [
      "len(records_with_tender_release)"
     ],
     "language": "python",
     "metadata": {},
     "outputs": [
      {
       "metadata": {},
       "output_type": "pyout",
       "prompt_number": 5,
       "text": [
        "5513"
       ]
      }
     ],
     "prompt_number": 5
    },
    {
     "cell_type": "code",
     "collapsed": false,
     "input": [
      "records_with_tender_linked = []\n",
      "for record in records_with_tender_release:\n",
      "    if len(record['releases']) > 1:\n",
      "        records_with_tender_linked.append(record)"
     ],
     "language": "python",
     "metadata": {},
     "outputs": [],
     "prompt_number": 6
    },
    {
     "cell_type": "code",
     "collapsed": false,
     "input": [
      "len(records_with_tender_linked)"
     ],
     "language": "python",
     "metadata": {},
     "outputs": [
      {
       "metadata": {},
       "output_type": "pyout",
       "prompt_number": 7,
       "text": [
        "30"
       ]
      }
     ],
     "prompt_number": 7
    },
    {
     "cell_type": "code",
     "collapsed": false,
     "input": [
      "lots_of_releases = []\n",
      "for record in records_only:\n",
      "    if len(record['releases']) > 50:\n",
      "        lots_of_releases.append(record)\n",
      "len(lots_of_releases)"
     ],
     "language": "python",
     "metadata": {},
     "outputs": [
      {
       "metadata": {},
       "output_type": "pyout",
       "prompt_number": 8,
       "text": [
        "34"
       ]
      }
     ],
     "prompt_number": 8
    },
    {
     "cell_type": "code",
     "collapsed": false,
     "input": [
      "for record in lots_of_releases:\n",
      "    print record['ocid'] + \" ---- \" + str(len(record['releases']))"
     ],
     "language": "python",
     "metadata": {},
     "outputs": [
      {
       "output_type": "stream",
       "stream": "stdout",
       "text": [
        "PW-$$CX-011-63447 ---- 60\n",
        "PW-$$EE-015-22221 ---- 248\n",
        "PW-$$HN-307-63796 ---- 59\n",
        "PW-$$LM-001-62052 ---- 114\n",
        "PW-$$LP-011-56458 ---- 74\n",
        "PW-$$LP-011-60839 ---- 311\n",
        "PW-$$LP-011-60840 ---- 914\n",
        "PW-$$LP-011-60841 ---- 908\n",
        "PW-$$LP-011-60843 ---- 928\n",
        "PW-$$LP-011-63099 ---- 212\n",
        "PW-$$LP-011-63100 ---- 1127\n",
        "PW-$$LP-011-63101 ---- 1012\n",
        "PW-$$LP-011-63102 ---- 1104\n",
        "PW-$$LP-011-63115 ---- 51\n",
        "PW-$$XL-112-23338 ---- 70\n",
        "PW-$$ZG-404-23294 ---- 77\n",
        "PW-$$ZG-415-23504 ---- 137\n",
        "PW-$$ZN-001-22890 ---- 714\n",
        "PW-$$ZN-002-24060 ---- 478\n",
        "PW-$$ZN-002-24694 ---- 80\n",
        "PW-$$ZN-003-25969 ---- 232\n",
        "PW-$$ZN-004-24061 ---- 158\n",
        "PW-$$ZN-004-24693 ---- 55\n",
        "PW-$$ZN-015-21833 ---- 52\n",
        "PW-$$ZN-016-22886 ---- 295\n",
        "PW-$$ZN-017-25970 ---- 83\n",
        "PW-$$ZQ-006-23546 ---- 77\n",
        "PW-$EDM-066-9250 ---- 127\n",
        "PW-$MCT-006-4524 ---- 63\n",
        "PW-$STN-190-4458 ---- 52\n",
        "PW-$TOR-011-5908 ---- 175\n",
        "PW-$TOR-302-6586 ---- 136\n",
        "PW-$VAN-579-6937 ---- 56\n",
        "PW-$VAN-584-6683 ---- 105\n"
       ]
      }
     ],
     "prompt_number": 9
    },
    {
     "cell_type": "code",
     "collapsed": false,
     "input": [
      "for record in records_with_tender_linked:\n",
      "    print record['ocid']"
     ],
     "language": "python",
     "metadata": {},
     "outputs": [
      {
       "output_type": "stream",
       "stream": "stdout",
       "text": [
        "PW-$$EL-602-26517\n",
        "PW-$$HN-458-65199\n",
        "PW-$$HS-620-64999\n",
        "PW-$$HS-623-65029\n",
        "PW-$$PR-758-65364\n",
        "PW-$$PV-938-65370\n",
        "PW-$$PV-941-65041\n",
        "PW-$$SS-066-26845\n",
        "PW-$$XN-105-27550\n",
        "PW-$CAL-097-6241\n",
        "PW-$HAL-403-9301\n",
        "PW-$KIN-615-6345\n",
        "PW-$MCT-018-4792\n",
        "PW-$MTA-295-12817\n",
        "PW-$MTC-025-12755\n",
        "PW-$PWA-104-5076\n",
        "PW-$QCL-026-16006\n",
        "PW-$STN-201-4693\n",
        "PW-$VAN-584-7240\n",
        "PW-$VIC-210-6352\n",
        "PW-$VIC-239-6488\n",
        "PW-$VIC-239-6512\n",
        "PW-$WPG-005-9085\n",
        "PW-$XAQ-026-6119\n",
        "PW-$XAQ-026-6120\n",
        "PW-$XSB-005-7280\n",
        "PW-14-00611500\n",
        "PW-14-00637520\n",
        "PW-14-00639606\n",
        "PW-14-00644643\n"
       ]
      }
     ],
     "prompt_number": 10
    },
    {
     "cell_type": "code",
     "collapsed": false,
     "input": [
      "record = records['records'][0]\n",
      "releases = record['releases']"
     ],
     "language": "python",
     "metadata": {},
     "outputs": [],
     "prompt_number": 11
    },
    {
     "cell_type": "code",
     "collapsed": false,
     "input": [
      "file_list = []\n",
      "for release in releases:\n",
      "    uri = release['uri']\n",
      "    if uri not in file_list:\n",
      "        file_list.append(uri)"
     ],
     "language": "python",
     "metadata": {},
     "outputs": [],
     "prompt_number": 12
    },
    {
     "cell_type": "code",
     "collapsed": false,
     "input": [
      "file_list"
     ],
     "language": "python",
     "metadata": {},
     "outputs": [
      {
       "metadata": {},
       "output_type": "pyout",
       "prompt_number": 13,
       "text": [
        "[u'file:///home/bird/Dev/opencontracting/sample-data/buyandsell/ocds_data/awards_releases_20140901.json',\n",
        " u'file:///home/bird/Dev/opencontracting/sample-data/buyandsell/ocds_data/contracts_releases_compact_20140901.json']"
       ]
      }
     ],
     "prompt_number": 13
    },
    {
     "cell_type": "code",
     "collapsed": false,
     "input": [
      "with open('/home/bird/Dev/opencontracting/sample-data/buyandsell/ocds_data/tender_releases_20140901.json', 'rb') as f:\n",
      "    tenders = json.loads(f.read())"
     ],
     "language": "python",
     "metadata": {},
     "outputs": [],
     "prompt_number": 14
    },
    {
     "cell_type": "code",
     "collapsed": false,
     "input": [
      "with open(file_list[0].split('file://')[1], 'rb') as f:\n",
      "    awards = json.loads(f.read())\n",
      "\n",
      "with open(file_list[1].split('file://')[1], 'rb') as f:\n",
      "    contracts = json.loads(f.read())"
     ],
     "language": "python",
     "metadata": {},
     "outputs": [],
     "prompt_number": 15
    },
    {
     "cell_type": "code",
     "collapsed": false,
     "input": [
      "file_map = {\n",
      "    u'file:///home/bird/Dev/opencontracting/sample-data/buyandsell/ocds_data/tender_releases_20140901.json': tenders,\n",
      "    u'file:///home/bird/Dev/opencontracting/sample-data/buyandsell/ocds_data/awards_releases_20140901.json': awards,\n",
      "    u'file:///home/bird/Dev/opencontracting/sample-data/buyandsell/ocds_data/contracts_releases_compact_20140901.json': contracts\n",
      "}"
     ],
     "language": "python",
     "metadata": {},
     "outputs": [],
     "prompt_number": 16
    },
    {
     "cell_type": "code",
     "collapsed": false,
     "input": [
      "release_list = []\n",
      "for release in releases:\n",
      "    to_find = release['uid']\n",
      "    print to_find\n",
      "    data_package = file_map[release['uri']]\n",
      "    for dpr in data_package['releases']:\n",
      "        if dpr['releaseID'] == to_find:\n",
      "            release_list.append(dpr)"
     ],
     "language": "python",
     "metadata": {},
     "outputs": [
      {
       "output_type": "stream",
       "stream": "stdout",
       "text": [
        "None-20140901-ddcc03aa-9624-4cb9-899e-e20de7b7717a\n",
        "None-20140901-a77a7623-d1da-4001-942d-1620723be99c\n",
        "None-20140901-42d5f7c1-2cd6-4622-ad37-c85503bbeec1"
       ]
      },
      {
       "output_type": "stream",
       "stream": "stdout",
       "text": [
        "\n",
        "None-20140901-ae91b1cb-0bb4-4ff5-8165-ab7ff8d97679\n",
        "None-20140901-f05ee390-1e05-4ec8-b8ca-6fd4aefcd5cf"
       ]
      },
      {
       "output_type": "stream",
       "stream": "stdout",
       "text": [
        "\n"
       ]
      }
     ],
     "prompt_number": 17
    },
    {
     "cell_type": "code",
     "collapsed": false,
     "input": [
      "for release in release_list:\n",
      "    print release['awards'][0]['awardDate']"
     ],
     "language": "python",
     "metadata": {},
     "outputs": [
      {
       "output_type": "stream",
       "stream": "stdout",
       "text": [
        "2013-03-05\n",
        "2013-03-05\n",
        "2013-08-02\n",
        "2013-12-19\n",
        "2014-01-08\n"
       ]
      }
     ],
     "prompt_number": 18
    },
    {
     "cell_type": "heading",
     "level": 1,
     "metadata": {},
     "source": [
      "Find ocid where field changes"
     ]
    },
    {
     "cell_type": "code",
     "collapsed": false,
     "input": [
      "import jsonmerge\n",
      "len(records_only)"
     ],
     "language": "python",
     "metadata": {},
     "outputs": [
      {
       "metadata": {},
       "output_type": "pyout",
       "prompt_number": 19,
       "text": [
        "26448"
       ]
      }
     ],
     "prompt_number": 19
    },
    {
     "cell_type": "code",
     "collapsed": false,
     "input": [
      "def get_release(uid_to_find, data_package):\n",
      "    for dpr in data_package['releases']:\n",
      "        if dpr['releaseID'] == uid_to_find:\n",
      "            return dpr\n",
      "        \n",
      "for record in records_only[0:500]:\n",
      "    #print '******* OCID: ' + record['ocid']\n",
      "    base = None\n",
      "    for release in record['releases']:\n",
      "        full_release = get_release(release['uid'], file_map[release['uri']])\n",
      "        base = jsonmerge.merge(base, full_release)"
     ],
     "language": "python",
     "metadata": {},
     "outputs": [
      {
       "output_type": "stream",
       "stream": "stdout",
       "text": [
        "releaseID: None-20140901-77acfc6c-7a33-439c-a052-314d014949fc\n",
        "releaseID: None-20140901-77acfc6c-7a33-439c-a052-314d014949fc\n",
        "releaseID: None-20140901-77acfc6c-7a33-439c-a052-314d014949fc\n",
        "releaseID: None-20140901-9574058c-bd29-4c6f-85c5-4de552c3dc5e\n",
        "releaseID: None-20140901-9574058c-bd29-4c6f-85c5-4de552c3dc5e\n",
        "releaseID: None-20140901-9574058c-bd29-4c6f-85c5-4de552c3dc5e\n",
        "releaseID: None-20140901-869574b4-7bc1-40a0-96d9-abfe3f5b276a"
       ]
      },
      {
       "output_type": "stream",
       "stream": "stdout",
       "text": [
        "\n",
        "releaseID: None-20140901-869574b4-7bc1-40a0-96d9-abfe3f5b276a\n",
        "releaseID: None-20140901-869574b4-7bc1-40a0-96d9-abfe3f5b276a\n",
        "releaseID: None-20140901-05e9f698-58fc-4f37-a0d3-886d3cb87182"
       ]
      },
      {
       "output_type": "stream",
       "stream": "stdout",
       "text": [
        "\n",
        "releaseID: None-20140901-05e9f698-58fc-4f37-a0d3-886d3cb87182\n",
        "releaseID: None-20140901-05e9f698-58fc-4f37-a0d3-886d3cb87182\n",
        "releaseID: None-20140901-9e49391a-31c1-4698-b817-57c540f4ba45"
       ]
      },
      {
       "output_type": "stream",
       "stream": "stdout",
       "text": [
        "\n",
        "releaseID: None-20140901-9e49391a-31c1-4698-b817-57c540f4ba45\n",
        "releaseID: None-20140901-9e49391a-31c1-4698-b817-57c540f4ba45\n",
        "releaseID: None-20140901-dc4d5f67-be15-4685-a3c1-857131fc36ad"
       ]
      },
      {
       "output_type": "stream",
       "stream": "stdout",
       "text": [
        "\n",
        "releaseID: None-20140901-dc4d5f67-be15-4685-a3c1-857131fc36ad\n",
        "releaseID: None-20140901-dc4d5f67-be15-4685-a3c1-857131fc36ad\n",
        "releaseID: None-20140901-c0c394d7-d2fe-469f-9d7a-7f3a4e4b57e2\n",
        "releaseID: None-20140901-c0c394d7-d2fe-469f-9d7a-7f3a4e4b57e2\n",
        "releaseID: None-20140901-c0c394d7-d2fe-469f-9d7a-7f3a4e4b57e2\n",
        "releaseID: None-20140901-cfacd2bb-4df0-43ae-8abb-caccfd07a219"
       ]
      },
      {
       "output_type": "stream",
       "stream": "stdout",
       "text": [
        "\n",
        "releaseID: None-20140901-cfacd2bb-4df0-43ae-8abb-caccfd07a219\n",
        "releaseID: None-20140901-cfacd2bb-4df0-43ae-8abb-caccfd07a219\n",
        "releaseID: None-20140901-676e532f-794d-4832-9690-aadefb95c459\n",
        "releaseID: None-20140901-676e532f-794d-4832-9690-aadefb95c459\n",
        "releaseID: None-20140901-676e532f-794d-4832-9690-aadefb95c459\n",
        "releaseID: None-20140901-63ae22f6-ade8-4882-b650-269bae2122b7"
       ]
      },
      {
       "output_type": "stream",
       "stream": "stdout",
       "text": [
        "\n",
        "releaseID: None-20140901-63ae22f6-ade8-4882-b650-269bae2122b7\n",
        "releaseID: None-20140901-63ae22f6-ade8-4882-b650-269bae2122b7\n",
        "releaseID: None-20140901-0403aca6-82f0-45b9-9bbc-82b94d26a711\n",
        "releaseID: None-20140901-0403aca6-82f0-45b9-9bbc-82b94d26a711\n",
        "releaseID: None-20140901-0403aca6-82f0-45b9-9bbc-82b94d26a711\n",
        "releaseID: None-20140901-f820d7b5-ceba-474e-abe8-2dadb8c0cd69"
       ]
      },
      {
       "output_type": "stream",
       "stream": "stdout",
       "text": [
        "\n",
        "releaseID: None-20140901-f820d7b5-ceba-474e-abe8-2dadb8c0cd69\n",
        "releaseID: None-20140901-f820d7b5-ceba-474e-abe8-2dadb8c0cd69\n",
        "releaseID: None-20140901-d3660b62-dac2-49ea-a9b0-af13760b41f8\n",
        "releaseID: None-20140901-d3660b62-dac2-49ea-a9b0-af13760b41f8\n",
        "releaseID: None-20140901-d3660b62-dac2-49ea-a9b0-af13760b41f8\n",
        "releaseID: None-20140901-8618a305-5bfc-436e-8dec-13266f2e7641"
       ]
      },
      {
       "output_type": "stream",
       "stream": "stdout",
       "text": [
        "\n",
        "releaseID: None-20140901-8618a305-5bfc-436e-8dec-13266f2e7641\n",
        "releaseID: None-20140901-8618a305-5bfc-436e-8dec-13266f2e7641\n",
        "releaseID: None-20140901-3c6b7eaf-1efd-479a-87c2-7370265f3763"
       ]
      },
      {
       "output_type": "stream",
       "stream": "stdout",
       "text": [
        "\n",
        "releaseID: None-20140901-3c6b7eaf-1efd-479a-87c2-7370265f3763\n",
        "releaseID: None-20140901-3c6b7eaf-1efd-479a-87c2-7370265f3763\n",
        "releaseID: None-20140901-dbc60086-71dc-48be-b809-ce50970a6563"
       ]
      },
      {
       "output_type": "stream",
       "stream": "stdout",
       "text": [
        "\n",
        "releaseID: None-20140901-dbc60086-71dc-48be-b809-ce50970a6563\n",
        "releaseID: None-20140901-dbc60086-71dc-48be-b809-ce50970a6563\n",
        "releaseID: None-20140901-856163c0-90ef-4bb3-8d5d-b2c9fe9882c0"
       ]
      },
      {
       "output_type": "stream",
       "stream": "stdout",
       "text": [
        "\n",
        "releaseID: None-20140901-856163c0-90ef-4bb3-8d5d-b2c9fe9882c0\n",
        "releaseID: None-20140901-856163c0-90ef-4bb3-8d5d-b2c9fe9882c0\n",
        "releaseID: None-20140901-4a88dceb-b557-471f-8e8e-30eb575e53f9\n",
        "releaseID: None-20140901-4a88dceb-b557-471f-8e8e-30eb575e53f9\n",
        "releaseID: None-20140901-4a88dceb-b557-471f-8e8e-30eb575e53f9\n",
        "releaseID: None-20140901-7011ee83-c3da-40ec-a511-93e585fb677a\n",
        "releaseID: None-20140901-7011ee83-c3da-40ec-a511-93e585fb677a\n",
        "releaseID: None-20140901-7011ee83-c3da-40ec-a511-93e585fb677a\n",
        "releaseID: None-20140901-4c05137c-b8de-454c-9fda-ee22b74b6bbb"
       ]
      },
      {
       "output_type": "stream",
       "stream": "stdout",
       "text": [
        "\n",
        "releaseID: None-20140901-4c05137c-b8de-454c-9fda-ee22b74b6bbb\n",
        "releaseID: None-20140901-4c05137c-b8de-454c-9fda-ee22b74b6bbb\n",
        "releaseID: None-20140901-831d9492-216d-4a7f-82dd-ffecd28a0ecc"
       ]
      },
      {
       "output_type": "stream",
       "stream": "stdout",
       "text": [
        "\n",
        "releaseID: None-20140901-831d9492-216d-4a7f-82dd-ffecd28a0ecc\n",
        "releaseID: None-20140901-831d9492-216d-4a7f-82dd-ffecd28a0ecc\n",
        "releaseID: None-20140901-91086b71-e1b8-4d39-aaf9-55d220fe788b"
       ]
      },
      {
       "output_type": "stream",
       "stream": "stdout",
       "text": [
        "\n",
        "releaseID: None-20140901-91086b71-e1b8-4d39-aaf9-55d220fe788b\n",
        "releaseID: None-20140901-91086b71-e1b8-4d39-aaf9-55d220fe788b\n",
        "releaseID: None-20140901-38944fe4-bc8b-43ff-9102-100e6948e552\n",
        "releaseID: None-20140901-38944fe4-bc8b-43ff-9102-100e6948e552\n",
        "releaseID: None-20140901-38944fe4-bc8b-43ff-9102-100e6948e552\n",
        "releaseID: None-20140901-c43ca257-c986-465a-a1a7-843675764c4e"
       ]
      },
      {
       "output_type": "stream",
       "stream": "stdout",
       "text": [
        "\n",
        "releaseID: None-20140901-c43ca257-c986-465a-a1a7-843675764c4e\n",
        "releaseID: None-20140901-c43ca257-c986-465a-a1a7-843675764c4e\n",
        "releaseID: None-20140901-fb77f0a6-42f3-463b-9a31-e90c8cccdcc8"
       ]
      },
      {
       "output_type": "stream",
       "stream": "stdout",
       "text": [
        "\n",
        "releaseID: None-20140901-fb77f0a6-42f3-463b-9a31-e90c8cccdcc8\n",
        "releaseID: None-20140901-fb77f0a6-42f3-463b-9a31-e90c8cccdcc8\n",
        "releaseID: None-20140901-119a6374-e124-4be2-bc70-5a4241001951"
       ]
      },
      {
       "output_type": "stream",
       "stream": "stdout",
       "text": [
        "\n",
        "releaseID: None-20140901-119a6374-e124-4be2-bc70-5a4241001951\n",
        "releaseID: None-20140901-119a6374-e124-4be2-bc70-5a4241001951\n",
        "releaseID: None-20140901-bbedb0d8-383c-43c3-a60b-327bfedd7928\n",
        "releaseID: None-20140901-bbedb0d8-383c-43c3-a60b-327bfedd7928\n",
        "releaseID: None-20140901-bbedb0d8-383c-43c3-a60b-327bfedd7928\n",
        "releaseID: None-20140901-1cd8608b-7200-4cd5-85ba-f82789aca2f3\n",
        "releaseID: None-20140901-1cd8608b-7200-4cd5-85ba-f82789aca2f3\n",
        "releaseID: None-20140901-1cd8608b-7200-4cd5-85ba-f82789aca2f3\n",
        "releaseID: None-20140901-b885a7fc-d706-44c6-8a1b-db2ff6206f77\n",
        "releaseID: None-20140901-b885a7fc-d706-44c6-8a1b-db2ff6206f77\n",
        "releaseID: None-20140901-b885a7fc-d706-44c6-8a1b-db2ff6206f77\n",
        "releaseID: None-20140901-25026b5e-38b7-4d63-bcc3-4226e92e1f43"
       ]
      },
      {
       "output_type": "stream",
       "stream": "stdout",
       "text": [
        "\n",
        "releaseID: None-20140901-25026b5e-38b7-4d63-bcc3-4226e92e1f43\n",
        "releaseID: None-20140901-25026b5e-38b7-4d63-bcc3-4226e92e1f43\n",
        "releaseID: None-20140901-c63f213d-442a-44e3-8f1a-90b077d67669\n",
        "releaseID: None-20140901-c63f213d-442a-44e3-8f1a-90b077d67669\n",
        "releaseID: None-20140901-c63f213d-442a-44e3-8f1a-90b077d67669\n",
        "releaseID: None-20140901-bdad33d0-0f1f-43ae-8eb2-88a78362c68f\n",
        "releaseID: None-20140901-bdad33d0-0f1f-43ae-8eb2-88a78362c68f\n",
        "releaseID: None-20140901-bdad33d0-0f1f-43ae-8eb2-88a78362c68f\n",
        "releaseID: None-20140901-5dac57f3-c8f7-43f4-9b4d-812c4e022ab6"
       ]
      },
      {
       "output_type": "stream",
       "stream": "stdout",
       "text": [
        "\n",
        "releaseID: None-20140901-5dac57f3-c8f7-43f4-9b4d-812c4e022ab6\n",
        "releaseID: None-20140901-5dac57f3-c8f7-43f4-9b4d-812c4e022ab6\n",
        "releaseID: None-20140901-33b4eb05-0d87-47a6-bf78-4b915d3b093e\n",
        "releaseID: None-20140901-33b4eb05-0d87-47a6-bf78-4b915d3b093e\n",
        "releaseID: None-20140901-33b4eb05-0d87-47a6-bf78-4b915d3b093e\n",
        "releaseID: None-20140901-bc86072a-2ce3-466d-b734-3c5d6109d836\n",
        "releaseID: None-20140901-bc86072a-2ce3-466d-b734-3c5d6109d836\n",
        "releaseID: None-20140901-bc86072a-2ce3-466d-b734-3c5d6109d836\n",
        "releaseID: None-20140901-d5ec81fc-83d4-4d47-92dc-850755411f61"
       ]
      },
      {
       "output_type": "stream",
       "stream": "stdout",
       "text": [
        "\n",
        "releaseID: None-20140901-d5ec81fc-83d4-4d47-92dc-850755411f61\n",
        "releaseID: None-20140901-d5ec81fc-83d4-4d47-92dc-850755411f61\n",
        "releaseID: None-20140901-505d3a97-cb89-4bb3-bdff-a39eca0fce1f\n",
        "releaseID: None-20140901-505d3a97-cb89-4bb3-bdff-a39eca0fce1f\n",
        "releaseID: None-20140901-505d3a97-cb89-4bb3-bdff-a39eca0fce1f\n",
        "releaseID: None-20140901-711b9c09-d344-41c3-8673-57f7ff87f1e6\n",
        "releaseID: None-20140901-711b9c09-d344-41c3-8673-57f7ff87f1e6\n",
        "releaseID: None-20140901-711b9c09-d344-41c3-8673-57f7ff87f1e6\n",
        "releaseID: None-20140901-c6536621-6707-4461-aba3-d825bbbd7859"
       ]
      },
      {
       "output_type": "stream",
       "stream": "stdout",
       "text": [
        "\n",
        "releaseID: None-20140901-c6536621-6707-4461-aba3-d825bbbd7859\n",
        "releaseID: None-20140901-c6536621-6707-4461-aba3-d825bbbd7859\n",
        "releaseID: None-20140901-b5585f0f-581e-4161-8868-84232f61f526\n",
        "releaseID: None-20140901-b5585f0f-581e-4161-8868-84232f61f526\n",
        "releaseID: None-20140901-b5585f0f-581e-4161-8868-84232f61f526\n",
        "releaseID: None-20140901-f67e077f-4bb0-4f8c-b83f-d6afb7e33909"
       ]
      },
      {
       "output_type": "stream",
       "stream": "stdout",
       "text": [
        "\n",
        "releaseID: None-20140901-f67e077f-4bb0-4f8c-b83f-d6afb7e33909\n",
        "releaseID: None-20140901-f67e077f-4bb0-4f8c-b83f-d6afb7e33909\n",
        "releaseID: None-20140901-a00b1d60-29db-4c88-9b4d-a469a4770e6a\n",
        "releaseID: None-20140901-a00b1d60-29db-4c88-9b4d-a469a4770e6a\n",
        "releaseID: None-20140901-a00b1d60-29db-4c88-9b4d-a469a4770e6a\n",
        "releaseID: None-20140901-51d446aa-9727-4a67-842d-6fa50b68fe40\n",
        "releaseID: None-20140901-51d446aa-9727-4a67-842d-6fa50b68fe40\n",
        "releaseID: None-20140901-51d446aa-9727-4a67-842d-6fa50b68fe40\n",
        "releaseID: None-20140901-9b8460c1-7c1a-49b0-ac1c-6e478ed04466\n",
        "releaseID: None-20140901-9b8460c1-7c1a-49b0-ac1c-6e478ed04466\n",
        "releaseID: None-20140901-9b8460c1-7c1a-49b0-ac1c-6e478ed04466\n",
        "releaseID: None-20140901-506ef582-ac0d-47cd-9842-48ee842eea5d"
       ]
      },
      {
       "output_type": "stream",
       "stream": "stdout",
       "text": [
        "\n",
        "releaseID: None-20140901-506ef582-ac0d-47cd-9842-48ee842eea5d\n",
        "releaseID: None-20140901-506ef582-ac0d-47cd-9842-48ee842eea5d\n",
        "releaseID: None-20140901-f1398faa-6234-480c-8869-578ff6c3de08\n",
        "releaseID: None-20140901-f1398faa-6234-480c-8869-578ff6c3de08\n",
        "releaseID: None-20140901-f1398faa-6234-480c-8869-578ff6c3de08\n",
        "releaseID: None-20140901-d9af8486-b817-4691-bd1e-3b63f197d00a\n",
        "releaseID: None-20140901-d9af8486-b817-4691-bd1e-3b63f197d00a\n",
        "releaseID: None-20140901-d9af8486-b817-4691-bd1e-3b63f197d00a\n",
        "releaseID: None-20140901-a16c1dea-8774-4bf2-9a7b-84a2a78e8fa9"
       ]
      },
      {
       "output_type": "stream",
       "stream": "stdout",
       "text": [
        "\n",
        "releaseID: None-20140901-a16c1dea-8774-4bf2-9a7b-84a2a78e8fa9\n",
        "releaseID: None-20140901-a16c1dea-8774-4bf2-9a7b-84a2a78e8fa9\n",
        "releaseID: None-20140901-6501113b-407c-420e-856f-4ca2cc331952\n",
        "releaseID: None-20140901-6501113b-407c-420e-856f-4ca2cc331952\n",
        "releaseID: None-20140901-6501113b-407c-420e-856f-4ca2cc331952\n",
        "releaseID: None-20140901-091f3869-0093-4c69-aff6-89b523eb2667\n",
        "releaseID: None-20140901-091f3869-0093-4c69-aff6-89b523eb2667\n",
        "releaseID: None-20140901-091f3869-0093-4c69-aff6-89b523eb2667\n",
        "releaseID: None-20140901-9f22ea39-cf3b-44c2-8e16-cffa56c0db89"
       ]
      },
      {
       "output_type": "stream",
       "stream": "stdout",
       "text": [
        "\n",
        "releaseID: None-20140901-9f22ea39-cf3b-44c2-8e16-cffa56c0db89\n",
        "releaseID: None-20140901-9f22ea39-cf3b-44c2-8e16-cffa56c0db89\n",
        "releaseID: None-20140901-e31c9461-8b4e-47ef-821f-aa3ee316c6aa\n",
        "releaseID: None-20140901-e31c9461-8b4e-47ef-821f-aa3ee316c6aa\n",
        "releaseID: None-20140901-e31c9461-8b4e-47ef-821f-aa3ee316c6aa\n",
        "releaseID: None-20140901-6364b910-3b84-42b1-ba3d-abd313c6424f\n",
        "releaseID: None-20140901-6364b910-3b84-42b1-ba3d-abd313c6424f\n",
        "releaseID: None-20140901-6364b910-3b84-42b1-ba3d-abd313c6424f\n",
        "releaseID: None-20140901-118df64b-5414-4b4d-b8db-d93a8b1fdd66\n",
        "releaseID: None-20140901-118df64b-5414-4b4d-b8db-d93a8b1fdd66\n",
        "releaseID: None-20140901-118df64b-5414-4b4d-b8db-d93a8b1fdd66\n",
        "releaseID: None-20140901-92a746a4-bd7e-4ff6-8b89-ab8ed9724ba5"
       ]
      },
      {
       "output_type": "stream",
       "stream": "stdout",
       "text": [
        "\n",
        "releaseID: None-20140901-92a746a4-bd7e-4ff6-8b89-ab8ed9724ba5\n",
        "releaseID: None-20140901-92a746a4-bd7e-4ff6-8b89-ab8ed9724ba5\n",
        "releaseID: None-20140901-9d6ff366-271e-49b6-9ad4-35d59d5045a8\n",
        "releaseID: None-20140901-9d6ff366-271e-49b6-9ad4-35d59d5045a8\n",
        "releaseID: None-20140901-9d6ff366-271e-49b6-9ad4-35d59d5045a8\n",
        "releaseID: None-20140901-633cab67-2d58-4393-9665-93f7050a6463\n",
        "releaseID: None-20140901-633cab67-2d58-4393-9665-93f7050a6463\n",
        "releaseID: None-20140901-633cab67-2d58-4393-9665-93f7050a6463\n",
        "releaseID: None-20140901-aa523581-8939-4206-b491-fc8e6bc12714"
       ]
      },
      {
       "output_type": "stream",
       "stream": "stdout",
       "text": [
        "\n",
        "releaseID: None-20140901-aa523581-8939-4206-b491-fc8e6bc12714\n",
        "releaseID: None-20140901-aa523581-8939-4206-b491-fc8e6bc12714\n",
        "releaseID: None-20140901-bd977344-60ea-4ff7-b7e9-a36c8f9a44c7\n",
        "releaseID: None-20140901-bd977344-60ea-4ff7-b7e9-a36c8f9a44c7\n",
        "releaseID: None-20140901-bd977344-60ea-4ff7-b7e9-a36c8f9a44c7\n",
        "releaseID: None-20140901-5eac2410-b297-46f7-8404-42b496a75440"
       ]
      },
      {
       "output_type": "stream",
       "stream": "stdout",
       "text": [
        "\n",
        "releaseID: None-20140901-5eac2410-b297-46f7-8404-42b496a75440\n",
        "releaseID: None-20140901-5eac2410-b297-46f7-8404-42b496a75440\n",
        "releaseID: None-20140901-e5d4d4f4-b960-4ce7-baa6-2967fc45bb6e\n",
        "releaseID: None-20140901-e5d4d4f4-b960-4ce7-baa6-2967fc45bb6e\n",
        "releaseID: None-20140901-e5d4d4f4-b960-4ce7-baa6-2967fc45bb6e\n",
        "releaseID: None-20140901-2c009a6d-24ac-4bf4-855f-5eb51b90d3a4\n",
        "releaseID: None-20140901-2c009a6d-24ac-4bf4-855f-5eb51b90d3a4\n",
        "releaseID: None-20140901-2c009a6d-24ac-4bf4-855f-5eb51b90d3a4\n",
        "releaseID: None-20140901-953d9616-c1cb-4015-9d01-5cba8efec9db"
       ]
      },
      {
       "output_type": "stream",
       "stream": "stdout",
       "text": [
        "\n",
        "releaseID: None-20140901-953d9616-c1cb-4015-9d01-5cba8efec9db\n",
        "releaseID: None-20140901-953d9616-c1cb-4015-9d01-5cba8efec9db\n",
        "releaseID: None-20140901-b3d52319-1b11-4180-81cb-513a8c821e8c\n",
        "releaseID: None-20140901-b3d52319-1b11-4180-81cb-513a8c821e8c\n",
        "releaseID: None-20140901-b3d52319-1b11-4180-81cb-513a8c821e8c\n",
        "releaseID: None-20140901-7dd70d5d-d977-4a37-9af7-bc11237700f4\n",
        "releaseID: None-20140901-7dd70d5d-d977-4a37-9af7-bc11237700f4\n",
        "releaseID: None-20140901-7dd70d5d-d977-4a37-9af7-bc11237700f4\n",
        "releaseID: None-20140901-c38bf87f-cdcb-490d-9100-cbf3dd1d9329"
       ]
      },
      {
       "output_type": "stream",
       "stream": "stdout",
       "text": [
        "\n",
        "releaseID: None-20140901-c38bf87f-cdcb-490d-9100-cbf3dd1d9329\n",
        "releaseID: None-20140901-c38bf87f-cdcb-490d-9100-cbf3dd1d9329\n",
        "releaseID: None-20140901-e334720d-e99d-4be0-9343-946a3c613dbc\n",
        "releaseID: None-20140901-e334720d-e99d-4be0-9343-946a3c613dbc\n",
        "releaseID: None-20140901-e334720d-e99d-4be0-9343-946a3c613dbc\n",
        "releaseID: None-20140901-95d7901e-cc62-4521-8074-4d3c93504b91"
       ]
      },
      {
       "output_type": "stream",
       "stream": "stdout",
       "text": [
        "\n",
        "releaseID: None-20140901-95d7901e-cc62-4521-8074-4d3c93504b91\n",
        "releaseID: None-20140901-95d7901e-cc62-4521-8074-4d3c93504b91\n",
        "releaseID: None-20140901-08e2cec1-5d73-4823-aa60-9cb7822b2fbd\n",
        "releaseID: None-20140901-08e2cec1-5d73-4823-aa60-9cb7822b2fbd\n",
        "releaseID: None-20140901-08e2cec1-5d73-4823-aa60-9cb7822b2fbd\n",
        "releaseID: None-20140901-539c9e27-8aea-43c5-b680-c94560c13611\n",
        "releaseID: None-20140901-539c9e27-8aea-43c5-b680-c94560c13611\n",
        "releaseID: None-20140901-539c9e27-8aea-43c5-b680-c94560c13611\n",
        "releaseID: None-20140901-d2a3791b-363f-4d3a-ba0c-65e445fef74a"
       ]
      },
      {
       "output_type": "stream",
       "stream": "stdout",
       "text": [
        "\n",
        "releaseID: None-20140901-d2a3791b-363f-4d3a-ba0c-65e445fef74a\n",
        "releaseID: None-20140901-d2a3791b-363f-4d3a-ba0c-65e445fef74a\n",
        "releaseID: None-20140901-f6c91842-7f5e-4c44-a46b-463e28599796"
       ]
      },
      {
       "output_type": "stream",
       "stream": "stdout",
       "text": [
        "\n",
        "releaseID: None-20140901-f6c91842-7f5e-4c44-a46b-463e28599796\n",
        "releaseID: None-20140901-f6c91842-7f5e-4c44-a46b-463e28599796\n",
        "releaseID: None-20140901-3d8c2959-d233-4a8b-87e2-8d2e9118da2f\n",
        "releaseID: None-20140901-3d8c2959-d233-4a8b-87e2-8d2e9118da2f\n",
        "releaseID: None-20140901-3d8c2959-d233-4a8b-87e2-8d2e9118da2f\n",
        "releaseID: None-20140901-581a4efe-00df-4734-950a-88864aa0bb0e"
       ]
      },
      {
       "output_type": "stream",
       "stream": "stdout",
       "text": [
        "\n",
        "releaseID: None-20140901-581a4efe-00df-4734-950a-88864aa0bb0e\n",
        "releaseID: None-20140901-581a4efe-00df-4734-950a-88864aa0bb0e\n",
        "releaseID: None-20140901-130c534e-4684-4705-800d-2dff4f2f1503\n",
        "releaseID: None-20140901-130c534e-4684-4705-800d-2dff4f2f1503\n",
        "releaseID: None-20140901-130c534e-4684-4705-800d-2dff4f2f1503\n",
        "releaseID: None-20140901-84b78501-4e22-4a47-aef7-90c0ed1cfa18"
       ]
      },
      {
       "output_type": "stream",
       "stream": "stdout",
       "text": [
        "\n",
        "releaseID: None-20140901-84b78501-4e22-4a47-aef7-90c0ed1cfa18\n",
        "releaseID: None-20140901-84b78501-4e22-4a47-aef7-90c0ed1cfa18\n",
        "releaseID: None-20140901-f7733dd6-2e06-43da-8a9d-d701eedfeec1\n",
        "releaseID: None-20140901-f7733dd6-2e06-43da-8a9d-d701eedfeec1\n",
        "releaseID: None-20140901-f7733dd6-2e06-43da-8a9d-d701eedfeec1\n",
        "releaseID: None-20140901-d24b615c-f4b7-4d4c-8b33-2d2b7b6e1b3a"
       ]
      },
      {
       "output_type": "stream",
       "stream": "stdout",
       "text": [
        "\n",
        "releaseID: None-20140901-d24b615c-f4b7-4d4c-8b33-2d2b7b6e1b3a\n",
        "releaseID: None-20140901-d24b615c-f4b7-4d4c-8b33-2d2b7b6e1b3a\n",
        "releaseID: None-20140901-fead6c61-b5c7-4e57-ab00-1593f10d0091\n",
        "releaseID: None-20140901-fead6c61-b5c7-4e57-ab00-1593f10d0091\n",
        "releaseID: None-20140901-fead6c61-b5c7-4e57-ab00-1593f10d0091\n",
        "releaseID: None-20140901-10920a3d-ec41-4ded-89d3-a5d0513eed67"
       ]
      },
      {
       "output_type": "stream",
       "stream": "stdout",
       "text": [
        "\n",
        "releaseID: None-20140901-10920a3d-ec41-4ded-89d3-a5d0513eed67\n",
        "releaseID: None-20140901-10920a3d-ec41-4ded-89d3-a5d0513eed67\n",
        "releaseID: None-20140901-a1fd1e3c-e502-4121-9ae5-9aa6700321cd\n",
        "releaseID: None-20140901-a1fd1e3c-e502-4121-9ae5-9aa6700321cd\n",
        "releaseID: None-20140901-a1fd1e3c-e502-4121-9ae5-9aa6700321cd\n",
        "releaseID: None-20140901-562f0aa0-4e7e-4760-99c0-4c5b63293c09\n",
        "releaseID: None-20140901-562f0aa0-4e7e-4760-99c0-4c5b63293c09\n",
        "releaseID: None-20140901-562f0aa0-4e7e-4760-99c0-4c5b63293c09\n",
        "releaseID: None-20140901-59577a57-e171-434b-a4f9-a97779e36b78\n",
        "releaseID: None-20140901-59577a57-e171-434b-a4f9-a97779e36b78\n",
        "releaseID: None-20140901-59577a57-e171-434b-a4f9-a97779e36b78\n",
        "releaseID: None-20140901-6e88c4d1-86a7-413f-8ccd-fbd0094a112c"
       ]
      },
      {
       "output_type": "stream",
       "stream": "stdout",
       "text": [
        "\n",
        "releaseID: None-20140901-6e88c4d1-86a7-413f-8ccd-fbd0094a112c\n",
        "releaseID: None-20140901-6e88c4d1-86a7-413f-8ccd-fbd0094a112c\n",
        "releaseID: None-20140901-96048d32-30f9-49bc-b56b-c46454b59440\n",
        "releaseID: None-20140901-96048d32-30f9-49bc-b56b-c46454b59440\n",
        "releaseID: None-20140901-96048d32-30f9-49bc-b56b-c46454b59440\n",
        "releaseID: None-20140901-94a7ed20-f39b-4307-8b6c-4cddfb6eb899"
       ]
      },
      {
       "output_type": "stream",
       "stream": "stdout",
       "text": [
        "\n",
        "releaseID: None-20140901-94a7ed20-f39b-4307-8b6c-4cddfb6eb899\n",
        "releaseID: None-20140901-94a7ed20-f39b-4307-8b6c-4cddfb6eb899\n",
        "releaseID: None-20140901-f491d990-5eca-4398-91c1-375576c15546"
       ]
      },
      {
       "output_type": "stream",
       "stream": "stdout",
       "text": [
        "\n",
        "releaseID: None-20140901-f491d990-5eca-4398-91c1-375576c15546\n",
        "releaseID: None-20140901-f491d990-5eca-4398-91c1-375576c15546\n",
        "releaseID: None-20140901-59228878-aab8-41f8-865d-a7a3d63fbb90\n",
        "releaseID: None-20140901-59228878-aab8-41f8-865d-a7a3d63fbb90\n",
        "releaseID: None-20140901-59228878-aab8-41f8-865d-a7a3d63fbb90\n",
        "releaseID: None-20140901-f6c5e7bd-7a66-469e-b3f8-d25dce6f47a1\n",
        "releaseID: None-20140901-f6c5e7bd-7a66-469e-b3f8-d25dce6f47a1\n",
        "releaseID: None-20140901-f6c5e7bd-7a66-469e-b3f8-d25dce6f47a1\n",
        "releaseID: None-20140901-7f1f9d1f-3688-4362-b134-39347f7af2f0"
       ]
      },
      {
       "output_type": "stream",
       "stream": "stdout",
       "text": [
        "\n",
        "releaseID: None-20140901-7f1f9d1f-3688-4362-b134-39347f7af2f0\n",
        "releaseID: None-20140901-7f1f9d1f-3688-4362-b134-39347f7af2f0\n",
        "releaseID: None-20140901-1f5b5826-754a-4aad-8d2a-1973ba7ece56\n",
        "releaseID: None-20140901-1f5b5826-754a-4aad-8d2a-1973ba7ece56\n",
        "releaseID: None-20140901-1f5b5826-754a-4aad-8d2a-1973ba7ece56\n",
        "releaseID: None-20140901-7b9a9116-913e-4255-82c5-7b117f25eb3d\n",
        "releaseID: None-20140901-7b9a9116-913e-4255-82c5-7b117f25eb3d\n",
        "releaseID: None-20140901-7b9a9116-913e-4255-82c5-7b117f25eb3d\n",
        "releaseID: None-20140901-51d399b3-0ab7-4d00-8d03-c2f285951701\n",
        "releaseID: None-20140901-51d399b3-0ab7-4d00-8d03-c2f285951701\n",
        "releaseID: None-20140901-51d399b3-0ab7-4d00-8d03-c2f285951701\n",
        "releaseID: None-20140901-dce7826b-c7d1-49e8-bb90-ceea115c83cd"
       ]
      },
      {
       "output_type": "stream",
       "stream": "stdout",
       "text": [
        "\n",
        "releaseID: None-20140901-dce7826b-c7d1-49e8-bb90-ceea115c83cd\n",
        "releaseID: None-20140901-dce7826b-c7d1-49e8-bb90-ceea115c83cd\n",
        "releaseID: None-20140901-93cd0d7d-dcba-497b-b3dc-595b57a1f036\n",
        "releaseID: None-20140901-93cd0d7d-dcba-497b-b3dc-595b57a1f036\n",
        "releaseID: None-20140901-93cd0d7d-dcba-497b-b3dc-595b57a1f036\n",
        "releaseID: None-20140901-f0ce7503-e496-4289-a153-c41988d47e54\n",
        "releaseID: None-20140901-f0ce7503-e496-4289-a153-c41988d47e54\n",
        "releaseID: None-20140901-f0ce7503-e496-4289-a153-c41988d47e54\n",
        "releaseID: None-20140901-de414c52-cc71-49d9-b386-9ee6fd1bd339\n",
        "releaseID: None-20140901-de414c52-cc71-49d9-b386-9ee6fd1bd339\n",
        "releaseID: None-20140901-de414c52-cc71-49d9-b386-9ee6fd1bd339\n",
        "releaseID: None-20140901-6e5b9ef3-6a3e-486b-be2d-931743f0e47d"
       ]
      },
      {
       "output_type": "stream",
       "stream": "stdout",
       "text": [
        "\n",
        "releaseID: None-20140901-6e5b9ef3-6a3e-486b-be2d-931743f0e47d\n",
        "releaseID: None-20140901-6e5b9ef3-6a3e-486b-be2d-931743f0e47d\n",
        "releaseID: None-20140901-28603611-10c5-4fac-870f-39eb1b4ab001\n",
        "releaseID: None-20140901-28603611-10c5-4fac-870f-39eb1b4ab001\n",
        "releaseID: None-20140901-28603611-10c5-4fac-870f-39eb1b4ab001\n",
        "releaseID: None-20140901-51f90193-7eb2-4f85-9dfe-131c52ce5ebb"
       ]
      },
      {
       "output_type": "stream",
       "stream": "stdout",
       "text": [
        "\n",
        "releaseID: None-20140901-51f90193-7eb2-4f85-9dfe-131c52ce5ebb\n",
        "releaseID: None-20140901-51f90193-7eb2-4f85-9dfe-131c52ce5ebb\n",
        "releaseID: None-20140901-95241f7a-e134-4af8-9907-e85fb0c168a3\n",
        "releaseID: None-20140901-95241f7a-e134-4af8-9907-e85fb0c168a3\n",
        "releaseID: None-20140901-95241f7a-e134-4af8-9907-e85fb0c168a3\n",
        "releaseID: None-20140901-967ea9f3-dd9c-4e11-8429-b454e874bc12\n",
        "releaseID: None-20140901-967ea9f3-dd9c-4e11-8429-b454e874bc12\n",
        "releaseID: None-20140901-967ea9f3-dd9c-4e11-8429-b454e874bc12\n",
        "releaseID: None-20140901-3a3565f2-baee-4a8a-a353-2aa082114e22"
       ]
      },
      {
       "output_type": "stream",
       "stream": "stdout",
       "text": [
        "\n",
        "releaseID: None-20140901-3a3565f2-baee-4a8a-a353-2aa082114e22\n",
        "releaseID: None-20140901-3a3565f2-baee-4a8a-a353-2aa082114e22\n",
        "releaseID: None-20140901-1fded91e-74c6-4dea-8ffe-61c70428aa88"
       ]
      },
      {
       "output_type": "stream",
       "stream": "stdout",
       "text": [
        "\n",
        "releaseID: None-20140901-1fded91e-74c6-4dea-8ffe-61c70428aa88\n",
        "releaseID: None-20140901-1fded91e-74c6-4dea-8ffe-61c70428aa88\n",
        "releaseID: None-20140901-f8a1422c-98d3-47bb-8d60-e429adb385e9\n",
        "releaseID: None-20140901-f8a1422c-98d3-47bb-8d60-e429adb385e9\n",
        "releaseID: None-20140901-f8a1422c-98d3-47bb-8d60-e429adb385e9\n",
        "releaseID: None-20140901-a5215b93-ecbe-4e42-b53c-f14b476acfd0"
       ]
      },
      {
       "output_type": "stream",
       "stream": "stdout",
       "text": [
        "\n",
        "releaseID: None-20140901-a5215b93-ecbe-4e42-b53c-f14b476acfd0\n",
        "releaseID: None-20140901-a5215b93-ecbe-4e42-b53c-f14b476acfd0\n",
        "releaseID: None-20140901-cf329641-844b-4b30-82ae-d580c5df7fed\n",
        "releaseID: None-20140901-cf329641-844b-4b30-82ae-d580c5df7fed\n",
        "releaseID: None-20140901-cf329641-844b-4b30-82ae-d580c5df7fed\n",
        "releaseID: None-20140901-db7ade58-5c16-47f9-84c1-b384a4db1a2c"
       ]
      },
      {
       "output_type": "stream",
       "stream": "stdout",
       "text": [
        "\n",
        "releaseID: None-20140901-db7ade58-5c16-47f9-84c1-b384a4db1a2c\n",
        "releaseID: None-20140901-db7ade58-5c16-47f9-84c1-b384a4db1a2c\n",
        "releaseID: None-20140901-283b17af-41b3-42ea-a7d1-90fea6dc9773\n",
        "releaseID: None-20140901-283b17af-41b3-42ea-a7d1-90fea6dc9773\n",
        "releaseID: None-20140901-283b17af-41b3-42ea-a7d1-90fea6dc9773\n",
        "releaseID: None-20140901-69e2f33c-d800-4764-baa3-64609df4153a"
       ]
      },
      {
       "output_type": "stream",
       "stream": "stdout",
       "text": [
        "\n",
        "releaseID: None-20140901-69e2f33c-d800-4764-baa3-64609df4153a\n",
        "releaseID: None-20140901-69e2f33c-d800-4764-baa3-64609df4153a\n",
        "releaseID: None-20140901-04bd4b2d-44e9-4aec-a91f-050963258c69\n",
        "releaseID: None-20140901-04bd4b2d-44e9-4aec-a91f-050963258c69\n",
        "releaseID: None-20140901-04bd4b2d-44e9-4aec-a91f-050963258c69\n",
        "releaseID: None-20140901-d81d1124-8e94-472e-adea-afb89875b6c0"
       ]
      },
      {
       "output_type": "stream",
       "stream": "stdout",
       "text": [
        "\n",
        "releaseID: None-20140901-d81d1124-8e94-472e-adea-afb89875b6c0\n",
        "releaseID: None-20140901-d81d1124-8e94-472e-adea-afb89875b6c0\n",
        "releaseID: None-20140901-38beb540-ac59-49c3-9afb-64f91048c299"
       ]
      },
      {
       "output_type": "stream",
       "stream": "stdout",
       "text": [
        "\n",
        "releaseID: None-20140901-38beb540-ac59-49c3-9afb-64f91048c299\n",
        "releaseID: None-20140901-38beb540-ac59-49c3-9afb-64f91048c299\n",
        "releaseID: None-20140901-067c1fa5-d68b-451f-b9a6-155dfe18176a\n",
        "releaseID: None-20140901-067c1fa5-d68b-451f-b9a6-155dfe18176a\n",
        "releaseID: None-20140901-067c1fa5-d68b-451f-b9a6-155dfe18176a\n",
        "releaseID: None-20140901-dfd05735-cdf0-4301-b0be-c3ea70ddd29b"
       ]
      },
      {
       "output_type": "stream",
       "stream": "stdout",
       "text": [
        "\n",
        "releaseID: None-20140901-dfd05735-cdf0-4301-b0be-c3ea70ddd29b\n",
        "releaseID: None-20140901-dfd05735-cdf0-4301-b0be-c3ea70ddd29b\n",
        "releaseID: None-20140901-97f48b59-0524-47c9-8076-9d9239309c50\n",
        "releaseID: None-20140901-97f48b59-0524-47c9-8076-9d9239309c50\n",
        "releaseID: None-20140901-97f48b59-0524-47c9-8076-9d9239309c50\n",
        "releaseID: None-20140901-7f1b40f8-528b-4929-8da5-85c86737df42"
       ]
      },
      {
       "output_type": "stream",
       "stream": "stdout",
       "text": [
        "\n",
        "releaseID: None-20140901-7f1b40f8-528b-4929-8da5-85c86737df42\n",
        "releaseID: None-20140901-7f1b40f8-528b-4929-8da5-85c86737df42\n",
        "releaseID: None-20140901-34971a92-0b1d-4c2b-9ee1-4966603ee7eb\n",
        "releaseID: None-20140901-34971a92-0b1d-4c2b-9ee1-4966603ee7eb\n",
        "releaseID: None-20140901-34971a92-0b1d-4c2b-9ee1-4966603ee7eb\n",
        "releaseID: None-20140901-b0ab428c-561f-4fc7-a6fd-44381f08940c"
       ]
      },
      {
       "output_type": "stream",
       "stream": "stdout",
       "text": [
        "\n",
        "releaseID: None-20140901-b0ab428c-561f-4fc7-a6fd-44381f08940c\n",
        "releaseID: None-20140901-b0ab428c-561f-4fc7-a6fd-44381f08940c\n",
        "releaseID: None-20140901-0888dfa3-07c1-435f-8b26-6c1eb3d5dc98\n",
        "releaseID: None-20140901-0888dfa3-07c1-435f-8b26-6c1eb3d5dc98\n",
        "releaseID: None-20140901-0888dfa3-07c1-435f-8b26-6c1eb3d5dc98\n",
        "releaseID: None-20140901-d45fc42b-4819-4b04-9b2e-934269869309\n",
        "releaseID: None-20140901-d45fc42b-4819-4b04-9b2e-934269869309\n",
        "releaseID: None-20140901-d45fc42b-4819-4b04-9b2e-934269869309\n",
        "releaseID: None-20140901-5d4df9cd-8b80-41b2-a7fb-70e614dce369"
       ]
      },
      {
       "output_type": "stream",
       "stream": "stdout",
       "text": [
        "\n",
        "releaseID: None-20140901-5d4df9cd-8b80-41b2-a7fb-70e614dce369\n",
        "releaseID: None-20140901-5d4df9cd-8b80-41b2-a7fb-70e614dce369\n",
        "releaseID: None-20140901-3bb8e161-ac27-4f7e-849e-5be1cffc7cae"
       ]
      },
      {
       "output_type": "stream",
       "stream": "stdout",
       "text": [
        "\n",
        "releaseID: None-20140901-3bb8e161-ac27-4f7e-849e-5be1cffc7cae\n",
        "releaseID: None-20140901-3bb8e161-ac27-4f7e-849e-5be1cffc7cae\n",
        "releaseID: None-20140901-9a3ede96-c321-479f-8986-f82870a89a03"
       ]
      },
      {
       "output_type": "stream",
       "stream": "stdout",
       "text": [
        "\n",
        "releaseID: None-20140901-9a3ede96-c321-479f-8986-f82870a89a03\n",
        "releaseID: None-20140901-9a3ede96-c321-479f-8986-f82870a89a03\n",
        "releaseID: None-20140901-a510fe57-a882-4c3d-9cab-ffca297d2718\n",
        "releaseID: None-20140901-a510fe57-a882-4c3d-9cab-ffca297d2718\n",
        "releaseID: None-20140901-a510fe57-a882-4c3d-9cab-ffca297d2718\n",
        "releaseID: None-20140901-8d4b4d5c-57a1-4d61-8c3a-b82fc4eaaa7f\n",
        "releaseID: None-20140901-8d4b4d5c-57a1-4d61-8c3a-b82fc4eaaa7f\n",
        "releaseID: None-20140901-8d4b4d5c-57a1-4d61-8c3a-b82fc4eaaa7f\n",
        "releaseID: None-20140901-70b3b137-5b30-4426-9467-a9f4f859cfb6\n",
        "releaseID: None-20140901-70b3b137-5b30-4426-9467-a9f4f859cfb6\n",
        "releaseID: None-20140901-70b3b137-5b30-4426-9467-a9f4f859cfb6\n",
        "releaseID: None-20140901-5c911fa7-df00-434f-9074-f7c254108266"
       ]
      },
      {
       "output_type": "stream",
       "stream": "stdout",
       "text": [
        "\n",
        "releaseID: None-20140901-5c911fa7-df00-434f-9074-f7c254108266\n",
        "releaseID: None-20140901-5c911fa7-df00-434f-9074-f7c254108266\n",
        "releaseID: None-20140901-0c848e1c-7618-4a10-b278-24ed78d27777\n",
        "releaseID: None-20140901-0c848e1c-7618-4a10-b278-24ed78d27777\n",
        "releaseID: None-20140901-0c848e1c-7618-4a10-b278-24ed78d27777\n",
        "releaseID: None-20140901-5df5d639-3073-43d4-ae40-8a824c4f46be"
       ]
      },
      {
       "output_type": "stream",
       "stream": "stdout",
       "text": [
        "\n",
        "releaseID: None-20140901-5df5d639-3073-43d4-ae40-8a824c4f46be\n",
        "releaseID: None-20140901-5df5d639-3073-43d4-ae40-8a824c4f46be\n",
        "releaseID: None-20140901-7db3e631-9113-4e69-bdeb-734b8d08725d\n",
        "releaseID: None-20140901-7db3e631-9113-4e69-bdeb-734b8d08725d\n",
        "releaseID: None-20140901-7db3e631-9113-4e69-bdeb-734b8d08725d\n",
        "releaseID: None-20140901-bfa9be43-2078-48ac-895d-b1c98913f11c"
       ]
      },
      {
       "output_type": "stream",
       "stream": "stdout",
       "text": [
        "\n",
        "releaseID: None-20140901-bfa9be43-2078-48ac-895d-b1c98913f11c\n",
        "releaseID: None-20140901-bfa9be43-2078-48ac-895d-b1c98913f11c\n",
        "releaseID: None-20140901-c021dfac-ce75-408b-8a50-aeba89b827cb"
       ]
      },
      {
       "output_type": "stream",
       "stream": "stdout",
       "text": [
        "\n",
        "releaseID: None-20140901-c021dfac-ce75-408b-8a50-aeba89b827cb\n",
        "releaseID: None-20140901-c021dfac-ce75-408b-8a50-aeba89b827cb\n",
        "releaseID: None-20140901-ad1d74bb-0f43-4627-b6fa-a95798676203\n",
        "releaseID: None-20140901-ad1d74bb-0f43-4627-b6fa-a95798676203\n",
        "releaseID: None-20140901-ad1d74bb-0f43-4627-b6fa-a95798676203\n",
        "releaseID: None-20140901-223e8514-9331-4391-84b4-e8bb4081d146\n",
        "releaseID: None-20140901-223e8514-9331-4391-84b4-e8bb4081d146\n",
        "releaseID: None-20140901-223e8514-9331-4391-84b4-e8bb4081d146\n",
        "releaseID: None-20140901-50fbdf30-09ac-4251-8cad-a8d094c94623"
       ]
      },
      {
       "output_type": "stream",
       "stream": "stdout",
       "text": [
        "\n",
        "releaseID: None-20140901-50fbdf30-09ac-4251-8cad-a8d094c94623\n",
        "releaseID: None-20140901-50fbdf30-09ac-4251-8cad-a8d094c94623\n",
        "releaseID: None-20140901-4164f929-cc0d-4eba-a5ff-e4526703c95b"
       ]
      },
      {
       "output_type": "stream",
       "stream": "stdout",
       "text": [
        "\n",
        "releaseID: None-20140901-4164f929-cc0d-4eba-a5ff-e4526703c95b\n",
        "releaseID: None-20140901-4164f929-cc0d-4eba-a5ff-e4526703c95b\n",
        "releaseID: None-20140901-8f67b625-f2f0-47d3-be8e-7bbfe8f9783f\n",
        "releaseID: None-20140901-8f67b625-f2f0-47d3-be8e-7bbfe8f9783f\n",
        "releaseID: None-20140901-8f67b625-f2f0-47d3-be8e-7bbfe8f9783f\n",
        "releaseID: None-20140901-0f69c69e-0110-424e-b93d-41a07c05ab4c"
       ]
      },
      {
       "output_type": "stream",
       "stream": "stdout",
       "text": [
        "\n",
        "releaseID: None-20140901-0f69c69e-0110-424e-b93d-41a07c05ab4c\n",
        "releaseID: None-20140901-0f69c69e-0110-424e-b93d-41a07c05ab4c\n",
        "releaseID: None-20140901-6b1fbec5-c8d0-4a88-a983-b96ad9c618ce\n",
        "releaseID: None-20140901-6b1fbec5-c8d0-4a88-a983-b96ad9c618ce\n",
        "releaseID: None-20140901-6b1fbec5-c8d0-4a88-a983-b96ad9c618ce\n",
        "releaseID: None-20140901-8090a189-a602-4676-a343-fde0a7d82b1a"
       ]
      },
      {
       "output_type": "stream",
       "stream": "stdout",
       "text": [
        "\n",
        "releaseID: None-20140901-8090a189-a602-4676-a343-fde0a7d82b1a\n",
        "releaseID: None-20140901-8090a189-a602-4676-a343-fde0a7d82b1a\n",
        "releaseID: None-20140901-0a40d397-4709-4e7f-9f8b-426feb5a2119\n",
        "releaseID: None-20140901-0a40d397-4709-4e7f-9f8b-426feb5a2119\n",
        "releaseID: None-20140901-0a40d397-4709-4e7f-9f8b-426feb5a2119\n",
        "releaseID: None-20140901-d2ae397e-ea4f-41b2-8c1d-4cc8a8e2c0aa"
       ]
      },
      {
       "output_type": "stream",
       "stream": "stdout",
       "text": [
        "\n",
        "releaseID: None-20140901-d2ae397e-ea4f-41b2-8c1d-4cc8a8e2c0aa\n",
        "releaseID: None-20140901-d2ae397e-ea4f-41b2-8c1d-4cc8a8e2c0aa\n",
        "releaseID: None-20140901-8775f721-c275-43ce-aa9b-9f9946fce4eb"
       ]
      },
      {
       "output_type": "stream",
       "stream": "stdout",
       "text": [
        "\n",
        "releaseID: None-20140901-8775f721-c275-43ce-aa9b-9f9946fce4eb\n",
        "releaseID: None-20140901-8775f721-c275-43ce-aa9b-9f9946fce4eb\n",
        "releaseID: None-20140901-6b1107a5-d3a5-45b7-9d06-25c48c33f54e\n",
        "releaseID: None-20140901-6b1107a5-d3a5-45b7-9d06-25c48c33f54e\n",
        "releaseID: None-20140901-6b1107a5-d3a5-45b7-9d06-25c48c33f54e\n",
        "releaseID: None-20140901-0025655c-3244-4b36-b6e4-6f1cfa46f000"
       ]
      },
      {
       "output_type": "stream",
       "stream": "stdout",
       "text": [
        "\n",
        "releaseID: None-20140901-0025655c-3244-4b36-b6e4-6f1cfa46f000\n",
        "releaseID: None-20140901-0025655c-3244-4b36-b6e4-6f1cfa46f000\n",
        "releaseID: None-20140901-fc49e446-a517-41ca-859e-cb967d853032"
       ]
      },
      {
       "output_type": "stream",
       "stream": "stdout",
       "text": [
        "\n",
        "releaseID: None-20140901-fc49e446-a517-41ca-859e-cb967d853032\n",
        "releaseID: None-20140901-fc49e446-a517-41ca-859e-cb967d853032\n",
        "releaseID: None-20140901-173660e1-ee70-4e2f-b572-6dc02db198c3\n",
        "releaseID: None-20140901-173660e1-ee70-4e2f-b572-6dc02db198c3\n",
        "releaseID: None-20140901-173660e1-ee70-4e2f-b572-6dc02db198c3\n",
        "releaseID: None-20140901-5e7df3db-f60c-4d2e-aa54-4afcf13a41b3\n",
        "releaseID: None-20140901-5e7df3db-f60c-4d2e-aa54-4afcf13a41b3\n",
        "releaseID: None-20140901-5e7df3db-f60c-4d2e-aa54-4afcf13a41b3\n",
        "releaseID: None-20140901-5ebaf0f8-8aa8-40fc-bcef-b5c5bbe6d47d"
       ]
      },
      {
       "output_type": "stream",
       "stream": "stdout",
       "text": [
        "\n",
        "releaseID: None-20140901-5ebaf0f8-8aa8-40fc-bcef-b5c5bbe6d47d\n",
        "releaseID: None-20140901-5ebaf0f8-8aa8-40fc-bcef-b5c5bbe6d47d\n",
        "releaseID: None-20140901-8162c3f5-203f-41e4-9396-6279f40e08e9"
       ]
      },
      {
       "output_type": "stream",
       "stream": "stdout",
       "text": [
        "\n",
        "releaseID: None-20140901-8162c3f5-203f-41e4-9396-6279f40e08e9\n",
        "releaseID: None-20140901-8162c3f5-203f-41e4-9396-6279f40e08e9\n",
        "releaseID: None-20140901-fcb2e364-0a5f-4ae3-808c-705ec78dfef3\n",
        "releaseID: None-20140901-fcb2e364-0a5f-4ae3-808c-705ec78dfef3\n",
        "releaseID: None-20140901-fcb2e364-0a5f-4ae3-808c-705ec78dfef3\n",
        "releaseID: None-20140901-aad0b99d-5687-4ab0-88b3-e2fc654b8f43"
       ]
      },
      {
       "output_type": "stream",
       "stream": "stdout",
       "text": [
        "\n",
        "releaseID: None-20140901-aad0b99d-5687-4ab0-88b3-e2fc654b8f43\n",
        "releaseID: None-20140901-aad0b99d-5687-4ab0-88b3-e2fc654b8f43\n",
        "releaseID: None-20140901-927f48ef-2fdb-40a8-b624-a7053e36a320\n",
        "releaseID: None-20140901-927f48ef-2fdb-40a8-b624-a7053e36a320\n",
        "releaseID: None-20140901-927f48ef-2fdb-40a8-b624-a7053e36a320\n",
        "releaseID: None-20140901-b249651d-309a-4599-ab32-6ecbe1d6499e\n",
        "releaseID: None-20140901-b249651d-309a-4599-ab32-6ecbe1d6499e\n",
        "releaseID: None-20140901-b249651d-309a-4599-ab32-6ecbe1d6499e\n",
        "releaseID: None-20140901-efdbe753-a987-4599-ba8b-850576fa5054"
       ]
      },
      {
       "output_type": "stream",
       "stream": "stdout",
       "text": [
        "\n",
        "releaseID: None-20140901-efdbe753-a987-4599-ba8b-850576fa5054\n",
        "releaseID: None-20140901-efdbe753-a987-4599-ba8b-850576fa5054\n",
        "releaseID: None-20140901-dc1ddc48-2b57-4bbe-97a4-68bb0f63fdf4\n",
        "releaseID: None-20140901-dc1ddc48-2b57-4bbe-97a4-68bb0f63fdf4\n",
        "releaseID: None-20140901-dc1ddc48-2b57-4bbe-97a4-68bb0f63fdf4\n",
        "releaseID: None-20140901-0aae8973-677d-4343-8fef-9a59c9dfebc0"
       ]
      },
      {
       "output_type": "stream",
       "stream": "stdout",
       "text": [
        "\n",
        "releaseID: None-20140901-0aae8973-677d-4343-8fef-9a59c9dfebc0\n",
        "releaseID: None-20140901-0aae8973-677d-4343-8fef-9a59c9dfebc0\n",
        "releaseID: None-20140901-ba13ae96-b9de-45a7-9459-885dc6feee12\n",
        "releaseID: None-20140901-ba13ae96-b9de-45a7-9459-885dc6feee12\n",
        "releaseID: None-20140901-ba13ae96-b9de-45a7-9459-885dc6feee12\n",
        "releaseID: None-20140901-86fc17e4-1d46-4d09-b47b-8f1135625220\n",
        "releaseID: None-20140901-86fc17e4-1d46-4d09-b47b-8f1135625220\n",
        "releaseID: None-20140901-86fc17e4-1d46-4d09-b47b-8f1135625220\n",
        "releaseID: None-20140901-510dd0d4-d26c-4488-bfc6-e366e2ab1aa4"
       ]
      },
      {
       "output_type": "stream",
       "stream": "stdout",
       "text": [
        "\n",
        "releaseID: None-20140901-510dd0d4-d26c-4488-bfc6-e366e2ab1aa4\n",
        "releaseID: None-20140901-510dd0d4-d26c-4488-bfc6-e366e2ab1aa4\n",
        "releaseID: None-20140901-cdae882f-fff4-44c0-af8f-ea0ee01e5e4a"
       ]
      },
      {
       "output_type": "stream",
       "stream": "stdout",
       "text": [
        "\n",
        "releaseID: None-20140901-cdae882f-fff4-44c0-af8f-ea0ee01e5e4a\n",
        "releaseID: None-20140901-cdae882f-fff4-44c0-af8f-ea0ee01e5e4a\n",
        "releaseID: None-20140901-7be802e4-89b3-4525-a902-58a37061a89f\n",
        "releaseID: None-20140901-7be802e4-89b3-4525-a902-58a37061a89f\n",
        "releaseID: None-20140901-7be802e4-89b3-4525-a902-58a37061a89f\n",
        "releaseID: None-20140901-19fa958f-c52b-497d-9ee5-a9f970afdf4d"
       ]
      },
      {
       "output_type": "stream",
       "stream": "stdout",
       "text": [
        "\n",
        "releaseID: None-20140901-19fa958f-c52b-497d-9ee5-a9f970afdf4d\n",
        "releaseID: None-20140901-19fa958f-c52b-497d-9ee5-a9f970afdf4d\n",
        "releaseID: None-20140901-a6bed0c7-1cb2-4dd6-a406-030c4cc3dc9a"
       ]
      },
      {
       "output_type": "stream",
       "stream": "stdout",
       "text": [
        "\n",
        "releaseID: None-20140901-a6bed0c7-1cb2-4dd6-a406-030c4cc3dc9a\n",
        "releaseID: None-20140901-a6bed0c7-1cb2-4dd6-a406-030c4cc3dc9a\n",
        "releaseID: None-20140901-7337a3d5-8fea-41cb-9070-fcecb4d7a8f9\n",
        "releaseID: None-20140901-7337a3d5-8fea-41cb-9070-fcecb4d7a8f9\n",
        "releaseID: None-20140901-7337a3d5-8fea-41cb-9070-fcecb4d7a8f9\n",
        "releaseID: None-20140901-7230cdd5-450f-4323-af6b-e489b6b92aec"
       ]
      },
      {
       "output_type": "stream",
       "stream": "stdout",
       "text": [
        "\n",
        "releaseID: None-20140901-7230cdd5-450f-4323-af6b-e489b6b92aec\n",
        "releaseID: None-20140901-7230cdd5-450f-4323-af6b-e489b6b92aec\n",
        "releaseID: None-20140901-45424c4a-5a64-47ab-ae04-aea55d72e9ae"
       ]
      },
      {
       "output_type": "stream",
       "stream": "stdout",
       "text": [
        "\n",
        "releaseID: None-20140901-45424c4a-5a64-47ab-ae04-aea55d72e9ae\n",
        "releaseID: None-20140901-45424c4a-5a64-47ab-ae04-aea55d72e9ae\n",
        "releaseID: None-20140901-598fbaeb-ff4d-49c9-a197-ac46a09695d0\n",
        "releaseID: None-20140901-598fbaeb-ff4d-49c9-a197-ac46a09695d0\n",
        "releaseID: None-20140901-598fbaeb-ff4d-49c9-a197-ac46a09695d0\n",
        "releaseID: None-20140901-96f146dd-8015-47e7-8b98-215e50e944d2"
       ]
      },
      {
       "output_type": "stream",
       "stream": "stdout",
       "text": [
        "\n",
        "releaseID: None-20140901-96f146dd-8015-47e7-8b98-215e50e944d2\n",
        "releaseID: None-20140901-96f146dd-8015-47e7-8b98-215e50e944d2\n",
        "releaseID: None-20140901-4ba2c164-fb3d-456b-af73-1374e71494aa"
       ]
      },
      {
       "output_type": "stream",
       "stream": "stdout",
       "text": [
        "\n",
        "releaseID: None-20140901-4ba2c164-fb3d-456b-af73-1374e71494aa\n",
        "releaseID: None-20140901-4ba2c164-fb3d-456b-af73-1374e71494aa\n",
        "releaseID: None-20140901-45074271-933d-436b-b40e-5d86bb662c01\n",
        "releaseID: None-20140901-45074271-933d-436b-b40e-5d86bb662c01\n",
        "releaseID: None-20140901-45074271-933d-436b-b40e-5d86bb662c01\n",
        "releaseID: None-20140901-4feea464-36da-4c9e-ac44-3fc091cee7ba"
       ]
      },
      {
       "output_type": "stream",
       "stream": "stdout",
       "text": [
        "\n",
        "releaseID: None-20140901-4feea464-36da-4c9e-ac44-3fc091cee7ba\n",
        "releaseID: None-20140901-4feea464-36da-4c9e-ac44-3fc091cee7ba\n",
        "releaseID: None-20140901-e6d7b434-af1e-4279-9246-acdc3bb98f00\n",
        "releaseID: None-20140901-e6d7b434-af1e-4279-9246-acdc3bb98f00\n",
        "releaseID: None-20140901-e6d7b434-af1e-4279-9246-acdc3bb98f00\n",
        "releaseID: None-20140901-59653ffc-2645-4b3f-b542-90ef292232e6"
       ]
      },
      {
       "output_type": "stream",
       "stream": "stdout",
       "text": [
        "\n",
        "releaseID: None-20140901-59653ffc-2645-4b3f-b542-90ef292232e6\n",
        "releaseID: None-20140901-59653ffc-2645-4b3f-b542-90ef292232e6\n",
        "releaseID: None-20140901-db23d24c-9894-46d7-9f34-042577ea7e48\n",
        "releaseID: None-20140901-db23d24c-9894-46d7-9f34-042577ea7e48\n",
        "releaseID: None-20140901-db23d24c-9894-46d7-9f34-042577ea7e48\n",
        "releaseID: None-20140901-c03fa29f-5240-4306-b038-2eabd49fec73"
       ]
      },
      {
       "output_type": "stream",
       "stream": "stdout",
       "text": [
        "\n",
        "releaseID: None-20140901-c03fa29f-5240-4306-b038-2eabd49fec73\n",
        "releaseID: None-20140901-c03fa29f-5240-4306-b038-2eabd49fec73\n",
        "releaseID: None-20140901-e9102413-5a12-47b5-9b28-7a341ca3239f\n",
        "releaseID: None-20140901-e9102413-5a12-47b5-9b28-7a341ca3239f\n",
        "releaseID: None-20140901-e9102413-5a12-47b5-9b28-7a341ca3239f\n",
        "releaseID: None-20140901-d50fe824-f3eb-4bf3-ad20-3155934f0431"
       ]
      },
      {
       "output_type": "stream",
       "stream": "stdout",
       "text": [
        "\n",
        "releaseID: None-20140901-d50fe824-f3eb-4bf3-ad20-3155934f0431\n",
        "releaseID: None-20140901-d50fe824-f3eb-4bf3-ad20-3155934f0431\n",
        "releaseID: None-20140901-0746b4ec-3453-47ec-8e10-11c1c4adb756\n",
        "releaseID: None-20140901-0746b4ec-3453-47ec-8e10-11c1c4adb756\n",
        "releaseID: None-20140901-0746b4ec-3453-47ec-8e10-11c1c4adb756\n",
        "releaseID: None-20140901-7a1e42fa-9a79-4880-9c99-bd9f38dffd84"
       ]
      },
      {
       "output_type": "stream",
       "stream": "stdout",
       "text": [
        "\n",
        "releaseID: None-20140901-7a1e42fa-9a79-4880-9c99-bd9f38dffd84\n",
        "releaseID: None-20140901-7a1e42fa-9a79-4880-9c99-bd9f38dffd84\n",
        "releaseID: None-20140901-27d6a91f-5b60-49a7-aa73-42ddd03ef3f0\n",
        "releaseID: None-20140901-27d6a91f-5b60-49a7-aa73-42ddd03ef3f0\n",
        "releaseID: None-20140901-27d6a91f-5b60-49a7-aa73-42ddd03ef3f0\n",
        "releaseID: None-20140901-0f349ca6-45cc-4651-bbe6-6ccf1ec92611"
       ]
      },
      {
       "output_type": "stream",
       "stream": "stdout",
       "text": [
        "\n",
        "releaseID: None-20140901-0f349ca6-45cc-4651-bbe6-6ccf1ec92611\n",
        "releaseID: None-20140901-0f349ca6-45cc-4651-bbe6-6ccf1ec92611\n",
        "releaseID: None-20140901-3040e81a-918a-4a30-80a8-f95d272da0c6"
       ]
      },
      {
       "output_type": "stream",
       "stream": "stdout",
       "text": [
        "\n",
        "releaseID: None-20140901-3040e81a-918a-4a30-80a8-f95d272da0c6\n",
        "releaseID: None-20140901-3040e81a-918a-4a30-80a8-f95d272da0c6\n",
        "releaseID: None-20140901-23613098-9504-4efb-80cf-c10ec9c2f28c"
       ]
      },
      {
       "output_type": "stream",
       "stream": "stdout",
       "text": [
        "\n",
        "releaseID: None-20140901-23613098-9504-4efb-80cf-c10ec9c2f28c\n",
        "releaseID: None-20140901-23613098-9504-4efb-80cf-c10ec9c2f28c\n",
        "releaseID: None-20140901-ae99fe58-4d33-47d2-9243-2d2ed59b8170\n",
        "releaseID: None-20140901-ae99fe58-4d33-47d2-9243-2d2ed59b8170\n",
        "releaseID: None-20140901-ae99fe58-4d33-47d2-9243-2d2ed59b8170\n",
        "releaseID: None-20140901-114e8527-99ee-4643-969c-a28bd6bbcb94\n",
        "releaseID: None-20140901-114e8527-99ee-4643-969c-a28bd6bbcb94\n",
        "releaseID: None-20140901-114e8527-99ee-4643-969c-a28bd6bbcb94\n",
        "releaseID: None-20140901-27c02c53-7a6e-4f1c-b4be-9724eef87265"
       ]
      },
      {
       "output_type": "stream",
       "stream": "stdout",
       "text": [
        "\n",
        "releaseID: None-20140901-27c02c53-7a6e-4f1c-b4be-9724eef87265\n",
        "releaseID: None-20140901-27c02c53-7a6e-4f1c-b4be-9724eef87265\n",
        "releaseID: None-20140901-26f9154c-2329-4488-84b1-dfc3f5498654\n",
        "releaseID: None-20140901-26f9154c-2329-4488-84b1-dfc3f5498654\n",
        "releaseID: None-20140901-26f9154c-2329-4488-84b1-dfc3f5498654\n",
        "releaseID: None-20140901-e3ceec17-62da-489e-9375-25d85a0d43ef"
       ]
      },
      {
       "output_type": "stream",
       "stream": "stdout",
       "text": [
        "\n",
        "releaseID: None-20140901-e3ceec17-62da-489e-9375-25d85a0d43ef\n",
        "releaseID: None-20140901-e3ceec17-62da-489e-9375-25d85a0d43ef\n",
        "releaseID: None-20140901-59bd4fd6-283b-4edd-8d0c-677d4de699f3\n",
        "releaseID: None-20140901-59bd4fd6-283b-4edd-8d0c-677d4de699f3\n",
        "releaseID: None-20140901-59bd4fd6-283b-4edd-8d0c-677d4de699f3\n",
        "releaseID: None-20140901-dc83d98e-90df-4cce-a2e4-c4c13535a29b\n",
        "releaseID: None-20140901-dc83d98e-90df-4cce-a2e4-c4c13535a29b\n",
        "releaseID: None-20140901-dc83d98e-90df-4cce-a2e4-c4c13535a29b\n",
        "releaseID: None-20140901-48d1f439-27f9-4b41-a301-2279466c8d8e\n",
        "releaseID: None-20140901-48d1f439-27f9-4b41-a301-2279466c8d8e\n",
        "releaseID: None-20140901-48d1f439-27f9-4b41-a301-2279466c8d8e\n",
        "releaseID: None-20140901-1389b8e3-9a1c-4a75-85fd-91ca543ed168"
       ]
      },
      {
       "output_type": "stream",
       "stream": "stdout",
       "text": [
        "\n",
        "releaseID: None-20140901-1389b8e3-9a1c-4a75-85fd-91ca543ed168\n",
        "releaseID: None-20140901-1389b8e3-9a1c-4a75-85fd-91ca543ed168\n",
        "releaseID: None-20140901-701c1a54-b1bb-471e-8e20-df55d8372a0e\n",
        "releaseID: None-20140901-701c1a54-b1bb-471e-8e20-df55d8372a0e\n",
        "releaseID: None-20140901-701c1a54-b1bb-471e-8e20-df55d8372a0e\n",
        "releaseID: None-20140901-023c0fda-fa80-4ae3-b84a-591652a33f95"
       ]
      },
      {
       "output_type": "stream",
       "stream": "stdout",
       "text": [
        "\n",
        "releaseID: None-20140901-023c0fda-fa80-4ae3-b84a-591652a33f95\n",
        "releaseID: None-20140901-023c0fda-fa80-4ae3-b84a-591652a33f95\n",
        "releaseID: None-20140901-9619f322-5eed-4006-8792-b7999d2a1e61\n",
        "releaseID: None-20140901-9619f322-5eed-4006-8792-b7999d2a1e61\n",
        "releaseID: None-20140901-9619f322-5eed-4006-8792-b7999d2a1e61\n",
        "releaseID: None-20140901-b8070abc-f1d1-461e-857f-66082d5d7f72"
       ]
      },
      {
       "output_type": "stream",
       "stream": "stdout",
       "text": [
        "\n",
        "releaseID: None-20140901-b8070abc-f1d1-461e-857f-66082d5d7f72\n",
        "releaseID: None-20140901-b8070abc-f1d1-461e-857f-66082d5d7f72\n",
        "releaseID: None-20140901-81b694c8-1fbe-4335-8508-4826f0040bb1\n",
        "releaseID: None-20140901-81b694c8-1fbe-4335-8508-4826f0040bb1\n",
        "releaseID: None-20140901-81b694c8-1fbe-4335-8508-4826f0040bb1\n",
        "releaseID: None-20140901-c96c24d2-89a1-4a7f-8949-6084280b4944\n",
        "releaseID: None-20140901-c96c24d2-89a1-4a7f-8949-6084280b4944\n",
        "releaseID: None-20140901-c96c24d2-89a1-4a7f-8949-6084280b4944\n",
        "releaseID: None-20140901-62181717-1d6c-4a23-adf9-06f553f21d26\n",
        "releaseID: None-20140901-62181717-1d6c-4a23-adf9-06f553f21d26\n",
        "releaseID: None-20140901-62181717-1d6c-4a23-adf9-06f553f21d26\n",
        "releaseID: None-20140901-ce82c39b-4620-4b1b-b62d-2ddc99a6838c"
       ]
      },
      {
       "output_type": "stream",
       "stream": "stdout",
       "text": [
        "\n",
        "releaseID: None-20140901-ce82c39b-4620-4b1b-b62d-2ddc99a6838c\n",
        "releaseID: None-20140901-ce82c39b-4620-4b1b-b62d-2ddc99a6838c\n",
        "releaseID: None-20140901-ca2282f9-c521-4d71-9cee-63f2a79acc98\n",
        "releaseID: None-20140901-ca2282f9-c521-4d71-9cee-63f2a79acc98\n",
        "releaseID: None-20140901-ca2282f9-c521-4d71-9cee-63f2a79acc98\n",
        "releaseID: None-20140901-6fc10e01-58ac-4517-aa7c-d439e63f963f\n",
        "releaseID: None-20140901-6fc10e01-58ac-4517-aa7c-d439e63f963f\n",
        "releaseID: None-20140901-6fc10e01-58ac-4517-aa7c-d439e63f963f\n",
        "releaseID: None-20140901-57864723-4250-407d-a553-5912e704bfe2"
       ]
      },
      {
       "output_type": "stream",
       "stream": "stdout",
       "text": [
        "\n",
        "releaseID: None-20140901-57864723-4250-407d-a553-5912e704bfe2\n",
        "releaseID: None-20140901-57864723-4250-407d-a553-5912e704bfe2\n",
        "releaseID: None-20140901-637455b7-b709-4167-b67a-6913a8989e2b\n",
        "releaseID: None-20140901-637455b7-b709-4167-b67a-6913a8989e2b\n",
        "releaseID: None-20140901-637455b7-b709-4167-b67a-6913a8989e2b\n",
        "releaseID: None-20140901-312fc453-d5eb-42c6-9982-8492e59dd222\n",
        "releaseID: None-20140901-312fc453-d5eb-42c6-9982-8492e59dd222\n",
        "releaseID: None-20140901-312fc453-d5eb-42c6-9982-8492e59dd222\n",
        "releaseID: None-20140901-13468938-b604-447d-b1c4-65d72dca454f\n",
        "releaseID: None-20140901-13468938-b604-447d-b1c4-65d72dca454f\n",
        "releaseID: None-20140901-13468938-b604-447d-b1c4-65d72dca454f\n",
        "releaseID: None-20140901-a332f71b-f59f-4a4a-9eb8-5120f3e1caf8"
       ]
      },
      {
       "output_type": "stream",
       "stream": "stdout",
       "text": [
        "\n",
        "releaseID: None-20140901-a332f71b-f59f-4a4a-9eb8-5120f3e1caf8\n",
        "releaseID: None-20140901-a332f71b-f59f-4a4a-9eb8-5120f3e1caf8\n",
        "releaseID: None-20140901-49de400c-054e-4537-8e7e-b5e2f53a524c\n",
        "releaseID: None-20140901-49de400c-054e-4537-8e7e-b5e2f53a524c\n",
        "releaseID: None-20140901-49de400c-054e-4537-8e7e-b5e2f53a524c\n",
        "releaseID: None-20140901-19d505dd-4cd6-4384-8107-a1cb532faf4a\n",
        "releaseID: None-20140901-19d505dd-4cd6-4384-8107-a1cb532faf4a\n",
        "releaseID: None-20140901-19d505dd-4cd6-4384-8107-a1cb532faf4a\n",
        "releaseID: None-20140901-b8cef89f-9f48-416a-bbc5-f26fe33a5432\n",
        "releaseID: None-20140901-b8cef89f-9f48-416a-bbc5-f26fe33a5432\n",
        "releaseID: None-20140901-b8cef89f-9f48-416a-bbc5-f26fe33a5432\n",
        "releaseID: None-20140901-30c05f90-7e53-4eaa-a08e-f7a6e2bc6b04"
       ]
      },
      {
       "output_type": "stream",
       "stream": "stdout",
       "text": [
        "\n",
        "releaseID: None-20140901-30c05f90-7e53-4eaa-a08e-f7a6e2bc6b04\n",
        "releaseID: None-20140901-30c05f90-7e53-4eaa-a08e-f7a6e2bc6b04\n",
        "releaseID: None-20140901-fc3804f9-9ed8-489d-8475-8bed639fabc9\n",
        "releaseID: None-20140901-fc3804f9-9ed8-489d-8475-8bed639fabc9\n",
        "releaseID: None-20140901-fc3804f9-9ed8-489d-8475-8bed639fabc9\n",
        "releaseID: None-20140901-f0a8a35b-8482-496c-9971-804c4a5eebba"
       ]
      },
      {
       "output_type": "stream",
       "stream": "stdout",
       "text": [
        "\n",
        "releaseID: None-20140901-f0a8a35b-8482-496c-9971-804c4a5eebba\n",
        "releaseID: None-20140901-f0a8a35b-8482-496c-9971-804c4a5eebba\n",
        "releaseID: None-20140901-d392622a-e16d-4271-8227-ee0ac080bb26\n",
        "releaseID: None-20140901-d392622a-e16d-4271-8227-ee0ac080bb26\n",
        "releaseID: None-20140901-d392622a-e16d-4271-8227-ee0ac080bb26\n",
        "releaseID: None-20140901-ee46a0c2-4ef7-4f43-8046-d11d3714c002"
       ]
      },
      {
       "output_type": "stream",
       "stream": "stdout",
       "text": [
        "\n",
        "releaseID: None-20140901-ee46a0c2-4ef7-4f43-8046-d11d3714c002\n",
        "releaseID: None-20140901-ee46a0c2-4ef7-4f43-8046-d11d3714c002\n",
        "releaseID: None-20140901-763f2404-0b1a-4e7e-a1c4-1831f7b5a7c2\n",
        "releaseID: None-20140901-763f2404-0b1a-4e7e-a1c4-1831f7b5a7c2\n",
        "releaseID: None-20140901-763f2404-0b1a-4e7e-a1c4-1831f7b5a7c2\n",
        "releaseID: None-20140901-9fe47045-2eeb-46c0-9e6d-101b20e95bed"
       ]
      },
      {
       "output_type": "stream",
       "stream": "stdout",
       "text": [
        "\n",
        "releaseID: None-20140901-9fe47045-2eeb-46c0-9e6d-101b20e95bed\n",
        "releaseID: None-20140901-9fe47045-2eeb-46c0-9e6d-101b20e95bed\n",
        "releaseID: None-20140901-318eaf47-70c3-4180-8735-b5abe988bf20"
       ]
      },
      {
       "output_type": "stream",
       "stream": "stdout",
       "text": [
        "\n",
        "releaseID: None-20140901-318eaf47-70c3-4180-8735-b5abe988bf20\n",
        "releaseID: None-20140901-318eaf47-70c3-4180-8735-b5abe988bf20\n",
        "releaseID: None-20140901-9dca88ae-ef90-4d19-aaa4-0341db1ab26a\n",
        "releaseID: None-20140901-9dca88ae-ef90-4d19-aaa4-0341db1ab26a\n",
        "releaseID: None-20140901-9dca88ae-ef90-4d19-aaa4-0341db1ab26a\n",
        "releaseID: None-20140901-ee453ae4-e6ac-4869-9e0f-8471b26e686e\n",
        "releaseID: None-20140901-ee453ae4-e6ac-4869-9e0f-8471b26e686e\n",
        "releaseID: None-20140901-ee453ae4-e6ac-4869-9e0f-8471b26e686e\n",
        "releaseID: None-20140901-4cd07da2-e62f-4672-a8ee-f2f582bc2773\n",
        "releaseID: None-20140901-4cd07da2-e62f-4672-a8ee-f2f582bc2773\n",
        "releaseID: None-20140901-4cd07da2-e62f-4672-a8ee-f2f582bc2773\n",
        "releaseID: None-20140901-55766be7-8b37-43c8-b399-c3d26aadd481"
       ]
      },
      {
       "output_type": "stream",
       "stream": "stdout",
       "text": [
        "\n",
        "releaseID: None-20140901-55766be7-8b37-43c8-b399-c3d26aadd481\n",
        "releaseID: None-20140901-55766be7-8b37-43c8-b399-c3d26aadd481\n",
        "releaseID: None-20140901-05846d6d-cde0-4f5b-aaea-35f80302609d\n",
        "releaseID: None-20140901-05846d6d-cde0-4f5b-aaea-35f80302609d\n",
        "releaseID: None-20140901-05846d6d-cde0-4f5b-aaea-35f80302609d\n",
        "releaseID: None-20140901-f657d770-da39-4458-93e1-bd426fe7512c\n",
        "releaseID: None-20140901-f657d770-da39-4458-93e1-bd426fe7512c\n",
        "releaseID: None-20140901-f657d770-da39-4458-93e1-bd426fe7512c\n",
        "releaseID: None-20140901-a3dd8272-1ded-4c3f-bbee-72b319c32f5d\n",
        "releaseID: None-20140901-a3dd8272-1ded-4c3f-bbee-72b319c32f5d\n",
        "releaseID: None-20140901-a3dd8272-1ded-4c3f-bbee-72b319c32f5d\n",
        "releaseID: None-20140901-ae28b526-cbe5-4d88-91d9-28a667a61212"
       ]
      },
      {
       "output_type": "stream",
       "stream": "stdout",
       "text": [
        "\n",
        "releaseID: None-20140901-ae28b526-cbe5-4d88-91d9-28a667a61212\n",
        "releaseID: None-20140901-ae28b526-cbe5-4d88-91d9-28a667a61212\n",
        "releaseID: None-20140901-ac8e14b9-11b1-45f2-a616-2dad4acc0ade\n",
        "releaseID: None-20140901-ac8e14b9-11b1-45f2-a616-2dad4acc0ade\n",
        "releaseID: None-20140901-ac8e14b9-11b1-45f2-a616-2dad4acc0ade\n",
        "releaseID: None-20140901-0fcde4e4-45f6-4357-b296-200396b761f8\n",
        "releaseID: None-20140901-0fcde4e4-45f6-4357-b296-200396b761f8\n",
        "releaseID: None-20140901-0fcde4e4-45f6-4357-b296-200396b761f8\n",
        "releaseID: None-20140901-6c140fc3-e8c2-4b9f-9c44-fa1a62e653aa\n",
        "releaseID: None-20140901-6c140fc3-e8c2-4b9f-9c44-fa1a62e653aa\n",
        "releaseID: None-20140901-6c140fc3-e8c2-4b9f-9c44-fa1a62e653aa\n",
        "releaseID: None-20140901-cb135f72-86dc-4f1c-9f6e-97823f91b088"
       ]
      },
      {
       "output_type": "stream",
       "stream": "stdout",
       "text": [
        "\n",
        "releaseID: None-20140901-cb135f72-86dc-4f1c-9f6e-97823f91b088\n",
        "releaseID: None-20140901-cb135f72-86dc-4f1c-9f6e-97823f91b088\n",
        "releaseID: None-20140901-3a784eab-606c-48e3-8a6d-95fc97faaa26\n",
        "releaseID: None-20140901-3a784eab-606c-48e3-8a6d-95fc97faaa26\n",
        "releaseID: None-20140901-3a784eab-606c-48e3-8a6d-95fc97faaa26\n",
        "releaseID: None-20140901-3ca7d176-31d1-494d-8665-6964273c0558\n",
        "releaseID: None-20140901-3ca7d176-31d1-494d-8665-6964273c0558\n",
        "releaseID: None-20140901-3ca7d176-31d1-494d-8665-6964273c0558\n",
        "releaseID: None-20140901-4631f58e-942f-4da0-9a96-4486ee72f625\n",
        "releaseID: None-20140901-4631f58e-942f-4da0-9a96-4486ee72f625\n",
        "releaseID: None-20140901-4631f58e-942f-4da0-9a96-4486ee72f625\n",
        "releaseID: None-20140901-af657cfa-c1b1-44a2-8abf-22de460cd588"
       ]
      },
      {
       "output_type": "stream",
       "stream": "stdout",
       "text": [
        "\n",
        "releaseID: None-20140901-af657cfa-c1b1-44a2-8abf-22de460cd588\n",
        "releaseID: None-20140901-af657cfa-c1b1-44a2-8abf-22de460cd588\n",
        "releaseID: None-20140901-3ee24d39-fe42-47ca-9660-fffc823b9c97\n",
        "releaseID: None-20140901-3ee24d39-fe42-47ca-9660-fffc823b9c97\n",
        "releaseID: None-20140901-3ee24d39-fe42-47ca-9660-fffc823b9c97\n",
        "releaseID: None-20140901-62cf2711-ffe9-401c-ba2f-fb08b7fb1cd4\n",
        "releaseID: None-20140901-62cf2711-ffe9-401c-ba2f-fb08b7fb1cd4\n",
        "releaseID: None-20140901-62cf2711-ffe9-401c-ba2f-fb08b7fb1cd4\n",
        "releaseID: None-20140901-7b4db3fd-5bfd-45ea-9ae2-ce4da8aa8b0d"
       ]
      },
      {
       "output_type": "stream",
       "stream": "stdout",
       "text": [
        "\n",
        "releaseID: None-20140901-7b4db3fd-5bfd-45ea-9ae2-ce4da8aa8b0d\n",
        "releaseID: None-20140901-7b4db3fd-5bfd-45ea-9ae2-ce4da8aa8b0d\n",
        "releaseID: None-20140901-d15fe546-0cbc-40c8-8632-fd7405c30ced\n",
        "releaseID: None-20140901-d15fe546-0cbc-40c8-8632-fd7405c30ced\n",
        "releaseID: None-20140901-d15fe546-0cbc-40c8-8632-fd7405c30ced\n",
        "releaseID: None-20140901-3ea171c5-c84d-4b1a-b20c-248ee14a83c0\n",
        "releaseID: None-20140901-3ea171c5-c84d-4b1a-b20c-248ee14a83c0\n",
        "releaseID: None-20140901-3ea171c5-c84d-4b1a-b20c-248ee14a83c0\n",
        "releaseID: None-20140901-3b8bb01d-3070-4572-b26a-fa9d22cb1683\n",
        "releaseID: None-20140901-3b8bb01d-3070-4572-b26a-fa9d22cb1683\n",
        "releaseID: None-20140901-3b8bb01d-3070-4572-b26a-fa9d22cb1683\n",
        "releaseID: None-20140901-0e48e226-53ac-4207-8b50-bb6e4041eb16"
       ]
      },
      {
       "output_type": "stream",
       "stream": "stdout",
       "text": [
        "\n",
        "releaseID: None-20140901-0e48e226-53ac-4207-8b50-bb6e4041eb16\n",
        "releaseID: None-20140901-0e48e226-53ac-4207-8b50-bb6e4041eb16\n",
        "releaseID: None-20140901-c33fcc7f-6699-4979-889a-a4e05a1be347\n",
        "releaseID: None-20140901-c33fcc7f-6699-4979-889a-a4e05a1be347\n",
        "releaseID: None-20140901-c33fcc7f-6699-4979-889a-a4e05a1be347\n",
        "releaseID: None-20140901-52d9f45f-4d22-4501-9638-a43e7382664d"
       ]
      },
      {
       "output_type": "stream",
       "stream": "stdout",
       "text": [
        "\n",
        "releaseID: None-20140901-52d9f45f-4d22-4501-9638-a43e7382664d\n",
        "releaseID: None-20140901-52d9f45f-4d22-4501-9638-a43e7382664d\n",
        "releaseID: None-20140901-05a6ffff-dade-4b79-ad63-e5ec7723a3be\n",
        "releaseID: None-20140901-05a6ffff-dade-4b79-ad63-e5ec7723a3be\n",
        "releaseID: None-20140901-05a6ffff-dade-4b79-ad63-e5ec7723a3be\n",
        "releaseID: None-20140901-2b888d04-bfd1-4de2-8f5e-8f0dfbb04122"
       ]
      },
      {
       "output_type": "stream",
       "stream": "stdout",
       "text": [
        "\n",
        "releaseID: None-20140901-2b888d04-bfd1-4de2-8f5e-8f0dfbb04122\n",
        "releaseID: None-20140901-2b888d04-bfd1-4de2-8f5e-8f0dfbb04122\n",
        "releaseID: None-20140901-37668b3d-5cab-456a-8dd5-a18c033b06f8"
       ]
      },
      {
       "output_type": "stream",
       "stream": "stdout",
       "text": [
        "\n",
        "releaseID: None-20140901-37668b3d-5cab-456a-8dd5-a18c033b06f8\n",
        "releaseID: None-20140901-37668b3d-5cab-456a-8dd5-a18c033b06f8\n",
        "releaseID: None-20140901-1d68a4e1-9ed6-4db8-98b8-1012ff7076be\n",
        "releaseID: None-20140901-1d68a4e1-9ed6-4db8-98b8-1012ff7076be\n",
        "releaseID: None-20140901-1d68a4e1-9ed6-4db8-98b8-1012ff7076be\n",
        "releaseID: None-20140901-e056c1bb-2e77-4ffc-9240-eb0b5cb00ffc"
       ]
      },
      {
       "output_type": "stream",
       "stream": "stdout",
       "text": [
        "\n",
        "releaseID: None-20140901-e056c1bb-2e77-4ffc-9240-eb0b5cb00ffc\n",
        "releaseID: None-20140901-e056c1bb-2e77-4ffc-9240-eb0b5cb00ffc\n",
        "releaseID: None-20140901-2c47d29d-ba8a-42ee-a520-6d313c464a5f\n",
        "releaseID: None-20140901-2c47d29d-ba8a-42ee-a520-6d313c464a5f\n",
        "releaseID: None-20140901-2c47d29d-ba8a-42ee-a520-6d313c464a5f\n",
        "releaseID: None-20140901-7c9ce0df-a042-4d93-9b18-19941d561b37\n",
        "releaseID: None-20140901-7c9ce0df-a042-4d93-9b18-19941d561b37\n",
        "releaseID: None-20140901-7c9ce0df-a042-4d93-9b18-19941d561b37\n",
        "releaseID: None-20140901-08485b0f-7500-4679-9b29-5439f922bc8b"
       ]
      },
      {
       "output_type": "stream",
       "stream": "stdout",
       "text": [
        "\n",
        "releaseID: None-20140901-08485b0f-7500-4679-9b29-5439f922bc8b\n",
        "releaseID: None-20140901-08485b0f-7500-4679-9b29-5439f922bc8b\n",
        "releaseID: None-20140901-d9242602-2a93-4425-960a-d15610b1f57c"
       ]
      },
      {
       "output_type": "stream",
       "stream": "stdout",
       "text": [
        "\n",
        "releaseID: None-20140901-d9242602-2a93-4425-960a-d15610b1f57c\n",
        "releaseID: None-20140901-d9242602-2a93-4425-960a-d15610b1f57c\n",
        "releaseID: None-20140901-075ea8dc-6def-4749-8596-1f69015a2003\n",
        "releaseID: None-20140901-075ea8dc-6def-4749-8596-1f69015a2003\n",
        "releaseID: None-20140901-075ea8dc-6def-4749-8596-1f69015a2003\n",
        "releaseID: None-20140901-0129e86d-9ba6-4593-ad60-527db436f772"
       ]
      },
      {
       "output_type": "stream",
       "stream": "stdout",
       "text": [
        "\n",
        "releaseID: None-20140901-0129e86d-9ba6-4593-ad60-527db436f772\n",
        "releaseID: None-20140901-0129e86d-9ba6-4593-ad60-527db436f772\n",
        "releaseID: None-20140901-fe44be25-be06-4c5b-9266-889ca39181cd\n",
        "releaseID: None-20140901-fe44be25-be06-4c5b-9266-889ca39181cd\n",
        "releaseID: None-20140901-fe44be25-be06-4c5b-9266-889ca39181cd\n",
        "releaseID: None-20140901-43d681bd-6e89-44c4-8ed5-dd433e7ca96d"
       ]
      },
      {
       "output_type": "stream",
       "stream": "stdout",
       "text": [
        "\n",
        "releaseID: None-20140901-43d681bd-6e89-44c4-8ed5-dd433e7ca96d\n",
        "releaseID: None-20140901-43d681bd-6e89-44c4-8ed5-dd433e7ca96d\n",
        "releaseID: None-20140901-35241670-74fe-4136-b38a-46fb6bfea432\n",
        "releaseID: None-20140901-35241670-74fe-4136-b38a-46fb6bfea432\n",
        "releaseID: None-20140901-35241670-74fe-4136-b38a-46fb6bfea432\n",
        "releaseID: None-20140901-8465d7ac-a195-4e81-bf5a-2b6f66cd557a"
       ]
      },
      {
       "output_type": "stream",
       "stream": "stdout",
       "text": [
        "\n",
        "releaseID: None-20140901-8465d7ac-a195-4e81-bf5a-2b6f66cd557a\n",
        "releaseID: None-20140901-8465d7ac-a195-4e81-bf5a-2b6f66cd557a\n",
        "releaseID: None-20140901-a86c5be5-7183-4c4d-9c93-8da849efb545"
       ]
      },
      {
       "output_type": "stream",
       "stream": "stdout",
       "text": [
        "\n",
        "releaseID: None-20140901-a86c5be5-7183-4c4d-9c93-8da849efb545\n",
        "releaseID: None-20140901-a86c5be5-7183-4c4d-9c93-8da849efb545\n",
        "releaseID: None-20140901-6e797562-6062-4127-a1db-78a77e105eb0"
       ]
      },
      {
       "output_type": "stream",
       "stream": "stdout",
       "text": [
        "\n",
        "releaseID: None-20140901-6e797562-6062-4127-a1db-78a77e105eb0\n",
        "releaseID: None-20140901-6e797562-6062-4127-a1db-78a77e105eb0\n",
        "releaseID: None-20140901-2a89dd42-aa68-46c9-9b3a-9b655237c271"
       ]
      },
      {
       "output_type": "stream",
       "stream": "stdout",
       "text": [
        "\n",
        "releaseID: None-20140901-2a89dd42-aa68-46c9-9b3a-9b655237c271\n",
        "releaseID: None-20140901-2a89dd42-aa68-46c9-9b3a-9b655237c271\n",
        "releaseID: None-20140901-2f3ba365-3fdf-4d4d-acb7-f9522190b7ba\n",
        "releaseID: None-20140901-2f3ba365-3fdf-4d4d-acb7-f9522190b7ba\n",
        "releaseID: None-20140901-2f3ba365-3fdf-4d4d-acb7-f9522190b7ba\n",
        "releaseID: None-20140901-a7d9d380-c08d-4822-9678-61d984307d9c"
       ]
      },
      {
       "output_type": "stream",
       "stream": "stdout",
       "text": [
        "\n",
        "releaseID: None-20140901-a7d9d380-c08d-4822-9678-61d984307d9c\n",
        "releaseID: None-20140901-a7d9d380-c08d-4822-9678-61d984307d9c\n",
        "releaseID: None-20140901-f4be4604-1751-4c37-89fe-c27905256494"
       ]
      },
      {
       "output_type": "stream",
       "stream": "stdout",
       "text": [
        "\n",
        "releaseID: None-20140901-f4be4604-1751-4c37-89fe-c27905256494\n",
        "releaseID: None-20140901-f4be4604-1751-4c37-89fe-c27905256494\n",
        "releaseID: None-20140901-f2532a94-d53a-483d-a309-722075ebd95f"
       ]
      },
      {
       "output_type": "stream",
       "stream": "stdout",
       "text": [
        "\n",
        "releaseID: None-20140901-f2532a94-d53a-483d-a309-722075ebd95f\n",
        "releaseID: None-20140901-f2532a94-d53a-483d-a309-722075ebd95f\n",
        "releaseID: None-20140901-d5bd36a7-1bc1-45f9-a113-1b073fcffad2"
       ]
      },
      {
       "output_type": "stream",
       "stream": "stdout",
       "text": [
        "\n",
        "releaseID: None-20140901-d5bd36a7-1bc1-45f9-a113-1b073fcffad2\n",
        "releaseID: None-20140901-d5bd36a7-1bc1-45f9-a113-1b073fcffad2\n",
        "releaseID: None-20140901-142d515d-ce81-465a-8a51-aac1d3886998"
       ]
      },
      {
       "output_type": "stream",
       "stream": "stdout",
       "text": [
        "\n",
        "releaseID: None-20140901-142d515d-ce81-465a-8a51-aac1d3886998\n",
        "releaseID: None-20140901-142d515d-ce81-465a-8a51-aac1d3886998\n",
        "releaseID: None-20140901-3dfe2aa8-132b-4424-9a14-94559e84380a"
       ]
      },
      {
       "output_type": "stream",
       "stream": "stdout",
       "text": [
        "\n",
        "releaseID: None-20140901-3dfe2aa8-132b-4424-9a14-94559e84380a\n",
        "releaseID: None-20140901-3dfe2aa8-132b-4424-9a14-94559e84380a\n",
        "releaseID: None-20140901-59aa1cfc-040c-433b-bd45-64fb4d318cc4"
       ]
      },
      {
       "output_type": "stream",
       "stream": "stdout",
       "text": [
        "\n",
        "releaseID: None-20140901-59aa1cfc-040c-433b-bd45-64fb4d318cc4\n",
        "releaseID: None-20140901-59aa1cfc-040c-433b-bd45-64fb4d318cc4\n",
        "releaseID: None-20140901-07c6cdc2-7cb5-456e-9304-80c983aa0ea3"
       ]
      },
      {
       "output_type": "stream",
       "stream": "stdout",
       "text": [
        "\n",
        "releaseID: None-20140901-07c6cdc2-7cb5-456e-9304-80c983aa0ea3\n",
        "releaseID: None-20140901-07c6cdc2-7cb5-456e-9304-80c983aa0ea3\n",
        "releaseID: None-20140901-041ab163-74c0-46ed-9240-131f5e9291c1\n",
        "releaseID: None-20140901-041ab163-74c0-46ed-9240-131f5e9291c1\n",
        "releaseID: None-20140901-041ab163-74c0-46ed-9240-131f5e9291c1\n",
        "releaseID: None-20140901-e5c81a11-cdaa-4a2a-a345-3ca854716870"
       ]
      },
      {
       "output_type": "stream",
       "stream": "stdout",
       "text": [
        "\n",
        "releaseID: None-20140901-e5c81a11-cdaa-4a2a-a345-3ca854716870\n",
        "releaseID: None-20140901-e5c81a11-cdaa-4a2a-a345-3ca854716870\n"
       ]
      }
     ],
     "prompt_number": 20
    },
    {
     "cell_type": "code",
     "collapsed": false,
     "input": [
      "records_only[0]"
     ],
     "language": "python",
     "metadata": {},
     "outputs": [
      {
       "metadata": {},
       "output_type": "pyout",
       "prompt_number": 21,
       "text": [
        "{u'ocid': u'PW-$$AO-002-23619',\n",
        " u'releases': [{u'name': u'',\n",
        "   u'scheme': u'',\n",
        "   u'uid': u'None-20140901-ddcc03aa-9624-4cb9-899e-e20de7b7717a',\n",
        "   u'uri': u'file:///home/bird/Dev/opencontracting/sample-data/buyandsell/ocds_data/awards_releases_20140901.json'},\n",
        "  {u'name': u'',\n",
        "   u'scheme': u'',\n",
        "   u'uid': u'None-20140901-a77a7623-d1da-4001-942d-1620723be99c',\n",
        "   u'uri': u'file:///home/bird/Dev/opencontracting/sample-data/buyandsell/ocds_data/contracts_releases_compact_20140901.json'},\n",
        "  {u'name': u'',\n",
        "   u'scheme': u'',\n",
        "   u'uid': u'None-20140901-42d5f7c1-2cd6-4622-ad37-c85503bbeec1',\n",
        "   u'uri': u'file:///home/bird/Dev/opencontracting/sample-data/buyandsell/ocds_data/contracts_releases_compact_20140901.json'},\n",
        "  {u'name': u'',\n",
        "   u'scheme': u'',\n",
        "   u'uid': u'None-20140901-ae91b1cb-0bb4-4ff5-8165-ab7ff8d97679',\n",
        "   u'uri': u'file:///home/bird/Dev/opencontracting/sample-data/buyandsell/ocds_data/contracts_releases_compact_20140901.json'},\n",
        "  {u'name': u'',\n",
        "   u'scheme': u'',\n",
        "   u'uid': u'None-20140901-f05ee390-1e05-4ec8-b8ca-6fd4aefcd5cf',\n",
        "   u'uri': u'file:///home/bird/Dev/opencontracting/sample-data/buyandsell/ocds_data/contracts_releases_compact_20140901.json'}]}"
       ]
      }
     ],
     "prompt_number": 21
    },
    {
     "cell_type": "code",
     "collapsed": false,
     "input": [
      "import pandas as pd"
     ],
     "language": "python",
     "metadata": {},
     "outputs": [],
     "prompt_number": 23
    },
    {
     "cell_type": "code",
     "collapsed": false,
     "input": [
      "df = pd.read_csv('../../../out.tmp')"
     ],
     "language": "python",
     "metadata": {},
     "outputs": [],
     "prompt_number": 27
    },
    {
     "cell_type": "code",
     "collapsed": false,
     "input": [
      "df.releaseid.value_counts()"
     ],
     "language": "python",
     "metadata": {},
     "outputs": [
      {
       "metadata": {},
       "output_type": "pyout",
       "prompt_number": 28,
       "text": [
        "None-20140901-3ea171c5-c84d-4b1a-b20c-248ee14a83c0    3\n",
        "None-20140901-8d4b4d5c-57a1-4d61-8c3a-b82fc4eaaa7f    3\n",
        "None-20140901-a00b1d60-29db-4c88-9b4d-a469a4770e6a    3\n",
        "None-20140901-067c1fa5-d68b-451f-b9a6-155dfe18176a    3\n",
        "None-20140901-3a3565f2-baee-4a8a-a353-2aa082114e22    3\n",
        "None-20140901-6b1fbec5-c8d0-4a88-a983-b96ad9c618ce    3\n",
        "None-20140901-84b78501-4e22-4a47-aef7-90c0ed1cfa18    3\n",
        "None-20140901-b0ab428c-561f-4fc7-a6fd-44381f08940c    3\n",
        "None-20140901-62cf2711-ffe9-401c-ba2f-fb08b7fb1cd4    3\n",
        "None-20140901-6e797562-6062-4127-a1db-78a77e105eb0    3\n",
        "None-20140901-db23d24c-9894-46d7-9f34-042577ea7e48    3\n",
        "None-20140901-312fc453-d5eb-42c6-9982-8492e59dd222    3\n",
        "None-20140901-2f3ba365-3fdf-4d4d-acb7-f9522190b7ba    3\n",
        "None-20140901-50fbdf30-09ac-4251-8cad-a8d094c94623    3\n",
        "None-20140901-35241670-74fe-4136-b38a-46fb6bfea432    3\n",
        "...\n",
        "None-20140901-ae28b526-cbe5-4d88-91d9-28a667a61212    3\n",
        "None-20140901-48d1f439-27f9-4b41-a301-2279466c8d8e    3\n",
        "None-20140901-3ca7d176-31d1-494d-8665-6964273c0558    3\n",
        "None-20140901-6fc10e01-58ac-4517-aa7c-d439e63f963f    3\n",
        "None-20140901-581a4efe-00df-4734-950a-88864aa0bb0e    3\n",
        "None-20140901-d50fe824-f3eb-4bf3-ad20-3155934f0431    3\n",
        "None-20140901-efdbe753-a987-4599-ba8b-850576fa5054    3\n",
        "None-20140901-7f1f9d1f-3688-4362-b134-39347f7af2f0    3\n",
        "None-20140901-77acfc6c-7a33-439c-a052-314d014949fc    3\n",
        "None-20140901-10920a3d-ec41-4ded-89d3-a5d0513eed67    3\n",
        "None-20140901-f6c91842-7f5e-4c44-a46b-463e28599796    3\n",
        "None-20140901-118df64b-5414-4b4d-b8db-d93a8b1fdd66    3\n",
        "None-20140901-a5215b93-ecbe-4e42-b53c-f14b476acfd0    3\n",
        "None-20140901-b3d52319-1b11-4180-81cb-513a8c821e8c    3\n",
        "None-20140901-0403aca6-82f0-45b9-9bbc-82b94d26a711    3\n",
        "Length: 274, dtype: int64"
       ]
      }
     ],
     "prompt_number": 28
    },
    {
     "cell_type": "code",
     "collapsed": false,
     "input": [
      "for record in records_only[0:500]:\n",
      "    for release in record['releases']:\n",
      "        if release['uid'] == 'None-20140901-3ea171c5-c84d-4b1a-b20c-248ee14a83c0':\n",
      "            one_record = record"
     ],
     "language": "python",
     "metadata": {},
     "outputs": [],
     "prompt_number": 33
    },
    {
     "cell_type": "code",
     "collapsed": false,
     "input": [
      "one_record"
     ],
     "language": "python",
     "metadata": {},
     "outputs": [
      {
       "metadata": {},
       "output_type": "pyout",
       "prompt_number": 34,
       "text": [
        "{u'ocid': u'PW-$$BL-297-23584',\n",
        " u'releases': [{u'name': u'',\n",
        "   u'scheme': u'',\n",
        "   u'uid': u'None-20140901-c268d225-41b1-4381-9749-ec245e42f7b1',\n",
        "   u'uri': u'file:///home/bird/Dev/opencontracting/sample-data/buyandsell/ocds_data/awards_releases_20140901.json'},\n",
        "  {u'name': u'',\n",
        "   u'scheme': u'',\n",
        "   u'uid': u'None-20140901-5dd36539-1e6c-4767-bce3-56723be6229d',\n",
        "   u'uri': u'file:///home/bird/Dev/opencontracting/sample-data/buyandsell/ocds_data/awards_releases_20140901.json'},\n",
        "  {u'name': u'',\n",
        "   u'scheme': u'',\n",
        "   u'uid': u'None-20140901-6eab0070-828e-428a-9e68-d7c5cb258948',\n",
        "   u'uri': u'file:///home/bird/Dev/opencontracting/sample-data/buyandsell/ocds_data/awards_releases_20140901.json'},\n",
        "  {u'name': u'',\n",
        "   u'scheme': u'',\n",
        "   u'uid': u'None-20140901-a0fa3938-0631-44a4-8150-62249bb8efd8',\n",
        "   u'uri': u'file:///home/bird/Dev/opencontracting/sample-data/buyandsell/ocds_data/awards_releases_20140901.json'},\n",
        "  {u'name': u'',\n",
        "   u'scheme': u'',\n",
        "   u'uid': u'None-20140901-dc274b7c-078b-4169-a6bd-dfbdef6121b4',\n",
        "   u'uri': u'file:///home/bird/Dev/opencontracting/sample-data/buyandsell/ocds_data/awards_releases_20140901.json'},\n",
        "  {u'name': u'',\n",
        "   u'scheme': u'',\n",
        "   u'uid': u'None-20140901-fd755f87-26ce-4622-b85e-14537b6c0fa5',\n",
        "   u'uri': u'file:///home/bird/Dev/opencontracting/sample-data/buyandsell/ocds_data/awards_releases_20140901.json'},\n",
        "  {u'name': u'',\n",
        "   u'scheme': u'',\n",
        "   u'uid': u'None-20140901-76e2b3a9-38bc-4dbf-9aa2-1dc889f3af4e',\n",
        "   u'uri': u'file:///home/bird/Dev/opencontracting/sample-data/buyandsell/ocds_data/awards_releases_20140901.json'},\n",
        "  {u'name': u'',\n",
        "   u'scheme': u'',\n",
        "   u'uid': u'None-20140901-cb135f72-86dc-4f1c-9f6e-97823f91b088',\n",
        "   u'uri': u'file:///home/bird/Dev/opencontracting/sample-data/buyandsell/ocds_data/contracts_releases_compact_20140901.json'},\n",
        "  {u'name': u'',\n",
        "   u'scheme': u'',\n",
        "   u'uid': u'None-20140901-3a784eab-606c-48e3-8a6d-95fc97faaa26',\n",
        "   u'uri': u'file:///home/bird/Dev/opencontracting/sample-data/buyandsell/ocds_data/contracts_releases_compact_20140901.json'},\n",
        "  {u'name': u'',\n",
        "   u'scheme': u'',\n",
        "   u'uid': u'None-20140901-3ca7d176-31d1-494d-8665-6964273c0558',\n",
        "   u'uri': u'file:///home/bird/Dev/opencontracting/sample-data/buyandsell/ocds_data/contracts_releases_compact_20140901.json'},\n",
        "  {u'name': u'',\n",
        "   u'scheme': u'',\n",
        "   u'uid': u'None-20140901-4631f58e-942f-4da0-9a96-4486ee72f625',\n",
        "   u'uri': u'file:///home/bird/Dev/opencontracting/sample-data/buyandsell/ocds_data/contracts_releases_compact_20140901.json'},\n",
        "  {u'name': u'',\n",
        "   u'scheme': u'',\n",
        "   u'uid': u'None-20140901-af657cfa-c1b1-44a2-8abf-22de460cd588',\n",
        "   u'uri': u'file:///home/bird/Dev/opencontracting/sample-data/buyandsell/ocds_data/contracts_releases_compact_20140901.json'},\n",
        "  {u'name': u'',\n",
        "   u'scheme': u'',\n",
        "   u'uid': u'None-20140901-36f1b9f4-d69d-429d-9459-05947e6e1851',\n",
        "   u'uri': u'file:///home/bird/Dev/opencontracting/sample-data/buyandsell/ocds_data/contracts_releases_compact_20140901.json'},\n",
        "  {u'name': u'',\n",
        "   u'scheme': u'',\n",
        "   u'uid': u'None-20140901-3ee24d39-fe42-47ca-9660-fffc823b9c97',\n",
        "   u'uri': u'file:///home/bird/Dev/opencontracting/sample-data/buyandsell/ocds_data/contracts_releases_compact_20140901.json'},\n",
        "  {u'name': u'',\n",
        "   u'scheme': u'',\n",
        "   u'uid': u'None-20140901-62cf2711-ffe9-401c-ba2f-fb08b7fb1cd4',\n",
        "   u'uri': u'file:///home/bird/Dev/opencontracting/sample-data/buyandsell/ocds_data/contracts_releases_compact_20140901.json'},\n",
        "  {u'name': u'',\n",
        "   u'scheme': u'',\n",
        "   u'uid': u'None-20140901-7b4db3fd-5bfd-45ea-9ae2-ce4da8aa8b0d',\n",
        "   u'uri': u'file:///home/bird/Dev/opencontracting/sample-data/buyandsell/ocds_data/contracts_releases_compact_20140901.json'},\n",
        "  {u'name': u'',\n",
        "   u'scheme': u'',\n",
        "   u'uid': u'None-20140901-d15fe546-0cbc-40c8-8632-fd7405c30ced',\n",
        "   u'uri': u'file:///home/bird/Dev/opencontracting/sample-data/buyandsell/ocds_data/contracts_releases_compact_20140901.json'},\n",
        "  {u'name': u'',\n",
        "   u'scheme': u'',\n",
        "   u'uid': u'None-20140901-3ea171c5-c84d-4b1a-b20c-248ee14a83c0',\n",
        "   u'uri': u'file:///home/bird/Dev/opencontracting/sample-data/buyandsell/ocds_data/contracts_releases_compact_20140901.json'},\n",
        "  {u'name': u'',\n",
        "   u'scheme': u'',\n",
        "   u'uid': u'None-20140901-3b8bb01d-3070-4572-b26a-fa9d22cb1683',\n",
        "   u'uri': u'file:///home/bird/Dev/opencontracting/sample-data/buyandsell/ocds_data/contracts_releases_compact_20140901.json'},\n",
        "  {u'name': u'',\n",
        "   u'scheme': u'',\n",
        "   u'uid': u'None-20140901-0e48e226-53ac-4207-8b50-bb6e4041eb16',\n",
        "   u'uri': u'file:///home/bird/Dev/opencontracting/sample-data/buyandsell/ocds_data/contracts_releases_compact_20140901.json'},\n",
        "  {u'name': u'',\n",
        "   u'scheme': u'',\n",
        "   u'uid': u'None-20140901-c33fcc7f-6699-4979-889a-a4e05a1be347',\n",
        "   u'uri': u'file:///home/bird/Dev/opencontracting/sample-data/buyandsell/ocds_data/contracts_releases_compact_20140901.json'},\n",
        "  {u'name': u'',\n",
        "   u'scheme': u'',\n",
        "   u'uid': u'None-20140901-ec20380e-8778-45ae-9036-3fbc40ef0a12',\n",
        "   u'uri': u'file:///home/bird/Dev/opencontracting/sample-data/buyandsell/ocds_data/contracts_releases_compact_20140901.json'}]}"
       ]
      }
     ],
     "prompt_number": 34
    },
    {
     "cell_type": "code",
     "collapsed": false,
     "input": [
      "base = None\n",
      "for release in one_record['releases']:\n",
      "    full_release = get_release(release['uid'], file_map[release['uri']])\n",
      "    base = jsonmerge.merge(base, full_release)"
     ],
     "language": "python",
     "metadata": {},
     "outputs": [
      {
       "output_type": "stream",
       "stream": "stdout",
       "text": [
        "releaseID: None-20140901-cb135f72-86dc-4f1c-9f6e-97823f91b088\n",
        "releaseID: None-20140901-cb135f72-86dc-4f1c-9f6e-97823f91b088\n",
        "releaseID: None-20140901-cb135f72-86dc-4f1c-9f6e-97823f91b088\n",
        "releaseID: None-20140901-3a784eab-606c-48e3-8a6d-95fc97faaa26\n",
        "releaseID: None-20140901-3a784eab-606c-48e3-8a6d-95fc97faaa26\n",
        "releaseID: None-20140901-3a784eab-606c-48e3-8a6d-95fc97faaa26\n",
        "releaseID: None-20140901-3ca7d176-31d1-494d-8665-6964273c0558\n",
        "releaseID: None-20140901-3ca7d176-31d1-494d-8665-6964273c0558\n",
        "releaseID: None-20140901-3ca7d176-31d1-494d-8665-6964273c0558\n",
        "releaseID: None-20140901-4631f58e-942f-4da0-9a96-4486ee72f625\n",
        "releaseID: None-20140901-4631f58e-942f-4da0-9a96-4486ee72f625\n",
        "releaseID: None-20140901-4631f58e-942f-4da0-9a96-4486ee72f625\n",
        "releaseID: None-20140901-af657cfa-c1b1-44a2-8abf-22de460cd588"
       ]
      },
      {
       "output_type": "stream",
       "stream": "stdout",
       "text": [
        "\n",
        "releaseID: None-20140901-af657cfa-c1b1-44a2-8abf-22de460cd588\n",
        "releaseID: None-20140901-af657cfa-c1b1-44a2-8abf-22de460cd588\n",
        "releaseID: None-20140901-3ee24d39-fe42-47ca-9660-fffc823b9c97\n",
        "releaseID: None-20140901-3ee24d39-fe42-47ca-9660-fffc823b9c97\n",
        "releaseID: None-20140901-3ee24d39-fe42-47ca-9660-fffc823b9c97\n",
        "releaseID: None-20140901-62cf2711-ffe9-401c-ba2f-fb08b7fb1cd4"
       ]
      },
      {
       "output_type": "stream",
       "stream": "stdout",
       "text": [
        "\n",
        "releaseID: None-20140901-62cf2711-ffe9-401c-ba2f-fb08b7fb1cd4\n",
        "releaseID: None-20140901-62cf2711-ffe9-401c-ba2f-fb08b7fb1cd4\n",
        "releaseID: None-20140901-7b4db3fd-5bfd-45ea-9ae2-ce4da8aa8b0d\n",
        "releaseID: None-20140901-7b4db3fd-5bfd-45ea-9ae2-ce4da8aa8b0d\n",
        "releaseID: None-20140901-7b4db3fd-5bfd-45ea-9ae2-ce4da8aa8b0d\n",
        "releaseID: None-20140901-d15fe546-0cbc-40c8-8632-fd7405c30ced\n",
        "releaseID: None-20140901-d15fe546-0cbc-40c8-8632-fd7405c30ced\n",
        "releaseID: None-20140901-d15fe546-0cbc-40c8-8632-fd7405c30ced\n",
        "releaseID: None-20140901-3ea171c5-c84d-4b1a-b20c-248ee14a83c0\n",
        "releaseID: None-20140901-3ea171c5-c84d-4b1a-b20c-248ee14a83c0\n",
        "releaseID: None-20140901-3ea171c5-c84d-4b1a-b20c-248ee14a83c0\n",
        "releaseID: None-20140901-3b8bb01d-3070-4572-b26a-fa9d22cb1683"
       ]
      },
      {
       "output_type": "stream",
       "stream": "stdout",
       "text": [
        "\n",
        "releaseID: None-20140901-3b8bb01d-3070-4572-b26a-fa9d22cb1683\n",
        "releaseID: None-20140901-3b8bb01d-3070-4572-b26a-fa9d22cb1683\n",
        "releaseID: None-20140901-0e48e226-53ac-4207-8b50-bb6e4041eb16\n",
        "releaseID: None-20140901-0e48e226-53ac-4207-8b50-bb6e4041eb16\n",
        "releaseID: None-20140901-0e48e226-53ac-4207-8b50-bb6e4041eb16\n",
        "releaseID: None-20140901-c33fcc7f-6699-4979-889a-a4e05a1be347\n",
        "releaseID: None-20140901-c33fcc7f-6699-4979-889a-a4e05a1be347\n",
        "releaseID: None-20140901-c33fcc7f-6699-4979-889a-a4e05a1be347\n"
       ]
      }
     ],
     "prompt_number": 35
    },
    {
     "cell_type": "code",
     "collapsed": false,
     "input": [
      "base['awards']"
     ],
     "language": "python",
     "metadata": {},
     "outputs": [
      {
       "metadata": {},
       "output_type": "pyout",
       "prompt_number": 51,
       "text": [
        "[{u'awardDate': u'2013-06-10',\n",
        "  u'awardID': u'W8486-137717/007/BL',\n",
        "  u'awardValue': {u'amount': u'', u'currency': u''},\n",
        "  u'itemsAwarded': [{u'classificationDescription': u'Filter and Networks',\n",
        "    u'classificationID': u'N5915',\n",
        "    u'classificationScheme': u'GSIN',\n",
        "    u'description': u'',\n",
        "    u'otherClassificationScheme': u'',\n",
        "    u'quantity': u'',\n",
        "    u'unitOfMeasure': u'',\n",
        "    u'valuePerUnit': {u'amount': u'', u'currency': u''}}],\n",
        "  u'notice': {u'amendment': {u'amendedFields': u'',\n",
        "    u'amendmentDate': u'',\n",
        "    u'justification': u''},\n",
        "   u'id': u'W8486-137717/007/BL',\n",
        "   u'isAmendment': u'',\n",
        "   u'publishedDate': u'',\n",
        "   u'uri': u''},\n",
        "  u'suppliers': [{u'address': {u'country-name': u'CAN',\n",
        "     u'extended-address': u'',\n",
        "     u'locality': u'POINTE-CLAIRE',\n",
        "     u'post-office-box': u'',\n",
        "     u'postal-code': u'H9R1A6',\n",
        "     u'region': u'Quebec',\n",
        "     u'street-address': u''},\n",
        "    u'id': {u'name': u'SIMEX DEFENCE INC. / DEFENSE SIMEX INC.',\n",
        "     u'scheme': u'',\n",
        "     u'uid': u'SIMEX DEFENCE INC. / DEFENSE SIMEX INC.',\n",
        "     u'uri': u''}}]}]"
       ]
      }
     ],
     "prompt_number": 51
    },
    {
     "cell_type": "code",
     "collapsed": false,
     "input": [
      "one_record"
     ],
     "language": "python",
     "metadata": {},
     "outputs": [
      {
       "metadata": {},
       "output_type": "pyout",
       "prompt_number": 40,
       "text": [
        "{u'ocid': u'PW-$$BL-297-23584',\n",
        " u'releases': [{u'name': u'',\n",
        "   u'scheme': u'',\n",
        "   u'uid': u'None-20140901-c268d225-41b1-4381-9749-ec245e42f7b1',\n",
        "   u'uri': u'file:///home/bird/Dev/opencontracting/sample-data/buyandsell/ocds_data/awards_releases_20140901.json'},\n",
        "  {u'name': u'',\n",
        "   u'scheme': u'',\n",
        "   u'uid': u'None-20140901-5dd36539-1e6c-4767-bce3-56723be6229d',\n",
        "   u'uri': u'file:///home/bird/Dev/opencontracting/sample-data/buyandsell/ocds_data/awards_releases_20140901.json'},\n",
        "  {u'name': u'',\n",
        "   u'scheme': u'',\n",
        "   u'uid': u'None-20140901-6eab0070-828e-428a-9e68-d7c5cb258948',\n",
        "   u'uri': u'file:///home/bird/Dev/opencontracting/sample-data/buyandsell/ocds_data/awards_releases_20140901.json'},\n",
        "  {u'name': u'',\n",
        "   u'scheme': u'',\n",
        "   u'uid': u'None-20140901-a0fa3938-0631-44a4-8150-62249bb8efd8',\n",
        "   u'uri': u'file:///home/bird/Dev/opencontracting/sample-data/buyandsell/ocds_data/awards_releases_20140901.json'},\n",
        "  {u'name': u'',\n",
        "   u'scheme': u'',\n",
        "   u'uid': u'None-20140901-dc274b7c-078b-4169-a6bd-dfbdef6121b4',\n",
        "   u'uri': u'file:///home/bird/Dev/opencontracting/sample-data/buyandsell/ocds_data/awards_releases_20140901.json'},\n",
        "  {u'name': u'',\n",
        "   u'scheme': u'',\n",
        "   u'uid': u'None-20140901-fd755f87-26ce-4622-b85e-14537b6c0fa5',\n",
        "   u'uri': u'file:///home/bird/Dev/opencontracting/sample-data/buyandsell/ocds_data/awards_releases_20140901.json'},\n",
        "  {u'name': u'',\n",
        "   u'scheme': u'',\n",
        "   u'uid': u'None-20140901-76e2b3a9-38bc-4dbf-9aa2-1dc889f3af4e',\n",
        "   u'uri': u'file:///home/bird/Dev/opencontracting/sample-data/buyandsell/ocds_data/awards_releases_20140901.json'},\n",
        "  {u'name': u'',\n",
        "   u'scheme': u'',\n",
        "   u'uid': u'None-20140901-cb135f72-86dc-4f1c-9f6e-97823f91b088',\n",
        "   u'uri': u'file:///home/bird/Dev/opencontracting/sample-data/buyandsell/ocds_data/contracts_releases_compact_20140901.json'},\n",
        "  {u'name': u'',\n",
        "   u'scheme': u'',\n",
        "   u'uid': u'None-20140901-3a784eab-606c-48e3-8a6d-95fc97faaa26',\n",
        "   u'uri': u'file:///home/bird/Dev/opencontracting/sample-data/buyandsell/ocds_data/contracts_releases_compact_20140901.json'},\n",
        "  {u'name': u'',\n",
        "   u'scheme': u'',\n",
        "   u'uid': u'None-20140901-3ca7d176-31d1-494d-8665-6964273c0558',\n",
        "   u'uri': u'file:///home/bird/Dev/opencontracting/sample-data/buyandsell/ocds_data/contracts_releases_compact_20140901.json'},\n",
        "  {u'name': u'',\n",
        "   u'scheme': u'',\n",
        "   u'uid': u'None-20140901-4631f58e-942f-4da0-9a96-4486ee72f625',\n",
        "   u'uri': u'file:///home/bird/Dev/opencontracting/sample-data/buyandsell/ocds_data/contracts_releases_compact_20140901.json'},\n",
        "  {u'name': u'',\n",
        "   u'scheme': u'',\n",
        "   u'uid': u'None-20140901-af657cfa-c1b1-44a2-8abf-22de460cd588',\n",
        "   u'uri': u'file:///home/bird/Dev/opencontracting/sample-data/buyandsell/ocds_data/contracts_releases_compact_20140901.json'},\n",
        "  {u'name': u'',\n",
        "   u'scheme': u'',\n",
        "   u'uid': u'None-20140901-36f1b9f4-d69d-429d-9459-05947e6e1851',\n",
        "   u'uri': u'file:///home/bird/Dev/opencontracting/sample-data/buyandsell/ocds_data/contracts_releases_compact_20140901.json'},\n",
        "  {u'name': u'',\n",
        "   u'scheme': u'',\n",
        "   u'uid': u'None-20140901-3ee24d39-fe42-47ca-9660-fffc823b9c97',\n",
        "   u'uri': u'file:///home/bird/Dev/opencontracting/sample-data/buyandsell/ocds_data/contracts_releases_compact_20140901.json'},\n",
        "  {u'name': u'',\n",
        "   u'scheme': u'',\n",
        "   u'uid': u'None-20140901-62cf2711-ffe9-401c-ba2f-fb08b7fb1cd4',\n",
        "   u'uri': u'file:///home/bird/Dev/opencontracting/sample-data/buyandsell/ocds_data/contracts_releases_compact_20140901.json'},\n",
        "  {u'name': u'',\n",
        "   u'scheme': u'',\n",
        "   u'uid': u'None-20140901-7b4db3fd-5bfd-45ea-9ae2-ce4da8aa8b0d',\n",
        "   u'uri': u'file:///home/bird/Dev/opencontracting/sample-data/buyandsell/ocds_data/contracts_releases_compact_20140901.json'},\n",
        "  {u'name': u'',\n",
        "   u'scheme': u'',\n",
        "   u'uid': u'None-20140901-d15fe546-0cbc-40c8-8632-fd7405c30ced',\n",
        "   u'uri': u'file:///home/bird/Dev/opencontracting/sample-data/buyandsell/ocds_data/contracts_releases_compact_20140901.json'},\n",
        "  {u'name': u'',\n",
        "   u'scheme': u'',\n",
        "   u'uid': u'None-20140901-3ea171c5-c84d-4b1a-b20c-248ee14a83c0',\n",
        "   u'uri': u'file:///home/bird/Dev/opencontracting/sample-data/buyandsell/ocds_data/contracts_releases_compact_20140901.json'},\n",
        "  {u'name': u'',\n",
        "   u'scheme': u'',\n",
        "   u'uid': u'None-20140901-3b8bb01d-3070-4572-b26a-fa9d22cb1683',\n",
        "   u'uri': u'file:///home/bird/Dev/opencontracting/sample-data/buyandsell/ocds_data/contracts_releases_compact_20140901.json'},\n",
        "  {u'name': u'',\n",
        "   u'scheme': u'',\n",
        "   u'uid': u'None-20140901-0e48e226-53ac-4207-8b50-bb6e4041eb16',\n",
        "   u'uri': u'file:///home/bird/Dev/opencontracting/sample-data/buyandsell/ocds_data/contracts_releases_compact_20140901.json'},\n",
        "  {u'name': u'',\n",
        "   u'scheme': u'',\n",
        "   u'uid': u'None-20140901-c33fcc7f-6699-4979-889a-a4e05a1be347',\n",
        "   u'uri': u'file:///home/bird/Dev/opencontracting/sample-data/buyandsell/ocds_data/contracts_releases_compact_20140901.json'},\n",
        "  {u'name': u'',\n",
        "   u'scheme': u'',\n",
        "   u'uid': u'None-20140901-ec20380e-8778-45ae-9036-3fbc40ef0a12',\n",
        "   u'uri': u'file:///home/bird/Dev/opencontracting/sample-data/buyandsell/ocds_data/contracts_releases_compact_20140901.json'}]}"
       ]
      }
     ],
     "prompt_number": 40
    },
    {
     "cell_type": "code",
     "collapsed": false,
     "input": [
      "award_releases = pd.io.json.json_normalize(awards['releases'])"
     ],
     "language": "python",
     "metadata": {},
     "outputs": [],
     "prompt_number": 42
    },
    {
     "cell_type": "code",
     "collapsed": false,
     "input": [
      "short_list = award_releases[award_releases.ocid == 'PW-$$BL-297-23584']"
     ],
     "language": "python",
     "metadata": {},
     "outputs": [],
     "prompt_number": 44
    },
    {
     "cell_type": "code",
     "collapsed": false,
     "input": [
      "for i in xrange(len(short_list)):\n",
      "    print short_list.iloc[i].awards"
     ],
     "language": "python",
     "metadata": {},
     "outputs": [
      {
       "output_type": "stream",
       "stream": "stdout",
       "text": [
        "[{u'itemsAwarded': [{u'unitOfMeasure': u'', u'description': u'Spare Parts for the Leopard II (W8486-137717/004/BL)', u'valuePerUnit': {u'currency': u'', u'amount': u''}, u'classificationID': u'', u'classificationScheme': u'GSIN', u'classificationDescription': u'N2540: Vehicular Furniture and Accessories\\n', u'otherClassificationScheme': u'', u'quantity': u''}], u'notice': {u'amendment': {u'amendmentDate': u'None', u'justification': u'', u'amendedFields': u''}, u'isAmendment': u'', u'id': u'W8486-137717/004/BL', u'uri': u'', u'publishedDate': u'2013-05-08'}, u'suppliers': [{u'id': {u'scheme': u'', u'uid': u'', u'name': u'JOWA                          FAHRZEUGTEILE-VERTRIEBS GMBH\\nALTENBURGER WEG 5\\nD-34305 NIEDENSTEIN\\nGermany', u'uri': u''}, u'address': {u'locality': u'', u'region': u'', u'extended-address': u'', u'post-office-box': u'', u'street-address': u'', u'postal-code': u'', u'country-name': u''}}], u'awardValue': {u'currency': u'EUR', u'amount': u'7171.25'}, u'awardDate': u'2013-05-07', u'awardID': u'W8486-137717/004/BL'}]\n",
        "[{u'itemsAwarded': [{u'unitOfMeasure': u'', u'description': u'Spare Parts for the Leopard II (W8486-137717/003/BL)', u'valuePerUnit': {u'currency': u'', u'amount': u''}, u'classificationID': u'', u'classificationScheme': u'GSIN', u'classificationDescription': u'N2540: Vehicular Furniture and Accessories\\n', u'otherClassificationScheme': u'', u'quantity': u''}], u'notice': {u'amendment': {u'amendmentDate': u'None', u'justification': u'', u'amendedFields': u''}, u'isAmendment': u'', u'id': u'W8486-137717/003/BL', u'uri': u'', u'publishedDate': u'2013-05-08'}, u'suppliers': [{u'id': {u'scheme': u'', u'uid': u'', u'name': u'GUNTER LANGKOPF\\nHARFFSTR.36\\nDUSSELDORF\\n40591\\nGermany', u'uri': u''}, u'address': {u'locality': u'', u'region': u'', u'extended-address': u'', u'post-office-box': u'', u'street-address': u'', u'postal-code': u'', u'country-name': u''}}], u'awardValue': {u'currency': u'EUR', u'amount': u'24406'}, u'awardDate': u'2013-05-07', u'awardID': u'W8486-137717/003/BL'}]\n",
        "[{u'itemsAwarded': [{u'unitOfMeasure': u'', u'description': u'Spare Parts for the Leopard II (W8486-137717/002/BL)', u'valuePerUnit': {u'currency': u'', u'amount': u''}, u'classificationID': u'', u'classificationScheme': u'GSIN', u'classificationDescription': u'N2540: Vehicular Furniture and Accessories\\n', u'otherClassificationScheme': u'', u'quantity': u''}], u'notice': {u'amendment': {u'amendmentDate': u'None', u'justification': u'', u'amendedFields': u''}, u'isAmendment': u'', u'id': u'W8486-137717/002/BL', u'uri': u'', u'publishedDate': u'2013-05-08'}, u'suppliers': [{u'id': {u'scheme': u'', u'uid': u'', u'name': u'GLOBAL LOGISTICS SUPPORT GmbH\\nRESSENER WEG 1\\nALTDOEBERN\\n03229\\nGermany', u'uri': u''}, u'address': {u'locality': u'', u'region': u'', u'extended-address': u'', u'post-office-box': u'', u'street-address': u'', u'postal-code': u'', u'country-name': u''}}], u'awardValue': {u'currency': u'EUR', u'amount': u'14724.34'}, u'awardDate': u'2013-05-07', u'awardID': u'W8486-137717/002/BL'}]\n",
        "[{u'itemsAwarded': [{u'unitOfMeasure': u'', u'description': u'Spare Parts for the Leopard II (W8486-137717/001/BL)', u'valuePerUnit': {u'currency': u'', u'amount': u''}, u'classificationID': u'', u'classificationScheme': u'GSIN', u'classificationDescription': u'N2540: Vehicular Furniture and Accessories\\n', u'otherClassificationScheme': u'', u'quantity': u''}], u'notice': {u'amendment': {u'amendmentDate': u'None', u'justification': u'', u'amendedFields': u''}, u'isAmendment': u'', u'id': u'W8486-137717/001/BL', u'uri': u'', u'publishedDate': u'2013-05-08'}, u'suppliers': [{u'id': {u'scheme': u'', u'uid': u'', u'name': u'August Schr\\xf6der Maschinenbau GmbH\\nPostfach 120543\\nRemscheid\\n42875\\nGermany', u'uri': u''}, u'address': {u'locality': u'', u'region': u'', u'extended-address': u'', u'post-office-box': u'', u'street-address': u'', u'postal-code': u'', u'country-name': u''}}], u'awardValue': {u'currency': u'EUR', u'amount': u'1465.5'}, u'awardDate': u'2013-05-07', u'awardID': u'W8486-137717/001/BL'}]\n",
        "[{u'itemsAwarded': [{u'unitOfMeasure': u'', u'description': u'Spare Parts for the Leopard II (W8486-137717/007/BL)', u'valuePerUnit': {u'currency': u'', u'amount': u''}, u'classificationID': u'', u'classificationScheme': u'GSIN', u'classificationDescription': u'N2540: Vehicular Furniture and Accessories\\n', u'otherClassificationScheme': u'', u'quantity': u''}], u'notice': {u'amendment': {u'amendmentDate': u'None', u'justification': u'', u'amendedFields': u''}, u'isAmendment': u'', u'id': u'W8486-137717/007/BL', u'uri': u'', u'publishedDate': u'2013-05-16'}, u'suppliers': [{u'id': {u'scheme': u'', u'uid': u'', u'name': u'SIMEX DEFENCE INC. / DEFENSE SIMEX INC.\\n216 Brunswick Blvd.\\nPointe-Claire\\nQuebec\\nH9R1A6\\nCanada', u'uri': u''}, u'address': {u'locality': u'', u'region': u'', u'extended-address': u'', u'post-office-box': u'', u'street-address': u'', u'postal-code': u'', u'country-name': u''}}], u'awardValue': {u'currency': u'CAD', u'amount': u'1327.5'}, u'awardDate': u'2013-05-15', u'awardID': u'W8486-137717/007/BL'}]\n",
        "[{u'itemsAwarded': [{u'unitOfMeasure': u'', u'description': u'Spare Parts for the Leopard II (W8486-137717/006/BL)', u'valuePerUnit': {u'currency': u'', u'amount': u''}, u'classificationID': u'', u'classificationScheme': u'GSIN', u'classificationDescription': u'N2540: Vehicular Furniture and Accessories\\n', u'otherClassificationScheme': u'', u'quantity': u''}], u'notice': {u'amendment': {u'amendmentDate': u'None', u'justification': u'', u'amendedFields': u''}, u'isAmendment': u'', u'id': u'W8486-137717/006/BL', u'uri': u'', u'publishedDate': u'2013-05-16'}, u'suppliers': [{u'id': {u'scheme': u'', u'uid': u'', u'name': u'PAAR LOGISTIK GMBH\\nStadtplatz 28\\nAICHACH\\nD-86551\\nGERMANY', u'uri': u''}, u'address': {u'locality': u'', u'region': u'', u'extended-address': u'', u'post-office-box': u'', u'street-address': u'', u'postal-code': u'', u'country-name': u''}}], u'awardValue': {u'currency': u'EUR', u'amount': u'5914.5'}, u'awardDate': u'2013-05-15', u'awardID': u'W8486-137717/006/BL'}]\n",
        "[{u'itemsAwarded': [{u'unitOfMeasure': u'', u'description': u'Spare Parts for the Leopard II (W8486-137717/005/BL)', u'valuePerUnit': {u'currency': u'', u'amount': u''}, u'classificationID': u'', u'classificationScheme': u'GSIN', u'classificationDescription': u'N2540: Vehicular Furniture and Accessories\\n', u'otherClassificationScheme': u'', u'quantity': u''}], u'notice': {u'amendment': {u'amendmentDate': u'None', u'justification': u'', u'amendedFields': u''}, u'isAmendment': u'', u'id': u'W8486-137717/005/BL', u'uri': u'', u'publishedDate': u'2013-05-16'}, u'suppliers': [{u'id': {u'scheme': u'', u'uid': u'', u'name': u'KRAUSS-MAFFEI WEGMANN GmbH & Co. KG\\nKRAUSS MAFFEI STR 11\\nPOSTFACH 50 02 40\\nMunchen\\nD-80972\\nGermany', u'uri': u''}, u'address': {u'locality': u'', u'region': u'', u'extended-address': u'', u'post-office-box': u'', u'street-address': u'', u'postal-code': u'', u'country-name': u''}}], u'awardValue': {u'currency': u'EUR', u'amount': u'13212.83'}, u'awardDate': u'2013-05-15', u'awardID': u'W8486-137717/005/BL'}]\n"
       ]
      }
     ],
     "prompt_number": 50
    },
    {
     "cell_type": "code",
     "collapsed": false,
     "input": [],
     "language": "python",
     "metadata": {},
     "outputs": []
    }
   ],
   "metadata": {}
  }
 ]
}