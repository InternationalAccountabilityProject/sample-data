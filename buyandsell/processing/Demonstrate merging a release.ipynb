{
 "metadata": {
  "name": "",
  "signature": "sha256:2a136d033192a7aa1f1f97cd4f27c7db11586b428025a2aef5b0c8baf4cfc0f9"
 },
 "nbformat": 3,
 "nbformat_minor": 0,
 "worksheets": [
  {
   "cells": [
    {
     "cell_type": "heading",
     "level": 2,
     "metadata": {},
     "source": [
      "Preparation"
     ]
    },
    {
     "cell_type": "markdown",
     "metadata": {},
     "source": [
      "1) mapping:\n",
      "\n",
      "* use json-schema-merge to make empty format for map\n",
      "* map the open contracting format to the canadian fields\n",
      "* (see the mappings in the mappings folder under buyandsell in this repo)\n",
      "\n",
      "2) prepare the data:\n",
      "\n",
      "* some custom preprocessing for the canadian data to get reference on contract history data\n",
      "* use mapper - mapper.py to get three sets of release data\n",
      "* (see the releases data in the ocds_data folder under buyandsell in this repo)\n",
      "\n",
      "\n",
      "3) turn releases into raw records (just the releases array with the releases grouped by ocid):\n",
      "\n",
      "* use compiler - compile.py to get compiled record - with just the releases\n",
      "* (see the compiled record in the ocds_data folder under buyandsell in this repo)"
     ]
    },
    {
     "cell_type": "heading",
     "level": 2,
     "metadata": {},
     "source": [
      "Make a compiledRelease"
     ]
    },
    {
     "cell_type": "code",
     "collapsed": false,
     "input": [
      "import jsonmerge\n",
      "import json"
     ],
     "language": "python",
     "metadata": {},
     "outputs": [],
     "prompt_number": 1
    },
    {
     "cell_type": "code",
     "collapsed": false,
     "input": [
      "file_list = [\n",
      "u'file:///home/bird/Dev/opencontracting/sample-data/buyandsell/ocds_data/tender_releases_20140901.json',\n",
      "u'file:///home/bird/Dev/opencontracting/sample-data/buyandsell/ocds_data/awards_releases_20140901.json',\n",
      "u'file:///home/bird/Dev/opencontracting/sample-data/buyandsell/ocds_data/contracts_releases_compact_20140901.json'\n",
      "]\n",
      "with open(file_list[0].split('file://')[1], 'rb') as f:\n",
      "    tenders = json.loads(f.read())\n",
      "\n",
      "with open(file_list[1].split('file://')[1], 'rb') as f:\n",
      "    awards = json.loads(f.read())\n",
      "\n",
      "with open(file_list[2].split('file://')[1], 'rb') as f:\n",
      "    contracts = json.loads(f.read())\n",
      "\n",
      "with open('../ocds_data/canada_records_linked_20140901.json', 'rb') as f:\n",
      "    records = json.loads(f.read())\n",
      "\n",
      "file_map = {\n",
      "    file_list[0]: tenders,\n",
      "    file_list[1]: awards,\n",
      "    file_list[2]: contracts\n",
      "}"
     ],
     "language": "python",
     "metadata": {},
     "outputs": [],
     "prompt_number": 2
    },
    {
     "cell_type": "code",
     "collapsed": false,
     "input": [
      "records_only = records['records']\n",
      "len(records_only)"
     ],
     "language": "python",
     "metadata": {},
     "outputs": [
      {
       "metadata": {},
       "output_type": "pyout",
       "prompt_number": 3,
       "text": [
        "26448"
       ]
      }
     ],
     "prompt_number": 3
    },
    {
     "cell_type": "code",
     "collapsed": false,
     "input": [
      "desired_ocid = 'PW-$$BL-297-23584'  # Got from \"exploring the data\" - as has some changes in it to explore\n",
      "for record in records_only:\n",
      "    if record['ocid'] == desired_ocid:\n",
      "        demo_record = record\n",
      "        break"
     ],
     "language": "python",
     "metadata": {},
     "outputs": [],
     "prompt_number": 4
    },
    {
     "cell_type": "code",
     "collapsed": false,
     "input": [
      "with open('../../../standard/standard/schema/release-schema.json', 'rb') as f:\n",
      "    release_schema = json.loads(f.read())\n",
      "\n",
      "def get_release(uid_to_find, data_package):\n",
      "    for dpr in data_package['releases']:\n",
      "        if dpr['releaseID'] == uid_to_find:\n",
      "            return dpr\n",
      "        \n",
      "base = None\n",
      "for release in demo_record['releases']:\n",
      "    full_release = get_release(release['uid'], file_map[release['uri']])\n",
      "    base = jsonmerge.merge(base, full_release,release_schema)\n",
      "    \n",
      "demo_record.update({\n",
      "    \"compiledRelease\": base\n",
      "})"
     ],
     "language": "python",
     "metadata": {},
     "outputs": [],
     "prompt_number": 5
    },
    {
     "cell_type": "code",
     "collapsed": false,
     "input": [
      "print len(demo_record['compiledRelease']['awards'])\n",
      "print len(demo_record['compiledRelease']['contracts'])"
     ],
     "language": "python",
     "metadata": {},
     "outputs": [
      {
       "output_type": "stream",
       "stream": "stdout",
       "text": [
        "7\n",
        "7\n"
       ]
      }
     ],
     "prompt_number": 6
    },
    {
     "cell_type": "heading",
     "level": 2,
     "metadata": {},
     "source": [
      "Make a versionedRelease"
     ]
    },
    {
     "cell_type": "code",
     "collapsed": false,
     "input": [
      "with open('../../../standard/standard/schema/versioned-release-schema.json', 'rb') as f:\n",
      "    versioned_release_schema = json.loads(f.read())\n",
      "\n",
      "def get_release(uid_to_find, data_package):\n",
      "    for dpr in data_package['releases']:\n",
      "        if dpr['releaseID'] == uid_to_find:\n",
      "            return dpr\n",
      "        \n",
      "base = None\n",
      "for release in demo_record['releases']:\n",
      "    full_release = get_release(release['uid'], file_map[release['uri']])\n",
      "    base = jsonmerge.merge(base, full_release, versioned_release_schema)\n",
      "    \n",
      "demo_record.update({\n",
      "    \"versionedRelease\": base\n",
      "})"
     ],
     "language": "python",
     "metadata": {},
     "outputs": [],
     "prompt_number": 7
    },
    {
     "cell_type": "code",
     "collapsed": false,
     "input": [
      "print len(demo_record['versionedRelease']['awards'])\n",
      "print len(demo_record['versionedRelease']['contracts'])"
     ],
     "language": "python",
     "metadata": {},
     "outputs": [
      {
       "output_type": "stream",
       "stream": "stdout",
       "text": [
        "7\n",
        "7\n"
       ]
      }
     ],
     "prompt_number": 8
    },
    {
     "cell_type": "heading",
     "level": 2,
     "metadata": {},
     "source": [
      "Compare sample values from compiledRelease and versionedRelease"
     ]
    },
    {
     "cell_type": "markdown",
     "metadata": {},
     "source": [
      "Note that the releaseDate is the same in both as it wasn't available in the data, so we set it to a constant."
     ]
    },
    {
     "cell_type": "code",
     "collapsed": false,
     "input": [
      "print 'compiled: ' + str(demo_record['compiledRelease']['awards'][0]['awardValue']['amount'])\n",
      "print 'versioned: ' + json.dumps(demo_record['versionedRelease']['awards'][0]['awardValue']['amount'], indent=1)"
     ],
     "language": "python",
     "metadata": {},
     "outputs": [
      {
       "output_type": "stream",
       "stream": "stdout",
       "text": [
        "Just one value\n",
        "compiled: 7171.25\n",
        "versioned: [\n",
        " {\n",
        "  \"releaseDate\": \"2014-07-26\", \n",
        "  \"releaseID\": \"None-20140901-c268d225-41b1-4381-9749-ec245e42f7b1\", \n",
        "  \"releaseTag\": \"awardNotice\", \n",
        "  \"value\": \"7171.25\"\n",
        " }\n",
        "]\n"
       ]
      }
     ],
     "prompt_number": 15
    },
    {
     "cell_type": "code",
     "collapsed": false,
     "input": [
      "print 'compiled: ' + str(demo_record['compiledRelease']['awards'][2]['awardDate'])\n",
      "print 'versioned: ' + json.dumps(demo_record['versionedRelease']['awards'][2]['awardDate'], indent=1)"
     ],
     "language": "python",
     "metadata": {},
     "outputs": [
      {
       "output_type": "stream",
       "stream": "stdout",
       "text": [
        "compiled: 2013-06-10\n",
        "versioned: [\n",
        " {\n",
        "  \"releaseDate\": \"2014-07-26\", \n",
        "  \"releaseID\": \"None-20140901-6eab0070-828e-428a-9e68-d7c5cb258948\", \n",
        "  \"releaseTag\": \"awardNotice\", \n",
        "  \"value\": \"2013-05-07\"\n",
        " }, \n",
        " {\n",
        "  \"releaseDate\": \"2014-07-26\", \n",
        "  \"releaseID\": \"None-20140901-4631f58e-942f-4da0-9a96-4486ee72f625\", \n",
        "  \"releaseTag\": \"contractAmendment\", \n",
        "  \"value\": \"2013-06-10\"\n",
        " }\n",
        "]\n"
       ]
      }
     ],
     "prompt_number": 16
    },
    {
     "cell_type": "heading",
     "level": 3,
     "metadata": {},
     "source": [
      "Validate versioned record"
     ]
    },
    {
     "cell_type": "code",
     "collapsed": false,
     "input": [],
     "language": "python",
     "metadata": {},
     "outputs": [],
     "prompt_number": 11
    }
   ],
   "metadata": {}
  }
 ]
}