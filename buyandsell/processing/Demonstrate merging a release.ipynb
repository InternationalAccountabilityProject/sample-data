{
 "metadata": {
  "name": "",
  "signature": "sha256:462feafa70434d552cb8c2c6510d438d47a1b4a29759685f56242a25f45e6b88"
 },
 "nbformat": 3,
 "nbformat_minor": 0,
 "worksheets": [
  {
   "cells": [
    {
     "cell_type": "heading",
     "level": 2,
     "metadata": {},
     "source": [
      "Preparation"
     ]
    },
    {
     "cell_type": "markdown",
     "metadata": {},
     "source": [
      "mapping:\n",
      "\n",
      "* use json-schema-merge to make empty format for map\n",
      "* map the open contracting format to the canadian fields\n",
      "\n",
      "mappings and empty fields in mappings\n",
      "\n",
      "prepare the data:\n",
      "\n",
      "* run mapper.py to get three sets of release data\n",
      "\n",
      "data in ocds_data:\n",
      "\n",
      "* run compile.py to get compiled record - with just the releases"
     ]
    },
    {
     "cell_type": "code",
     "collapsed": false,
     "input": [
      "import jsonmerge\n",
      "import json"
     ],
     "language": "python",
     "metadata": {},
     "outputs": [],
     "prompt_number": 1
    },
    {
     "cell_type": "code",
     "collapsed": false,
     "input": [
      "file_list = [\n",
      "u'file:///home/bird/Dev/opencontracting/sample-data/buyandsell/ocds_data/tender_releases_20140901.json',\n",
      "u'file:///home/bird/Dev/opencontracting/sample-data/buyandsell/ocds_data/awards_releases_20140901.json',\n",
      "u'file:///home/bird/Dev/opencontracting/sample-data/buyandsell/ocds_data/contracts_releases_compact_20140901.json'\n",
      "]\n",
      "with open(file_list[0].split('file://')[1], 'rb') as f:\n",
      "    tenders = json.loads(f.read())\n",
      "\n",
      "with open(file_list[1].split('file://')[1], 'rb') as f:\n",
      "    awards = json.loads(f.read())\n",
      "\n",
      "with open(file_list[2].split('file://')[1], 'rb') as f:\n",
      "    contracts = json.loads(f.read())\n",
      "\n",
      "with open('../ocds_data/canada_records_linked_20140901.json', 'rb') as f:\n",
      "    records = json.loads(f.read())\n",
      "\n",
      "file_map = {\n",
      "    file_list[0]: tenders,\n",
      "    file_list[1]: awards,\n",
      "    file_list[2]: contracts\n",
      "}"
     ],
     "language": "python",
     "metadata": {},
     "outputs": [],
     "prompt_number": 2
    },
    {
     "cell_type": "code",
     "collapsed": false,
     "input": [
      "records_only = records['records']\n",
      "len(records_only)"
     ],
     "language": "python",
     "metadata": {},
     "outputs": [
      {
       "metadata": {},
       "output_type": "pyout",
       "prompt_number": 3,
       "text": [
        "26448"
       ]
      }
     ],
     "prompt_number": 3
    },
    {
     "cell_type": "code",
     "collapsed": false,
     "input": [
      "desired_ocid = 'PW-$$BL-297-23584'  # Got from \"exploring the data\" - as has some changes in it to explore\n",
      "for record in records_only:\n",
      "    if record['ocid'] == desired_ocid:\n",
      "        demo_record = record\n",
      "        break"
     ],
     "language": "python",
     "metadata": {},
     "outputs": [],
     "prompt_number": 4
    },
    {
     "cell_type": "code",
     "collapsed": false,
     "input": [
      "with open('../../../standard/standard/schema/release-schema.json', 'rb') as f:\n",
      "    release_schema = json.loads(f.read())\n",
      "\n",
      "def get_release(uid_to_find, data_package):\n",
      "    for dpr in data_package['releases']:\n",
      "        if dpr['releaseID'] == uid_to_find:\n",
      "            return dpr\n",
      "        \n",
      "base = None\n",
      "for release in demo_record['releases']:\n",
      "    full_release = get_release(release['uid'], file_map[release['uri']])\n",
      "    base = jsonmerge.merge(base, full_release,release_schema)\n",
      "    \n",
      "demo_record.update({\n",
      "    \"compiledRelease\": base\n",
      "})"
     ],
     "language": "python",
     "metadata": {},
     "outputs": [],
     "prompt_number": 11
    },
    {
     "cell_type": "code",
     "collapsed": false,
     "input": [
      "print len(demo_record['compiledRelease']['awards'])\n",
      "print len(demo_record['compiledRelease']['contracts'])"
     ],
     "language": "python",
     "metadata": {},
     "outputs": [
      {
       "output_type": "stream",
       "stream": "stdout",
       "text": [
        "7\n",
        "8\n"
       ]
      }
     ],
     "prompt_number": 12
    },
    {
     "cell_type": "heading",
     "level": 2,
     "metadata": {},
     "source": [
      "Make versioned record"
     ]
    },
    {
     "cell_type": "code",
     "collapsed": false,
     "input": [
      "with open('../../../standard/standard/schema/versioned-release-schema.json', 'rb') as f:\n",
      "    versioned_release_schema = json.loads(f.read())\n",
      "\n",
      "def get_release(uid_to_find, data_package):\n",
      "    for dpr in data_package['releases']:\n",
      "        if dpr['releaseID'] == uid_to_find:\n",
      "            return dpr\n",
      "        \n",
      "base = None\n",
      "for release in demo_record['releases']:\n",
      "    full_release = get_release(release['uid'], file_map[release['uri']])\n",
      "    base = jsonmerge.merge(base, full_release, versioned_release_schema)\n",
      "    \n",
      "demo_record.update({\n",
      "    \"versionedRelease\": base\n",
      "})"
     ],
     "language": "python",
     "metadata": {},
     "outputs": [],
     "prompt_number": 25
    },
    {
     "cell_type": "code",
     "collapsed": false,
     "input": [
      "print len(demo_record['versionedRelease']['awards'])\n",
      "print len(demo_record['versionedRelease']['contracts'])"
     ],
     "language": "python",
     "metadata": {},
     "outputs": [
      {
       "output_type": "stream",
       "stream": "stdout",
       "text": [
        "7\n",
        "8\n"
       ]
      }
     ],
     "prompt_number": 14
    },
    {
     "cell_type": "code",
     "collapsed": false,
     "input": [
      "print demo_record['versionedRelease']['awards'][0]['awardID']\n",
      "\n",
      "for award in demo_record['versionedRelease']['awards']:\n",
      "    print json.dumps(award['awardValue'], indent=1)\n",
      "    print '----------------------------'\n"
     ],
     "language": "python",
     "metadata": {},
     "outputs": [
      {
       "output_type": "stream",
       "stream": "stdout",
       "text": [
        "W8486-137717/004/BL\n",
        "{\n",
        " \"currency\": [\n",
        "  {\n",
        "   \"releaseDate\": \"2014-07-26\", \n",
        "   \"releaseID\": \"None-20140901-c268d225-41b1-4381-9749-ec245e42f7b1\", \n",
        "   \"releaseTag\": \"awardNotice\", \n",
        "   \"value\": \"EUR\"\n",
        "  }\n",
        " ], \n",
        " \"amount\": [\n",
        "  {\n",
        "   \"releaseDate\": \"2014-07-26\", \n",
        "   \"releaseID\": \"None-20140901-c268d225-41b1-4381-9749-ec245e42f7b1\", \n",
        "   \"releaseTag\": \"awardNotice\", \n",
        "   \"value\": \"7171.25\"\n",
        "  }\n",
        " ]\n",
        "}\n",
        "----------------------------\n",
        "{\n",
        " \"currency\": [\n",
        "  {\n",
        "   \"releaseDate\": \"2014-07-26\", \n",
        "   \"releaseID\": \"None-20140901-5dd36539-1e6c-4767-bce3-56723be6229d\", \n",
        "   \"releaseTag\": \"awardNotice\", \n",
        "   \"value\": \"EUR\"\n",
        "  }\n",
        " ], \n",
        " \"amount\": [\n",
        "  {\n",
        "   \"releaseDate\": \"2014-07-26\", \n",
        "   \"releaseID\": \"None-20140901-5dd36539-1e6c-4767-bce3-56723be6229d\", \n",
        "   \"releaseTag\": \"awardNotice\", \n",
        "   \"value\": \"24406\"\n",
        "  }\n",
        " ]\n",
        "}\n",
        "----------------------------\n",
        "{\n",
        " \"currency\": [\n",
        "  {\n",
        "   \"releaseDate\": \"2014-07-26\", \n",
        "   \"releaseID\": \"None-20140901-6eab0070-828e-428a-9e68-d7c5cb258948\", \n",
        "   \"releaseTag\": \"awardNotice\", \n",
        "   \"value\": \"EUR\"\n",
        "  }\n",
        " ], \n",
        " \"amount\": [\n",
        "  {\n",
        "   \"releaseDate\": \"2014-07-26\", \n",
        "   \"releaseID\": \"None-20140901-6eab0070-828e-428a-9e68-d7c5cb258948\", \n",
        "   \"releaseTag\": \"awardNotice\", \n",
        "   \"value\": \"14724.34\"\n",
        "  }\n",
        " ]\n",
        "}\n",
        "----------------------------\n",
        "{\n",
        " \"currency\": [\n",
        "  {\n",
        "   \"releaseDate\": \"2014-07-26\", \n",
        "   \"releaseID\": \"None-20140901-a0fa3938-0631-44a4-8150-62249bb8efd8\", \n",
        "   \"releaseTag\": \"awardNotice\", \n",
        "   \"value\": \"EUR\"\n",
        "  }\n",
        " ], \n",
        " \"amount\": [\n",
        "  {\n",
        "   \"releaseDate\": \"2014-07-26\", \n",
        "   \"releaseID\": \"None-20140901-a0fa3938-0631-44a4-8150-62249bb8efd8\", \n",
        "   \"releaseTag\": \"awardNotice\", \n",
        "   \"value\": \"1465.5\"\n",
        "  }\n",
        " ]\n",
        "}\n",
        "----------------------------\n",
        "{\n",
        " \"currency\": [\n",
        "  {\n",
        "   \"releaseDate\": \"2014-07-26\", \n",
        "   \"releaseID\": \"None-20140901-dc274b7c-078b-4169-a6bd-dfbdef6121b4\", \n",
        "   \"releaseTag\": \"awardNotice\", \n",
        "   \"value\": \"CAD\"\n",
        "  }\n",
        " ], \n",
        " \"amount\": [\n",
        "  {\n",
        "   \"releaseDate\": \"2014-07-26\", \n",
        "   \"releaseID\": \"None-20140901-dc274b7c-078b-4169-a6bd-dfbdef6121b4\", \n",
        "   \"releaseTag\": \"awardNotice\", \n",
        "   \"value\": \"1327.5\"\n",
        "  }\n",
        " ]\n",
        "}\n",
        "----------------------------\n",
        "{\n",
        " \"currency\": [\n",
        "  {\n",
        "   \"releaseDate\": \"2014-07-26\", \n",
        "   \"releaseID\": \"None-20140901-fd755f87-26ce-4622-b85e-14537b6c0fa5\", \n",
        "   \"releaseTag\": \"awardNotice\", \n",
        "   \"value\": \"EUR\"\n",
        "  }\n",
        " ], \n",
        " \"amount\": [\n",
        "  {\n",
        "   \"releaseDate\": \"2014-07-26\", \n",
        "   \"releaseID\": \"None-20140901-fd755f87-26ce-4622-b85e-14537b6c0fa5\", \n",
        "   \"releaseTag\": \"awardNotice\", \n",
        "   \"value\": \"5914.5\"\n",
        "  }\n",
        " ]\n",
        "}\n",
        "----------------------------\n",
        "{\n",
        " \"currency\": [\n",
        "  {\n",
        "   \"releaseDate\": \"2014-07-26\", \n",
        "   \"releaseID\": \"None-20140901-76e2b3a9-38bc-4dbf-9aa2-1dc889f3af4e\", \n",
        "   \"releaseTag\": \"awardNotice\", \n",
        "   \"value\": \"EUR\"\n",
        "  }\n",
        " ], \n",
        " \"amount\": [\n",
        "  {\n",
        "   \"releaseDate\": \"2014-07-26\", \n",
        "   \"releaseID\": \"None-20140901-76e2b3a9-38bc-4dbf-9aa2-1dc889f3af4e\", \n",
        "   \"releaseTag\": \"awardNotice\", \n",
        "   \"value\": \"13212.83\"\n",
        "  }\n",
        " ]\n",
        "}\n",
        "----------------------------\n"
       ]
      }
     ],
     "prompt_number": 27
    },
    {
     "cell_type": "code",
     "collapsed": false,
     "input": [
      "demo_record['versionedRelease']['awards'][0]['awardValue']"
     ],
     "language": "python",
     "metadata": {},
     "outputs": [
      {
       "metadata": {},
       "output_type": "pyout",
       "prompt_number": 29,
       "text": [
        "{u'currency': [{'releaseDate': u'2014-07-26', 'releaseID': u'None-20140901-c268d225-41b1-4381-9749-ec245e42f7b1', 'releaseTag': u'awardNotice', 'value': u'EUR'}], u'amount': [{'releaseDate': u'2014-07-26', 'releaseID': u'None-20140901-c268d225-41b1-4381-9749-ec245e42f7b1', 'releaseTag': u'awardNotice', 'value': u'7171.25'}]}"
       ]
      }
     ],
     "prompt_number": 29
    },
    {
     "cell_type": "heading",
     "level": 3,
     "metadata": {},
     "source": [
      "Validate versioned record"
     ]
    },
    {
     "cell_type": "code",
     "collapsed": false,
     "input": [],
     "language": "python",
     "metadata": {},
     "outputs": []
    }
   ],
   "metadata": {}
  }
 ]
}