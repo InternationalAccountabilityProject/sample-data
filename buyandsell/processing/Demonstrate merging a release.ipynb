{
 "metadata": {
  "name": "",
  "signature": "sha256:f3208adfca9af8754f89d916e5d31064b9206e243b283b5823d94a755aa5021e"
 },
 "nbformat": 3,
 "nbformat_minor": 0,
 "worksheets": [
  {
   "cells": [
    {
     "cell_type": "heading",
     "level": 2,
     "metadata": {},
     "source": [
      "Preparation"
     ]
    },
    {
     "cell_type": "markdown",
     "metadata": {},
     "source": [
      "1) mapping:\n",
      "\n",
      "* use json-schema-merge to make empty format for map\n",
      "* map the open contracting format to the canadian fields\n",
      "* (see the mappings in the mappings folder under buyandsell in this repo)\n",
      "\n",
      "2) prepare the data:\n",
      "\n",
      "* some custom preprocessing for the canadian data to get reference on contract history data\n",
      "* use mapper - mapper.py to get three sets of release data\n",
      "* (see the releases data in the ocds_data folder under buyandsell in this repo)\n",
      "\n",
      "\n",
      "3) turn releases into raw records (just the releases array with the releases grouped by ocid):\n",
      "\n",
      "* use compiler - compile.py to get compiled record - with just the releases\n",
      "* (see the compiled record in the ocds_data folder under buyandsell in this repo)"
     ]
    },
    {
     "cell_type": "code",
     "collapsed": false,
     "input": [
      "import jsonmerge\n",
      "import json\n",
      "from jsonschema import validate\n",
      "from collections import defaultdict\n",
      "from operator import itemgetter\n",
      "from copy import deepcopy"
     ],
     "language": "python",
     "metadata": {},
     "outputs": [],
     "prompt_number": 8
    },
    {
     "cell_type": "code",
     "collapsed": false,
     "input": [
      "file_list = [\n",
      "u'file:///home/bird/Dev/opencontracting/sample-data/buyandsell/ocds_data/tenders_releases.json',\n",
      "u'file:///home/bird/Dev/opencontracting/sample-data/buyandsell/ocds_data/awards_releases.json',\n",
      "u'file:///home/bird/Dev/opencontracting/sample-data/buyandsell/ocds_data/contracts_releases.json',\n",
      "u'file:///home/bird/Dev/opencontracting/sample-data/buyandsell/ocds_data/records_linked.json'\n",
      "]\n",
      "with open(file_list[0].split('file://')[1], 'rb') as f:\n",
      "    tenders = json.loads(f.read())\n",
      "\n",
      "with open(file_list[1].split('file://')[1], 'rb') as f:\n",
      "    awards = json.loads(f.read())\n",
      "\n",
      "with open(file_list[2].split('file://')[1], 'rb') as f:\n",
      "    contracts = json.loads(f.read())\n",
      "\n",
      "with open(file_list[3].split('file://')[1], 'rb') as f:\n",
      "    records = json.loads(f.read())\n",
      "\n",
      "file_map = {\n",
      "    file_list[0]: tenders,\n",
      "    file_list[1]: awards,\n",
      "    file_list[2]: contracts\n",
      "}"
     ],
     "language": "python",
     "metadata": {},
     "outputs": [],
     "prompt_number": 9
    },
    {
     "cell_type": "code",
     "collapsed": false,
     "input": [
      "records_only = records['records']\n",
      "print \"Number of unique ocid's: \" + str(len(records_only))"
     ],
     "language": "python",
     "metadata": {},
     "outputs": [
      {
       "output_type": "stream",
       "stream": "stdout",
       "text": [
        "Number of unique ocid's: 26448\n"
       ]
      }
     ],
     "prompt_number": 10
    },
    {
     "cell_type": "code",
     "collapsed": false,
     "input": [
      "d = defaultdict(int)\n",
      "for record in records_only:\n",
      "    number_of_releases = len(record['releases'])\n",
      "    d[number_of_releases] += 1\n",
      "\n",
      "sortd = sorted(d.iteritems(), key=itemgetter(0))[0:20]"
     ],
     "language": "python",
     "metadata": {},
     "outputs": [],
     "prompt_number": 11
    },
    {
     "cell_type": "code",
     "collapsed": false,
     "input": [
      "def get_release(uid_to_find, data_package):\n",
      "    for dpr in data_package['releases']:\n",
      "        if dpr['releaseID'] == uid_to_find:\n",
      "            return dpr\n",
      "        "
     ],
     "language": "python",
     "metadata": {},
     "outputs": [],
     "prompt_number": 12
    },
    {
     "cell_type": "heading",
     "level": 2,
     "metadata": {},
     "source": [
      "Make a compiledRelease"
     ]
    },
    {
     "cell_type": "code",
     "collapsed": false,
     "input": [
      "desired_ocid = 'PW-$$BL-297-23584'  # Got from \"exploring the data\" - as has some changes in it to explore\n",
      "for record in records_only:\n",
      "    if record['ocid'] == desired_ocid:\n",
      "        demo_record = deepcopy(record)\n",
      "        break"
     ],
     "language": "python",
     "metadata": {},
     "outputs": [],
     "prompt_number": 13
    },
    {
     "cell_type": "code",
     "collapsed": false,
     "input": [
      "with open('../../../standard/standard/schema/release-schema.json', 'rb') as f:\n",
      "    release_schema = json.loads(f.read())\n",
      "        \n",
      "base = None\n",
      "for release in demo_record['releases']:\n",
      "    full_release = get_release(release['uid'], file_map[release['uri']])\n",
      "    base = jsonmerge.merge(base, full_release, release_schema)\n",
      "    \n",
      "demo_record.update({\n",
      "    \"compiledRelease\": base\n",
      "})"
     ],
     "language": "python",
     "metadata": {},
     "outputs": [],
     "prompt_number": 14
    },
    {
     "cell_type": "code",
     "collapsed": false,
     "input": [
      "print len(demo_record['compiledRelease']['awards'])\n",
      "print len(demo_record['compiledRelease']['contracts'])"
     ],
     "language": "python",
     "metadata": {},
     "outputs": [
      {
       "output_type": "stream",
       "stream": "stdout",
       "text": [
        "7\n",
        "7\n"
       ]
      }
     ],
     "prompt_number": 15
    },
    {
     "cell_type": "heading",
     "level": 2,
     "metadata": {},
     "source": [
      "Make a versionedRelease"
     ]
    },
    {
     "cell_type": "code",
     "collapsed": false,
     "input": [
      "with open('../../../standard/standard/schema/versioned-release-schema.json', 'rb') as f:\n",
      "    versioned_release_schema = json.loads(f.read())\n",
      "\n",
      "base = None\n",
      "for release in demo_record['releases']:\n",
      "    full_release = get_release(release['uid'], file_map[release['uri']])\n",
      "    base = jsonmerge.merge(base, full_release, versioned_release_schema)\n",
      "    \n",
      "demo_record.update({\n",
      "    \"versionedRelease\": base\n",
      "})"
     ],
     "language": "python",
     "metadata": {},
     "outputs": [],
     "prompt_number": 16
    },
    {
     "cell_type": "code",
     "collapsed": false,
     "input": [
      "print len(demo_record['versionedRelease']['awards'])\n",
      "print len(demo_record['versionedRelease']['contracts'])"
     ],
     "language": "python",
     "metadata": {},
     "outputs": [
      {
       "output_type": "stream",
       "stream": "stdout",
       "text": [
        "7\n",
        "7\n"
       ]
      }
     ],
     "prompt_number": 17
    },
    {
     "cell_type": "heading",
     "level": 2,
     "metadata": {},
     "source": [
      "Compare sample values from compiledRelease and versionedRelease"
     ]
    },
    {
     "cell_type": "markdown",
     "metadata": {},
     "source": [
      "Note that the releaseDate is the same in both as it wasn't available in the data, so we set it to a constant."
     ]
    },
    {
     "cell_type": "code",
     "collapsed": false,
     "input": [
      "print 'compiled: ' + str(demo_record['compiledRelease']['awards'][0]['awardValue']['amount'])\n",
      "print 'versioned: ' + json.dumps(demo_record['versionedRelease']['awards'][0]['awardValue']['amount'], indent=1)"
     ],
     "language": "python",
     "metadata": {},
     "outputs": [
      {
       "output_type": "stream",
       "stream": "stdout",
       "text": [
        "compiled: None\n",
        "versioned: [\n",
        " {\n",
        "  \"releaseDate\": \"2014-07-26\", \n",
        "  \"releaseID\": \"Buyandsell.gc.ca-20140918-dc2d1b5d-cafb-4291-9329-0583adcb5223\", \n",
        "  \"releaseTag\": \"awardNotice\", \n",
        "  \"value\": 24406.0\n",
        " }, \n",
        " {\n",
        "  \"releaseDate\": \"2014-07-26\", \n",
        "  \"releaseID\": \"Buyandsell.gc.ca-2014-07-26-c9da2ebb-8981-47a4-82c6-22ac6d4ed928\", \n",
        "  \"releaseTag\": \"contractAmendment\", \n",
        "  \"value\": null\n",
        " }\n",
        "]\n"
       ]
      }
     ],
     "prompt_number": 18
    },
    {
     "cell_type": "code",
     "collapsed": false,
     "input": [
      "print 'compiled: ' + str(demo_record['compiledRelease']['awards'][2]['awardDate'])\n",
      "print 'versioned: ' + json.dumps(demo_record['versionedRelease']['awards'][2]['awardDate'], indent=1)\n",
      "print 'The award date changed between the release of the contract history and the award notice'"
     ],
     "language": "python",
     "metadata": {},
     "outputs": [
      {
       "output_type": "stream",
       "stream": "stdout",
       "text": [
        "compiled: 2013-06-10\n",
        "versioned: [\n",
        " {\n",
        "  \"releaseDate\": \"2014-07-26\", \n",
        "  \"releaseID\": \"Buyandsell.gc.ca-20140918-303d545d-e07c-433a-bc59-6cb93dbff53f\", \n",
        "  \"releaseTag\": \"awardNotice\", \n",
        "  \"value\": \"2013-05-15\"\n",
        " }, \n",
        " {\n",
        "  \"releaseDate\": \"2014-07-26\", \n",
        "  \"releaseID\": \"Buyandsell.gc.ca-2014-07-26-3181a8bf-4d6c-4836-8456-b369509db12f\", \n",
        "  \"releaseTag\": \"contractAmendment\", \n",
        "  \"value\": \"2013-06-10\"\n",
        " }\n",
        "]\n",
        "The award date changed between the release of the contract history and the award notice\n"
       ]
      }
     ],
     "prompt_number": 19
    },
    {
     "cell_type": "code",
     "collapsed": false,
     "input": [
      "with open('../ocds_data/demo_record.json', 'wb') as f:\n",
      "    f.write(json.dumps(demo_record, indent=4))"
     ],
     "language": "python",
     "metadata": {},
     "outputs": [],
     "prompt_number": 20
    },
    {
     "cell_type": "heading",
     "level": 2,
     "metadata": {},
     "source": [
      "Run the whole thing"
     ]
    },
    {
     "cell_type": "code",
     "collapsed": false,
     "input": [
      "# uncomment if you're sure you want to do this (takes a long time)\n",
      "\"\"\"\n",
      "for record in records_only:\n",
      "    base = None\n",
      "    for release in record['releases']:\n",
      "        full_release = get_release(release['uid'], file_map[release['uri']])\n",
      "        base = jsonmerge.merge(base, full_release,release_schema)\n",
      "\n",
      "    record.update({\n",
      "        \"compiledRelease\": base\n",
      "    })\n",
      "\"\"\""
     ],
     "language": "python",
     "metadata": {},
     "outputs": [],
     "prompt_number": 34
    },
    {
     "cell_type": "code",
     "collapsed": false,
     "input": [
      "# uncomment if you're sure you want to do this (takes a long time)\n",
      "for record in records_only:\n",
      "    base = None\n",
      "    for release in record['releases']:\n",
      "        full_release = get_release(release['uid'], file_map[release['uri']])\n",
      "        base = jsonmerge.merge(base, full_release, versioned_release_schema)\n",
      "\n",
      "    record.update({\n",
      "        \"versionedRelease\": base\n",
      "    })"
     ],
     "language": "python",
     "metadata": {},
     "outputs": [],
     "prompt_number": 21
    },
    {
     "cell_type": "code",
     "collapsed": false,
     "input": [
      "records['records'] = records_only"
     ],
     "language": "python",
     "metadata": {},
     "outputs": [],
     "prompt_number": 22
    },
    {
     "cell_type": "code",
     "collapsed": false,
     "input": [
      "with open('../ocds_data/records_with_versioned_release.json', 'wb') as f:\n",
      "    f.write(json.dumps(records, indent=2))"
     ],
     "language": "python",
     "metadata": {},
     "outputs": [],
     "prompt_number": 23
    },
    {
     "cell_type": "code",
     "collapsed": false,
     "input": [],
     "language": "python",
     "metadata": {},
     "outputs": []
    }
   ],
   "metadata": {}
  }
 ]
}